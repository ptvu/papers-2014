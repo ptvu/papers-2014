{
 "metadata": {
  "name": ""
 },
 "nbformat": 3,
 "nbformat_minor": 0,
 "worksheets": [
  {
   "cells": [
    {
     "cell_type": "code",
     "collapsed": false,
     "input": [
      "import os"
     ],
     "language": "python",
     "metadata": {},
     "outputs": [],
     "prompt_number": 2
    },
    {
     "cell_type": "code",
     "collapsed": false,
     "input": [
      "path = '/Users/thekid/Empty/cleanup_nips_txt_1987_2013/'\n",
      "output_path = '/Users/thekid/Empty/lowercase_nips_txt_1987_2013/'\n",
      "for each in sorted(os.listdir(path)):\n",
      "    if not each.startswith('.'):\n",
      "        for filename in os.listdir(os.path.join(path, each)):\n",
      "            inputfile = os.path.join(path, each, filename)\n",
      "            outputfile = os.path.join(output_path, each, filename)\n",
      "            if not os.path.exists(os.path.join(output_path, each)):\n",
      "                os.makedirs(os.path.join(output_path, each))\n",
      "            with open(outputfile, 'wb') as curfile:\n",
      "                for line in open(inputfile, 'rb'):\n",
      "                    s = line.strip().lower()\n",
      "                    curfile.write(s + '\\n')"
     ],
     "language": "python",
     "metadata": {},
     "outputs": [],
     "prompt_number": 27
    },
    {
     "cell_type": "code",
     "collapsed": false,
     "input": [],
     "language": "python",
     "metadata": {},
     "outputs": []
    }
   ],
   "metadata": {}
  }
 ]
}