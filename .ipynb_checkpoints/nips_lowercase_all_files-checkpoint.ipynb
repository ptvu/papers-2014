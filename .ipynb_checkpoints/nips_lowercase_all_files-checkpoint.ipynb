{
 "metadata": {
  "name": ""
 },
 "nbformat": 3,
 "nbformat_minor": 0,
 "worksheets": [
  {
   "cells": [
    {
     "cell_type": "code",
     "collapsed": false,
     "input": [
      "import os"
     ],
     "language": "python",
     "metadata": {},
     "outputs": [],
     "prompt_number": 2
    },
    {
     "cell_type": "code",
     "collapsed": false,
     "input": [
      "path = '/Users/thekid/Empty/cleanup_nips_txt_1987_2013/'\n",
      "output_path = '/Users/thekid/Empty/lowercase_nips_txt_1987_2013/'\n",
      "for each in sorted(os.listdir(path)):\n",
      "    if not each.startswith('.'):\n",
      "        for filename in os.listdir(os.path.join(path, each)):\n",
      "            inputfile = os.path.join(path, each, filename)\n",
      "            outputfile = os.path.join(output_path, each, filename)\n",
      "            if not os.path.exists(os.path.join(output_path, each)):\n",
      "                os.makedirs(os.path.join(output_path, each))\n",
      "            with open(outputfile, 'wb') as curfile:\n",
      "                for line in open(inputfile, 'rb'):\n",
      "                    s = line.strip().lower()\n",
      "                    curfile.write(s + '\\n')"
     ],
     "language": "python",
     "metadata": {},
     "outputs": [],
     "prompt_number": 27
    },
    {
     "cell_type": "heading",
     "level": 1,
     "metadata": {},
     "source": [
      "Create Doc entity"
     ]
    },
    {
     "cell_type": "code",
     "collapsed": false,
     "input": [
      "import datetime\n",
      "import calendar\n",
      "path = '/Users/thekid/Empty/cleanup_nips_txt_1987_2013/'\n",
      "for each in sorted(os.listdir(path))[:2]:\n",
      "    if not each.startswith('.'):\n",
      "        for filename in os.listdir(os.path.join(path, each)):\n",
      "            inputfile = os.path.join(path, each, filename)\n",
      "            content = []\n",
      "            for line in open(inputfile, 'rb'):\n",
      "                content.append(line.strip());\n",
      "            content = ' '.join(content)\n",
      "            \n",
      "            dateTime = '%s-09-01' % each\n",
      "            dateTime = datetime.datetime.strptime(dateTime, \"%Y-%m-%d\")\n",
      "            unixTime = calendar.timegm(dateTime.utctimetuple())\n",
      "            \n",
      "            doc = {}\n",
      "            doc['content'] = content\n",
      "            doc['source'] = 'NIPS_%s' % each\n",
      "            doc['title'] = filename\n",
      "            doc['time'] = unixTime"
     ],
     "language": "python",
     "metadata": {},
     "outputs": [],
     "prompt_number": 21
    },
    {
     "cell_type": "heading",
     "level": 1,
     "metadata": {},
     "source": [
      "Make DB file"
     ]
    },
    {
     "cell_type": "code",
     "collapsed": false,
     "input": [],
     "language": "python",
     "metadata": {},
     "outputs": []
    }
   ],
   "metadata": {}
  }
 ]
}