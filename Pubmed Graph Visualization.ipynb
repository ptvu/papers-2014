{
 "metadata": {
  "name": "",
  "signature": "sha256:1659e10dd7e46147fc9574902d20ceb478a0390eb340318f1dfce7b6fc14d035"
 },
 "nbformat": 3,
 "nbformat_minor": 0,
 "worksheets": [
  {
   "cells": [
    {
     "cell_type": "code",
     "collapsed": false,
     "input": [
      "# Import data from graph\n",
      "import cPickle as pickle\n",
      "full_graph = pickle.load(open('pubmed_full_graph.pickle', 'rb'))\n",
      "index_of = dict([(value['query'], index) for index, value in enumerate(full_graph)])"
     ],
     "language": "python",
     "metadata": {},
     "outputs": [],
     "prompt_number": 22
    },
    {
     "cell_type": "code",
     "collapsed": false,
     "input": [
      "seed = 'parkinson'\n",
      "full_graph[index_of[seed]]"
     ],
     "language": "python",
     "metadata": {},
     "outputs": [
      {
       "metadata": {},
       "output_type": "pyout",
       "prompt_number": 23,
       "text": [
        "{'feature_query_id': 96978,\n",
        " 'query': 'parkinson',\n",
        " 'result': {'num_neg_documents': 8197428,\n",
        "  'num_pos_documents': 2572,\n",
        "  'topic_imaging': [('data', 0.0006102573996548678),\n",
        "   ('human', 0.00011901564218802292),\n",
        "   ('receptor', 8.861161196694904e-05),\n",
        "   ('patient', 8.853582125006863e-05),\n",
        "   ('effect', 5.5500978431142e-05),\n",
        "   ('protein', 4.616160227091156e-05),\n",
        "   ('rat', 3.543935442622668e-05),\n",
        "   ('treatment', 2.6702526395434528e-05),\n",
        "   ('children', 3.90287084208123e-13),\n",
        "   ('model', 2.977655737966019e-13)],\n",
        "  'total_time': 7.855560064315796}}"
       ]
      }
     ],
     "prompt_number": 23
    },
    {
     "cell_type": "code",
     "collapsed": false,
     "input": [
      "seed_another = 'arthritis'\n",
      "full_graph[index_of[seed_another]]"
     ],
     "language": "python",
     "metadata": {},
     "outputs": [
      {
       "metadata": {},
       "output_type": "pyout",
       "prompt_number": 24,
       "text": [
        "{'feature_query_id': 15210,\n",
        " 'query': 'arthritis',\n",
        " 'result': {'num_neg_documents': 8172216,\n",
        "  'num_pos_documents': 27784,\n",
        "  'topic_imaging': [('data', 0.006521092865324756),\n",
        "   ('tumor', 0.0014073944508981044),\n",
        "   ('treatment', 0.000958257107359099),\n",
        "   ('rat', 0.0008971270930346743),\n",
        "   ('patient', 0.0008639163061332676),\n",
        "   ('children', 0.0004683378622393283),\n",
        "   ('human', 9.4117494900813e-05),\n",
        "   ('level', 4.40445865433376e-05),\n",
        "   ('gene', 1.2788789624536125e-05),\n",
        "   ('analysis', 4.5436321948513166e-10)],\n",
        "  'total_time': 9.80488896369934}}"
       ]
      }
     ],
     "prompt_number": 24
    },
    {
     "cell_type": "code",
     "collapsed": false,
     "input": [
      "# Install GraphViz: http://www.graphviz.org/Download_macos.php\n",
      "# Also pip install pygraphviz "
     ],
     "language": "python",
     "metadata": {},
     "outputs": [],
     "prompt_number": 10
    },
    {
     "cell_type": "code",
     "collapsed": false,
     "input": [
      "# Do BFS and get partial nodes to draw\n",
      "from collections import deque\n",
      "import networkx as nx\n",
      "\n",
      "q = deque([full_graph[index_of[seed]]])\n",
      "n_nodes = 5000\n",
      "g = nx.Graph()\n",
      "g.add_node(seed, node_color='r')\n",
      "\n",
      "visited = {}\n",
      "while len(q) != 0 and n_nodes >= 0:\n",
      "    top = q.popleft()\n",
      "    if top['query'] in visited:\n",
      "        continue\n",
      "    visited[top['query']] = True\n",
      "    n_nodes -= 1\n",
      "    for neighbor, weight in top['result']['topic_imaging']:\n",
      "        if neighbor == top['query']:\n",
      "            continue\n",
      "        g.add_edge(top['query'], neighbor)\n",
      "        q.append(full_graph[index_of[neighbor]])\n",
      "print(\"Done\")\n",
      "print len(g.nodes()), len(g.edges())\n",
      "\n",
      "print(\"Rendering...\")\n",
      "nx.write_dot(g,\"graph.dot\")\n",
      "print(\"Done\")\n",
      "from subprocess import check_output\n",
      "out = check_output([\"sfdp -Tpng -Nstyle=filled -Nfillcolor=white -Ecolor=#00000020 -Gratio=fill -Goutputorder=edgesfirst -Goverlap=prism -size=50 graph.dot -o pubmed_%s.png\" % seed], shell=True)\n",
      "print out"
     ],
     "language": "python",
     "metadata": {},
     "outputs": [
      {
       "output_type": "stream",
       "stream": "stdout",
       "text": [
        "Done\n",
        "30 216\n",
        "Rendering...\n",
        "Done\n"
       ]
      },
      {
       "output_type": "stream",
       "stream": "stdout",
       "text": [
        "\n"
       ]
      }
     ],
     "prompt_number": 11
    },
    {
     "cell_type": "code",
     "collapsed": false,
     "input": [
      "# Command: sfdp -Tpng -Nstyle=filled -Nfillcolor=white -Ecolor=#00000020 -Gratio=fill -Goutputorder=edgesfirst -Goverlap=prism -size=50 nips_graph.dot -o nips_graph.png "
     ],
     "language": "python",
     "metadata": {},
     "outputs": [],
     "prompt_number": 6
    },
    {
     "cell_type": "heading",
     "level": 1,
     "metadata": {},
     "source": [
      "Clustering"
     ]
    },
    {
     "cell_type": "code",
     "collapsed": false,
     "input": [
      "seed = 'convex'\n",
      "from collections import deque\n",
      "import networkx as nx\n",
      "\n",
      "q = deque([full_graph[index_of[seed]]])\n",
      "g = nx.Graph()\n",
      "g.add_node(seed, node_color='r')\n",
      "\n",
      "visited = {}\n",
      "visited[seed] = True\n",
      "while len(q) != 0 and n_nodes >= 0:\n",
      "    top = q.popleft()\n",
      "    for neighbor, weight in top['result']['topic_imaging']:\n",
      "        if neighbor == top['query']:\n",
      "            continue\n",
      "        if neighbor in visited:\n",
      "            continue\n",
      "        visited[neighbor] = True\n",
      "        g.add_edge(top['query'], neighbor)\n",
      "        q.append(full_graph[index_of[neighbor]])\n",
      "print len(g.nodes()), len(g.edges()), g.nodes()\n",
      "\n",
      "print(\"Rendering...\")\n",
      "nx.write_dot(g,\"nips_cluster.dot\")\n",
      "print(\"Done\")\n",
      "from subprocess import check_output\n",
      "out = check_output([\"sfdp -Tpng -Nstyle=filled -Nfillcolor=white -Ecolor=#00000020 -Gratio=fill -Goutputorder=edgesfirst -Goverlap=prism -size=50 nips_cluster.dot -o nips_cluster.png\"], shell=True)\n",
      "print out"
     ],
     "language": "python",
     "metadata": {},
     "outputs": [
      {
       "output_type": "stream",
       "stream": "stdout",
       "text": [
        "85 84 ['cell', 'program', 'www', 'right', 'doctor', 'family', 'show', 'political', 'tax', 'site', 'voter', 'group', 'high', 'vote', 'computer', 'election', 'lawyer', 'convex', 'need', 'home', 'plan', 'children', 'film', 'web', 'terrorist', 'court', 'campaign', 'cup', 'federal', 'movie', 'decision', 'government', 'father', 'system', 'find', 'member', 'attack', 'book', 'run', 'market', 'money', 'bill', 'leader', 'friend', 'told', 'play', 'million', 'patient', 'business', 'information', 'season', 'company', 'night', 'palestinian', 'republican', 'game', 'part', 'stock', 'student', 'found', 'president', 'law', 'democratic', 'presidential', 'women', 'case', 'school', 'percent', 'look', 'hour', 'room', 'com', 'official', 'companies', 'drug', 'war', 'left', 'american', 'player', 'team', 'military', 'country', 'minutes', 'called', 'point']\n",
        "Rendering...\n",
        "Done\n"
       ]
      },
      {
       "output_type": "stream",
       "stream": "stdout",
       "text": [
        "\n"
       ]
      }
     ],
     "prompt_number": 7
    },
    {
     "cell_type": "code",
     "collapsed": false,
     "input": [],
     "language": "python",
     "metadata": {},
     "outputs": []
    }
   ],
   "metadata": {}
  }
 ]
}