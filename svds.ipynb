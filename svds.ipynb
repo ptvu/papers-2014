{
 "metadata": {
  "name": "",
  "signature": "sha256:494286022e776c782d9ced8e14d86f6642ece48b0cf6afa05ef6d208d23016c1"
 },
 "nbformat": 3,
 "nbformat_minor": 0,
 "worksheets": [
  {
   "cells": [
    {
     "cell_type": "code",
     "collapsed": false,
     "input": [
      "import numpy\n",
      "import scipy\n",
      "import pandas\n",
      "csv = pandas.read_csv('./docword.nips.txt', sep=' ', header=None, skiprows=3)\n",
      "csv = csv.values\n",
      "print 'Done loading CSV'\n",
      "print csv\n",
      "I = csv[:, 0] - 1\n",
      "J = csv[:, 1] - 1\n",
      "V = csv[:, 2]"
     ],
     "language": "python",
     "metadata": {},
     "outputs": [
      {
       "output_type": "stream",
       "stream": "stdout",
       "text": [
        "Done loading CSV\n",
        "[[    1     2     1]\n",
        " [    1    39     1]\n",
        " [    1    42     3]\n",
        " ..., \n",
        " [ 1500 12390     1]\n",
        " [ 1500 12393     1]\n",
        " [ 1500 12414     1]]\n"
       ]
      }
     ],
     "prompt_number": 8
    },
    {
     "cell_type": "code",
     "collapsed": false,
     "input": [
      "from scipy.sparse import *\n",
      "from scipy.sparse.linalg import *\n",
      "A = scipy.sparse.coo_matrix((V, (I, J)), dtype='float')\n",
      "P, D, QT = svds(A, k = 3)\n",
      "print A.shape\n",
      "print D"
     ],
     "language": "python",
     "metadata": {},
     "outputs": [
      {
       "output_type": "stream",
       "stream": "stdout",
       "text": [
        "(1500, 12419)\n",
        "[  747.09260345   814.07752047  1943.24379774]\n"
       ]
      }
     ],
     "prompt_number": 13
    },
    {
     "cell_type": "code",
     "collapsed": false,
     "input": [
      "import scipy\n",
      "from scipy.sparse import *\n",
      "from scipy.sparse.linalg import *\n",
      "\n",
      "skiprows = 3\n",
      "I = []\n",
      "J = []\n",
      "V = []\n",
      "with open('docword.nips.txt') as csvfile:\n",
      "    line_cnt = 0\n",
      "    for line in csvfile:\n",
      "        line_cnt = line_cnt + 1\n",
      "        if (line_cnt == 1):\n",
      "            num_rows = int(line.strip())\n",
      "        if (line_cnt == 2):\n",
      "            num_cols = int(line.strip())\n",
      "        if (line_cnt > skiprows):\n",
      "            row = line.strip().split(' ')\n",
      "            r, c, v = [int(e) for e in row]\n",
      "            I.append(r - 1)\n",
      "            J.append(c - 1)\n",
      "            V.append(v)\n",
      "\n",
      "A = scipy.sparse.coo_matrix((V, (I, J)), dtype='float')\n",
      "P, D, QT = svds(A, k = 11)\n",
      "print A.shape\n",
      "print D\n",
      "import pickle\n",
      "pickle.dump( (P, D, QT), open( \"lr.pickle\", \"wb\" ) )"
     ],
     "language": "python",
     "metadata": {},
     "outputs": [
      {
       "output_type": "stream",
       "stream": "stdout",
       "text": [
        "(1500, 12419)\n",
        "[  415.77862305   430.89550789   442.91355685   475.26397904   524.30051552\n",
        "   546.50202676   566.27907906   639.50835305   747.09260345   814.07752047\n",
        "  1943.24379774]\n"
       ]
      }
     ],
     "prompt_number": 23
    },
    {
     "cell_type": "code",
     "collapsed": false,
     "input": [
      "[x, y, z] = pickle.load( open( \"lr.pickle\", \"rb\" ) )"
     ],
     "language": "python",
     "metadata": {},
     "outputs": [],
     "prompt_number": 17
    },
    {
     "cell_type": "code",
     "collapsed": false,
     "input": [],
     "language": "python",
     "metadata": {},
     "outputs": []
    }
   ],
   "metadata": {}
  }
 ]
}