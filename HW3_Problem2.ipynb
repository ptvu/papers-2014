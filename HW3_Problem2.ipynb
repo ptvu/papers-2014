{
 "metadata": {
  "language": "Julia",
  "name": "",
  "signature": "sha256:f4c0f9c3791b643207434afd2fec9cfb38bd32374b70dc2f53e7dc574e35979a"
 },
 "nbformat": 3,
 "nbformat_minor": 0,
 "worksheets": [
  {
   "cells": [
    {
     "cell_type": "heading",
     "level": 1,
     "metadata": {},
     "source": [
      "Problem 2"
     ]
    },
    {
     "cell_type": "code",
     "collapsed": false,
     "input": [
      "#load mnist data\n",
      "const X_train = readdlm(\"train.data\");\n",
      "const y_train = readdlm(\"train.labels\");\n",
      "const X_test = readdlm(\"test.data\");\n",
      "const y_test = readdlm(\"test.labels\");"
     ],
     "language": "python",
     "metadata": {},
     "outputs": [
      {
       "output_type": "stream",
       "stream": "stderr",
       "text": [
        "Warning: redefining constant X_train\n"
       ]
      },
      {
       "output_type": "stream",
       "stream": "stderr",
       "text": [
        "Warning: redefining constant y_train\n",
        "Warning: redefining constant X_test\n",
        "Warning: redefining constant y_test\n"
       ]
      }
     ],
     "prompt_number": 3
    },
    {
     "cell_type": "code",
     "collapsed": false,
     "input": [
      "println(size(X_train), size(y_train), size(X_test), size(y_test))"
     ],
     "language": "python",
     "metadata": {},
     "outputs": [
      {
       "output_type": "stream",
       "stream": "stdout",
       "text": [
        "("
       ]
      },
      {
       "output_type": "stream",
       "stream": "stdout",
       "text": [
        "12396,784)(12396,1)(2038,784)(2038,1)\n"
       ]
      }
     ],
     "prompt_number": 4
    },
    {
     "cell_type": "heading",
     "level": 1,
     "metadata": {},
     "source": [
      "Prepare target as a matrix $n$-by-$2$"
     ]
    },
    {
     "cell_type": "markdown",
     "metadata": {},
     "source": [
      "From the performance on the validation set, we can choose $\\lambda = 10$ to minimize the misclassification error. The accuracy on the validation set is $0.9847890088321885$, hence the misclassification error is $1.52\\%$."
     ]
    },
    {
     "cell_type": "code",
     "collapsed": false,
     "input": [
      "# y[i,:] = [1, -1] if label[i] == 3 and y[i, :] = [-1, 1] if label[i] == 7\n",
      "function prepare_target(y)\n",
      "    target = Array(Float64, size(y)[1], 2);\n",
      "    for i = 1 : size(y)[1]\n",
      "        if y[i] == 3\n",
      "            target[i,1] = 1;\n",
      "            target[i,2] = -1;\n",
      "        else\n",
      "            target[i,1] = -1;\n",
      "            target[i,2] = 1;\n",
      "        end\n",
      "    end\n",
      "    return target\n",
      "end\n",
      "\n",
      "y = prepare_target(y_train);\n",
      "FtF = X_train' * X_train;\n",
      "Fty = X_train' * y;"
     ],
     "language": "python",
     "metadata": {},
     "outputs": [],
     "prompt_number": 99
    },
    {
     "cell_type": "code",
     "collapsed": false,
     "input": [
      "function compute_w_opt(FtF, Fty, y, lambda)\n",
      "    n = size(y)[1];\n",
      "    size_d = size(FtF);\n",
      "    w_opt = (FtF + n * lambda * eye(size_d[1], size_d[2])) \\ Fty;\n",
      "    return w_opt;\n",
      "end\n",
      "\n",
      "function target_to_label(y)\n",
      "    l = zeros(size(y)[1], 1);\n",
      "    for i = 1 : size(l)[1]\n",
      "        if y[i, 1] >= y[i, 2]\n",
      "            l[i, 1] = 3;\n",
      "        else\n",
      "            l[i, 1] = 7;\n",
      "        end\n",
      "    end\n",
      "    return l;\n",
      "end\n",
      "\n",
      "lambda = 1e1;\n",
      "w_opt = compute_w_opt(FtF, Fty, y, lambda);\n",
      "evaluate_accuracy(target_to_label(X_train * w_opt), y_train)\n",
      "\n",
      "lambdas = [1e-4 1e-3 1e-2 1e-1 1e0 1e1 1e2 1e3 1e4];\n",
      "for k = 1 : size(lambdas)[2]\n",
      "    lambda = lambdas[1, k];\n",
      "    w_opt = compute_w_opt(FtF, Fty, y, lambda);\n",
      "    performance_on_train_set = evaluate_accuracy(target_to_label(X_train * w_opt), y_train)\n",
      "    performance_on_test_set = evaluate_accuracy(target_to_label(X_test * w_opt), y_test);\n",
      "    println([lambda performance_on_train_set performance_on_test_set]);    \n",
      "end"
     ],
     "language": "python",
     "metadata": {},
     "outputs": [
      {
       "output_type": "stream",
       "stream": "stdout",
       "text": [
        "["
       ]
      },
      {
       "output_type": "stream",
       "stream": "stdout",
       "text": [
        "0.0001 0.9871732817037754 0.9838076545632973]\n"
       ]
      },
      {
       "output_type": "stream",
       "stream": "stdout",
       "text": [
        "[0.001 0.9871732817037754 0.9838076545632973]\n"
       ]
      },
      {
       "output_type": "stream",
       "stream": "stdout",
       "text": [
        "[0.01 0.9870926105195225 0.9838076545632973]\n"
       ]
      },
      {
       "output_type": "stream",
       "stream": "stdout",
       "text": [
        "[0.1 0.9870926105195225 0.9838076545632973]\n",
        "[1.0 0.9871732817037754 0.9842983316977428]\n"
       ]
      },
      {
       "output_type": "stream",
       "stream": "stdout",
       "text": [
        "[10.0 0.9872539528880284 0.9847890088321885]\n",
        "[100.0 0.9869312681510165 0.9847890088321885]\n"
       ]
      },
      {
       "output_type": "stream",
       "stream": "stdout",
       "text": [
        "[1000.0 0.9859632139399807 0.9828263002944063]\n"
       ]
      },
      {
       "output_type": "stream",
       "stream": "stdout",
       "text": [
        "[10000.0 0.9828977089383673 0.978900883218842]\n"
       ]
      }
     ],
     "prompt_number": 100
    },
    {
     "cell_type": "heading",
     "level": 1,
     "metadata": {},
     "source": [
      "Prepare target as a vector: -1 for digit 3 and 1 for digit 7"
     ]
    },
    {
     "cell_type": "code",
     "collapsed": false,
     "input": [
      "function prepare_target_vector(y)\n",
      "    target = zeros(y);\n",
      "    for i = 1 : size(y)[1]\n",
      "        if y[i] == 7\n",
      "            target[i,1] = 1;\n",
      "        else\n",
      "            target[i,1] = -1;\n",
      "        end\n",
      "    end\n",
      "    return target;\n",
      "end\n",
      "\n",
      "y = prepare_target_vector(y_train);\n",
      "FtF = X_train' * X_train;\n",
      "Fty = X_train' * y;"
     ],
     "language": "python",
     "metadata": {},
     "outputs": [],
     "prompt_number": 97
    },
    {
     "cell_type": "code",
     "collapsed": false,
     "input": [
      "function compute_w_opt(FtF, Fty, y, lambda)\n",
      "    n = size(y)[1];\n",
      "    size_d = size(FtF);\n",
      "    w_opt = (FtF + n * lambda * eye(size_d[1], size_d[2])) \\ Fty;\n",
      "    return w_opt;\n",
      "end\n",
      "\n",
      "function vector_to_label(y)\n",
      "    l = zeros(y);\n",
      "    for i = 1 : size(l)[1]\n",
      "        if y[i, 1] >= 0\n",
      "            l[i, 1] = 7;\n",
      "        else\n",
      "            l[i, 1] = 3;\n",
      "        end\n",
      "    end\n",
      "    return l;\n",
      "end\n",
      "\n",
      "function evaluate_accuracy(predicted, true_label) \n",
      "    n = size(true_label)[1];\n",
      "    accuracy = 0.0;\n",
      "    for i = 1 : n\n",
      "        if predicted[i] == true_label[i]\n",
      "            accuracy += 1;\n",
      "        end\n",
      "    end\n",
      "    return accuracy / n;\n",
      "end\n",
      "\n",
      "lambdas = [1e-4 1e-3 1e-2 1e-1 1e0 1e1 1e2 1e3 1e4];\n",
      "for k = 1 : size(lambdas)[2]\n",
      "    lambda = lambdas[1, k];\n",
      "    w_opt = compute_w_opt(FtF, Fty, y, lambda);\n",
      "    performance_on_train_set = evaluate_accuracy(vector_to_label(X_train * w_opt), y_train);\n",
      "    performance_on_test_set = evaluate_accuracy(vector_to_label(X_test * w_opt), y_test);\n",
      "    println([lambda performance_on_train_set performance_on_test_set]);\n",
      "end"
     ],
     "language": "python",
     "metadata": {},
     "outputs": [
      {
       "output_type": "stream",
       "stream": "stdout",
       "text": [
        "["
       ]
      },
      {
       "output_type": "stream",
       "stream": "stdout",
       "text": [
        "0.0001 0.9871732817037754 0.9838076545632973]\n",
        "[0.001 0.9871732817037754 0.9838076545632973]\n"
       ]
      },
      {
       "output_type": "stream",
       "stream": "stdout",
       "text": [
        "[0.01 0.9870926105195225 0.9838076545632973]\n"
       ]
      },
      {
       "output_type": "stream",
       "stream": "stdout",
       "text": [
        "[0.1 0.9870926105195225 0.9838076545632973]\n"
       ]
      },
      {
       "output_type": "stream",
       "stream": "stdout",
       "text": [
        "[1.0 0.9871732817037754 0.9842983316977428]\n",
        "[10.0 0.9872539528880284 0.9847890088321885]\n"
       ]
      },
      {
       "output_type": "stream",
       "stream": "stdout",
       "text": [
        "[100.0 0.9869312681510165 0.9847890088321885]\n",
        "[1000.0 0.9859632139399807 0.9828263002944063]\n",
        "["
       ]
      },
      {
       "output_type": "stream",
       "stream": "stdout",
       "text": [
        "10000.0 0.9828977089383673 0.978900883218842]\n"
       ]
      }
     ],
     "prompt_number": 98
    },
    {
     "cell_type": "code",
     "collapsed": false,
     "input": [],
     "language": "python",
     "metadata": {},
     "outputs": []
    }
   ],
   "metadata": {}
  }
 ]
}