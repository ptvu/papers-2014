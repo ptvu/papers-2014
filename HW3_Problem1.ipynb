{
 "metadata": {
  "language": "Julia",
  "name": "",
  "signature": "sha256:82aab6cbd9c641d4795e5d1935dcf698fc4f522c0e6caee8405699b403ecbf08"
 },
 "nbformat": 3,
 "nbformat_minor": 0,
 "worksheets": [
  {
   "cells": [
    {
     "cell_type": "heading",
     "level": 1,
     "metadata": {},
     "source": [
      "Homework 3 - Problem 1"
     ]
    },
    {
     "cell_type": "code",
     "collapsed": false,
     "input": [
      "#problem1.jl\n",
      "function sample()\n",
      "  x = randn(2)\n",
      "  x = x/norm(x) #sample from the 2 sphere uniformally at random.\n",
      "  y = 0.0;\n",
      "  for i = 1:2\n",
      "    y += x[i]\n",
      "    y += x[i]*x[i]\n",
      "    y += x[i]*x[i]*x[i]\n",
      "    y += ifelse(x[i] > 0.0, x[i],0.0)\n",
      "  end\n",
      "  return (x,y+(rand()-0.5))\n",
      "end\n",
      "\n",
      "\n",
      "#this function featurizes an input x.\n",
      "#in the notation of the slides, phi(x) = (phi_1(x), \\ldots, phi_d(x))\n",
      "const d = 250\n",
      "const R = randn(d,2)\n",
      "function phi(x)\n",
      "  result = Array(Float64,d)\n",
      "  A_mul_B!(result,R,x)\n",
      "  @simd for i = 1:d\n",
      "    @inbounds result[i] = ifelse(result[i] > 0.0, result[i], 0.0)\n",
      "  end\n",
      "  return result\n",
      "end\n"
     ],
     "language": "python",
     "metadata": {},
     "outputs": [
      {
       "metadata": {},
       "output_type": "pyout",
       "prompt_number": 89,
       "text": [
        "phi (generic function with 1 method)"
       ]
      },
      {
       "output_type": "stream",
       "stream": "stderr",
       "text": [
        "Warning: redefining constant R\n"
       ]
      }
     ],
     "prompt_number": 89
    },
    {
     "cell_type": "heading",
     "level": 1,
     "metadata": {},
     "source": [
      "Step 1, 2, 3"
     ]
    },
    {
     "cell_type": "code",
     "collapsed": false,
     "input": [
      "function summarizer(n)\n",
      "    FtF = zeros(d, d);\n",
      "    Fty = zeros(d, 1);\n",
      "    y = zeros(n, 1);\n",
      "    for i = 1 : n\n",
      "        (xi, yi) = sample();\n",
      "        fi = phi(xi);\n",
      "        # FtF += fi*fi';\n",
      "        Base.LinAlg.BLAS.syrk!('U','N',1.0,fi,1.0,FtF);\n",
      "        Base.LinAlg.BLAS.syrk!('L','N',1.0,fi,1.0,FtF);\n",
      "        for k = 1 : size(fi, 1)\n",
      "            FtF[k, k] -= fi[k, 1] * fi[k, 1];\n",
      "        end\n",
      "        Fty += yi * fi;\n",
      "        y[i, 1] = yi;\n",
      "    end\n",
      "    return (FtF, Fty, y)\n",
      "end\n",
      "\n",
      "function evaluate(w, FtF, Fty, y)\n",
      "    n = size(y)[1];\n",
      "    mse = 1.0 / n * (w' * FtF * w - 2 * Fty' * w + y' * y);\n",
      "    return mse;\n",
      "end\n",
      "\n",
      "function compute_w_opt(FtF, Fty, y, lambda)\n",
      "    n = size(y)[1];\n",
      "    size_d = size(FtF);\n",
      "    w_opt = (FtF + n * lambda * eye(size_d[1], size_d[2])) \\ Fty;    \n",
      "end"
     ],
     "language": "python",
     "metadata": {},
     "outputs": [
      {
       "metadata": {},
       "output_type": "pyout",
       "prompt_number": 132,
       "text": [
        "compute_w_opt (generic function with 2 methods)"
       ]
      }
     ],
     "prompt_number": 132
    },
    {
     "cell_type": "heading",
     "level": 4,
     "metadata": {},
     "source": [
      "Create validation set"
     ]
    },
    {
     "cell_type": "code",
     "collapsed": false,
     "input": [
      "validation_set = summarizer(10000);"
     ],
     "language": "python",
     "metadata": {},
     "outputs": [],
     "prompt_number": 133
    },
    {
     "cell_type": "heading",
     "level": 4,
     "metadata": {},
     "source": [
      "Question 1"
     ]
    },
    {
     "cell_type": "markdown",
     "metadata": {},
     "source": [
      "With $n=1000$, we will choose $\\lambda_{\\mbox{best}} = 0.01$ with $\\mbox{MSE}_{\\mbox{validation}} (\\lambda_{\\mbox{best}}) = 7.183791448420834$. If we simply use all-zero vectors, the MSE would be $11.76630983977659$."
     ]
    },
    {
     "cell_type": "code",
     "collapsed": false,
     "input": [
      "# Create training set of size n = 1000\n",
      "train_set_1000 = summarizer(1000);"
     ],
     "language": "python",
     "metadata": {},
     "outputs": [],
     "prompt_number": 134
    },
    {
     "cell_type": "code",
     "collapsed": false,
     "input": [
      "FtF, Fty, y = train_set_1000;\n",
      "lambdas = [0.0 1e-3 1e-2 1e-1 1e0 1e1 1e2 1e3];\n",
      "for k = 1 : size(lambdas, 2)\n",
      "    lambda = lambdas[1, k]\n",
      "    w_lambda = compute_w_opt(FtF, Fty, y, lambda);\n",
      "    performance_on_train_set = evaluate(w_lambda, FtF, Fty, y);\n",
      "    performance_on_validation_set = evaluate(w_lambda, validation[1], validation[2], validation[3]);\n",
      "    performance_of_zeros_vector = evaluate(zeros(size(w_lambda)), validation[1], validation[2], validation[3]);\n",
      "    println([lambda, performance_on_train_set, performance_on_validation_set, performance_of_zeros_vector])\n",
      "end"
     ],
     "language": "python",
     "metadata": {},
     "outputs": [
      {
       "output_type": "stream",
       "stream": "stdout",
       "text": [
        "["
       ]
      },
      {
       "output_type": "stream",
       "stream": "stdout",
       "text": [
        "0.0\n",
        " 0.10824594075542154\n",
        " 1.8097970732832388e11\n",
        " 11.76630983977659]\n",
        "[0.001\n",
        " 0.1423720487823939\n",
        " 7.589417778360178\n",
        " 11.76630983977659]\n",
        "[0.01\n",
        " 0.14334507328932158\n",
        " 7.183791448420834\n",
        " 11.76630983977659]\n",
        "[0.1\n",
        " 0.1449649463822034\n",
        " 7.685886773426342\n",
        " 11.76630983977659]\n",
        "[1.0\n",
        " 0.15608325468971088\n",
        " 7.930721452382477\n",
        " 11.76630983977659]\n",
        "[10.0\n",
        " 0.5712734934997424\n",
        " 8.358644673420114\n",
        " 11.76630983977659]\n",
        "[100.0\n",
        " 4.32402384864086\n",
        " 10.162227373957927\n",
        " 11.76630983977659]\n",
        "[1000.0\n",
        " 7.205798195714415\n",
        " 11.515951650458316\n",
        " 11.76630983977659]\n"
       ]
      }
     ],
     "prompt_number": 138
    },
    {
     "cell_type": "heading",
     "level": 4,
     "metadata": {},
     "source": [
      "Question 2"
     ]
    },
    {
     "cell_type": "markdown",
     "metadata": {},
     "source": [
      "With $n=1000000$, we will choose $\\lambda_{\\mbox{best}} = 0.1$ with $\\mbox{MSE}_{\\mbox{validation}} (\\lambda_{\\mbox{best}}) = 4.956679676989407$. This is better than the previous performance $\\mbox{MSE}_{\\mbox{validation}}^{(n=1000)} (\\lambda_{\\mbox{best}}) = 7.183791448420834$"
     ]
    },
    {
     "cell_type": "code",
     "collapsed": false,
     "input": [
      "# Create training set of size n = 1000000\n",
      "train_set_1_million = summarizer(1000000);"
     ],
     "language": "python",
     "metadata": {},
     "outputs": [],
     "prompt_number": 113
    },
    {
     "cell_type": "code",
     "collapsed": false,
     "input": [
      "FtF, Fty, y = train_set_1_million;\n",
      "lambdas = [0.0 1e-3 1e-2 1e-1 1e0 1e1 1e2 1e3];\n",
      "for k = 1 : size(lambdas, 2)\n",
      "    lambda = lambdas[1, k]\n",
      "    w_lambda = compute_w_opt(FtF, Fty, lambda);\n",
      "    performance_on_train_set = evaluate(w_lambda, FtF, Fty, y);\n",
      "    performance_on_validation_set = evaluate(w_lambda, validation[1], validation[2], validation[3]);\n",
      "    performance_of_zeros_vector = evaluate(zeros(size(w_lambda)), validation[1], validation[2], validation[3]);\n",
      "    println([lambda, performance_on_train_set, performance_on_validation_set, performance_of_zeros_vector])\n",
      "end"
     ],
     "language": "python",
     "metadata": {},
     "outputs": [
      {
       "output_type": "stream",
       "stream": "stdout",
       "text": [
        "["
       ]
      },
      {
       "output_type": "stream",
       "stream": "stdout",
       "text": [
        "0.0\n",
        " 0.14592001610085367\n",
        " 8.18655376876819e6\n",
        " 11.76630983977659]\n",
        "[0.001\n",
        " 0.145925110110376\n",
        " 164.81177495585106\n",
        " 11.76630983977659]\n",
        "[0.01\n",
        " 0.1459308009369159\n",
        " 48.51720501470543\n",
        " 11.76630983977659]\n",
        "[0.1\n",
        " 0.14593760145845544\n",
        " 9.31228588169744\n",
        " 11.76630983977659]\n",
        "[1.0\n",
        " 0.14594262119102663\n",
        " 4.956679676989407\n",
        " 11.76630983977659]\n",
        "[10.0\n",
        " 0.1459472411126867\n",
        " 6.37666069304536\n",
        " 11.76630983977659]\n",
        "[100.0\n",
        " 0.1459519199683955\n",
        " 7.043412874326588\n",
        " 11.76630983977659]\n",
        "[1000.0\n",
        " 0.14596071991890947\n",
        " 7.537409334282209\n",
        " 11.76630983977659]\n"
       ]
      }
     ],
     "prompt_number": 140
    },
    {
     "cell_type": "heading",
     "level": 4,
     "metadata": {},
     "source": [
      "Question 3"
     ]
    },
    {
     "cell_type": "markdown",
     "metadata": {},
     "source": [
      "If we had stored the entire training set for $n = 10^6$, we will need to store $n(d + 1) = 10^6 \\times 251$ float64 variables. This amounts to 1.87 GB of memory."
     ]
    },
    {
     "cell_type": "heading",
     "level": 4,
     "metadata": {},
     "source": [
      "Question 4"
     ]
    },
    {
     "cell_type": "markdown",
     "metadata": {},
     "source": [
      "For $n=10^6$, the summary of the training set are three matrices and vectors: FtF, Fty, y of size $d \\times d, d \\times 1, n \\times 1$ respectively. These are 1062750 float64 variables in total, which amounts to 8 MB of memory."
     ]
    },
    {
     "cell_type": "heading",
     "level": 4,
     "metadata": {},
     "source": [
      "Question 5"
     ]
    },
    {
     "cell_type": "markdown",
     "metadata": {},
     "source": [
      "The posterior distribution $p(y | x)$ is a uniform distribution over $[f(x_1) + f(x_2) - 0.5, f(x_1) + f(x_2) + 0.5]$ where $f(t) \\triangleq t + t^2 + t^3 + \\max(t, 0)$."
     ]
    },
    {
     "cell_type": "heading",
     "level": 4,
     "metadata": {},
     "source": [
      "Question 6"
     ]
    },
    {
     "cell_type": "markdown",
     "metadata": {},
     "source": [
      "The function $\\phi( \\cdot )$ is defined as $\\phi(x) \\triangleq \\max(Rx, 0)$ where $R$ is a constant $d$-by-$2$ matrix (whose entries are Gaussian with mean $0$ and standard deviation $1$). Hence $y|\\phi(x)$ isn't distributed as Gaussian."
     ]
    },
    {
     "cell_type": "heading",
     "level": 4,
     "metadata": {},
     "source": [
      "Question 7"
     ]
    },
    {
     "cell_type": "markdown",
     "metadata": {},
     "source": [
      "Let's define $g(x) := f(x_1) + f(x_2)$, where $f(t) \\triangleq t + t^2 + t^3 + \\max(t, 0)$. We thus have y given x is uniformly distributed on $[g(x) - 0.5, g(x) + 0.5]$. Given a featurized data $f_i = \\phi(x_i)$, assuming the inverse of $\\phi$ exists, we have the best possible estimator of $y$ is $$\\hat{y} (f_i) = g(\\phi^{-1}(f_i)).$$\n",
      "The expected loss in terms of squared error would be $$\\mathbb{E}_y[(\\hat{y} - y)^2] = \\int_{-0.5}^{0.5} (0 - z)^2 dz = \\frac{1}{12} = 0.08333333333$$"
     ]
    },
    {
     "cell_type": "heading",
     "level": 4,
     "metadata": {},
     "source": [
      "Question 8"
     ]
    },
    {
     "cell_type": "markdown",
     "metadata": {},
     "source": [
      "We can choose a better featurizer as follows. $\\phi_{\\mbox{better}}(x) := f(x_1) + f(x_2)$ where $f(t) \\triangleq t + t^2 + t^3 + \\max(t, 0)$.\n",
      "\n",
      "With $n_{\\mbox{ntrain}}=1000$, we will choose $\\lambda_{\\mbox{best}} = 0.01$ with $\\mbox{MSE}_{\\mbox{validation}} (\\lambda_{\\mbox{best}}) = 0.08284139212897135$. If we simply use all-zero vectors, the MSE would be $7.89319015330739$ (in this question we have a different validation set)."
     ]
    },
    {
     "cell_type": "code",
     "collapsed": false,
     "input": [
      "function better_phi(x)\n",
      "    result = 0.0;\n",
      "    for i = 1:2\n",
      "        result += x[i]\n",
      "        result += x[i]*x[i]\n",
      "        result += x[i]*x[i]*x[i]\n",
      "        result += ifelse(x[i] > 0.0, x[i],0.0)\n",
      "    end\n",
      "    return [result];\n",
      "end\n",
      "\n",
      "function better_summarizer(n)\n",
      "    d = 1;\n",
      "    FtF = zeros(d, d);\n",
      "    Fty = zeros(d, 1);\n",
      "    y = zeros(n, 1);\n",
      "    for i = 1 : n\n",
      "        (xi, yi) = sample();\n",
      "        fi = better_phi(xi);\n",
      "        # FtF += fi*fi';\n",
      "        Base.LinAlg.BLAS.syrk!('U','N',1.0,fi,1.0,FtF);\n",
      "        Base.LinAlg.BLAS.syrk!('L','N',1.0,fi,1.0,FtF);\n",
      "        for k = 1 : size(fi, 1)\n",
      "            FtF[k, k] -= fi[k, 1] * fi[k, 1];\n",
      "        end\n",
      "        Fty += yi * fi;\n",
      "        y[i, 1] = yi;\n",
      "    end\n",
      "    return (FtF, Fty, y)\n",
      "end"
     ],
     "language": "python",
     "metadata": {},
     "outputs": [
      {
       "metadata": {},
       "output_type": "pyout",
       "prompt_number": 147,
       "text": [
        "better_summarizer (generic function with 1 method)"
       ]
      }
     ],
     "prompt_number": 147
    },
    {
     "cell_type": "code",
     "collapsed": false,
     "input": [
      "# Create validation set of size n = 10000\n",
      "better_validation_set = better_summarizer(10000);"
     ],
     "language": "python",
     "metadata": {},
     "outputs": [],
     "prompt_number": 165
    },
    {
     "cell_type": "code",
     "collapsed": false,
     "input": [
      "# Create training set of size n = 1000\n",
      "better_train_set_1000 = better_summarizer(1000);"
     ],
     "language": "python",
     "metadata": {},
     "outputs": [],
     "prompt_number": 166
    },
    {
     "cell_type": "code",
     "collapsed": false,
     "input": [
      "FtF, Fty, y = better_train_set_1000;\n",
      "lambdas = [0.0 1e-3 1e-2 1e-1 1e0 1e1 1e2 1e3];\n",
      "for k = 1 : size(lambdas, 2)\n",
      "    lambda = lambdas[1, k]\n",
      "    w_lambda = compute_w_opt(FtF, Fty, y, lambda);\n",
      "    performance_on_train_set = evaluate(w_lambda, FtF, Fty, y);\n",
      "    performance_on_validation_set = evaluate(w_lambda, better_validation_set[1], better_validation_set[2], better_validation_set[3]);\n",
      "    performance_of_zeros_vector = evaluate(zeros(size(w_lambda)), better_validation_set[1], better_validation_set[2], better_validation_set[3]);\n",
      "    println([lambda, performance_on_train_set, performance_on_validation_set, performance_of_zeros_vector])\n",
      "end"
     ],
     "language": "python",
     "metadata": {},
     "outputs": [
      {
       "output_type": "stream",
       "stream": "stdout",
       "text": [
        "["
       ]
      },
      {
       "output_type": "stream",
       "stream": "stdout",
       "text": [
        "0.0\n",
        " 0.0852349934654585\n",
        " 0.08289361250020594\n",
        " 7.89319015330739]\n",
        "[0.001\n",
        " 0.0852351240478738\n",
        " 0.08288718618058338\n",
        " 7.89319015330739]\n",
        "[0.01\n",
        " 0.08524802115180956\n",
        " 0.08284139212897135\n",
        " 7.89319015330739]\n",
        "[0.1\n",
        " 0.08650778800065564\n",
        " 0.08354530698679155\n",
        " 7.89319015330739]\n",
        "[1.0\n",
        " 0.18748329306791583\n",
        " 0.18146730787019189\n",
        " 7.89319015330739]\n",
        "[10.0\n",
        " 2.5491994271970126\n",
        " 2.5696898480405843\n",
        " 7.89319015330739]\n",
        "[100.0\n",
        " 6.726503065402534\n",
        " 6.815722991295243\n",
        " 7.89319015330739]\n",
        "[1000.0\n",
        " 7.668603629043376\n",
        " 7.774240043435429\n",
        " 7.89319015330739]\n"
       ]
      }
     ],
     "prompt_number": 167
    },
    {
     "cell_type": "code",
     "collapsed": false,
     "input": [],
     "language": "python",
     "metadata": {},
     "outputs": []
    }
   ],
   "metadata": {}
  }
 ]
}