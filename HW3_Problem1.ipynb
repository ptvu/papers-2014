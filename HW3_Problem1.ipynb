{
 "metadata": {
  "language": "Julia",
  "name": "",
  "signature": "sha256:b175e130264531678bae6f9a621ce50e71ee4b787910f4f128a6c2b2edc191f9"
 },
 "nbformat": 3,
 "nbformat_minor": 0,
 "worksheets": [
  {
   "cells": [
    {
     "cell_type": "heading",
     "level": 1,
     "metadata": {},
     "source": [
      "Homework 3 - Problem 1"
     ]
    },
    {
     "cell_type": "code",
     "collapsed": false,
     "input": [
      "clear\n",
      "#problem1.jl\n",
      "function sample()\n",
      "  x = randn(2)\n",
      "  x = x/norm(x) #sample from the 2 sphere uniformally at random.\n",
      "  y = 0.0;\n",
      "  for i = 1:2\n",
      "    y += x[i]\n",
      "    y += x[i]*x[i]\n",
      "    y += x[i]*x[i]*x[i]\n",
      "    y += ifelse(x[i] > 0.0, x[i],0.0)\n",
      "  end\n",
      "  return (x,y+(rand()-0.5))\n",
      "end\n",
      "\n",
      "\n",
      "#this function featurizes an input x.\n",
      "#in the notation of the slides, phi(x) = (phi_1(x), \\ldots, phi_d(x))\n",
      "const d = 250\n",
      "const R = randn(d,2)\n",
      "function phi(x)\n",
      "  result = Array(Float64,d)\n",
      "  A_mul_B!(result,R,x)\n",
      "  @simd for i = 1:d\n",
      "    @inbounds result[i] = ifelse(result[i] > 0.0, result[i], 0.0)\n",
      "  end\n",
      "  return result\n",
      "end\n"
     ],
     "language": "python",
     "metadata": {},
     "outputs": [
      {
       "ename": "LoadError",
       "evalue": "clear not defined\nwhile loading In[33], in expression starting on line 1",
       "output_type": "pyerr",
       "traceback": [
        "clear not defined\nwhile loading In[33], in expression starting on line 1",
        ""
       ]
      }
     ],
     "prompt_number": 33
    },
    {
     "cell_type": "heading",
     "level": 1,
     "metadata": {},
     "source": [
      "Step 1, 2, 3"
     ]
    },
    {
     "cell_type": "code",
     "collapsed": false,
     "input": [
      "function summarizer(n)\n",
      "    FtF = zeros(d, d);\n",
      "    Fty = zeros(d, 1);\n",
      "    y = zeros(n, 1);\n",
      "    for i = 1 : n\n",
      "        (xi, yi) = sample();\n",
      "        fi = phi(xi);\n",
      "        # FtF += fi*fi';\n",
      "        Base.LinAlg.BLAS.syrk!('U','N',1.0,fi,1.0,FtF);\n",
      "        Base.LinAlg.BLAS.syrk!('L','N',1.0,fi,1.0,FtF);\n",
      "        for k = 1 : size(fi, 1)\n",
      "            FtF[k, k] -= fi[k, 1] * fi[k, 1];\n",
      "        end\n",
      "        Fty += yi * fi;\n",
      "        y[i, 1] = yi;\n",
      "    end\n",
      "    return (FtF, Fty, y)\n",
      "end\n",
      "\n",
      "function evaluate(w, FtF, Fty, y)\n",
      "    n = size(y)[1];\n",
      "    mse = 1.0 / n * (w' * FtF * w - 2 * Fty' * w + y' * y);\n",
      "    return mse;\n",
      "end\n",
      "\n",
      "function compute_w_opt(FtF, Fty, lambda)\n",
      "    size_d = size(FtF)\n",
      "    w_opt = (FtF + lambda * eye(size_d[1], size_d[2])) \\ Fty;    \n",
      "end"
     ],
     "language": "python",
     "metadata": {},
     "outputs": [
      {
       "metadata": {},
       "output_type": "pyout",
       "prompt_number": 46,
       "text": [
        "compute_w_opt (generic function with 1 method)"
       ]
      }
     ],
     "prompt_number": 46
    },
    {
     "cell_type": "heading",
     "level": 4,
     "metadata": {},
     "source": [
      "Create validation set"
     ]
    },
    {
     "cell_type": "code",
     "collapsed": false,
     "input": [
      "validation_set = summarizer(10000);"
     ],
     "language": "python",
     "metadata": {},
     "outputs": [],
     "prompt_number": 53
    },
    {
     "cell_type": "heading",
     "level": 4,
     "metadata": {},
     "source": [
      "Question 1"
     ]
    },
    {
     "cell_type": "markdown",
     "metadata": {},
     "source": [
      "We observe $\\lambda_{\\mbox{best}} = 0.1$ with $\\mbox{MSE}_{\\mbox{validation}} (\\lambda_{\\mbox{best}}) = 0.08330500966312969$"
     ]
    },
    {
     "cell_type": "code",
     "collapsed": false,
     "input": [
      "# Create training set of size n = 1000\n",
      "train_set_1000 = summarizer(1000);"
     ],
     "language": "python",
     "metadata": {},
     "outputs": [],
     "prompt_number": 86
    },
    {
     "cell_type": "code",
     "collapsed": false,
     "input": [
      "FtF, Fty, y = train_set_1000;\n",
      "lambdas = [0.0 1e-3 1e-2 1e-1 1e0 1e1 1e2 1e3];\n",
      "for k = 1 : size(lambdas, 2)\n",
      "    lambda = lambdas[1, k]\n",
      "    w_lambda = compute_w_opt(FtF, Fty, lambda);\n",
      "    performance_on_train_set = evaluate(w_lambda, FtF, Fty, y);\n",
      "    performance_on_validation_set = evaluate(w_lambda, validation[1], validation[2], validation[3]);\n",
      "    performance_of_zeros_vector = evaluate(zeros(size(w_lambda)), validation[1], validation[2], validation[3]);\n",
      "    println([lambda, performance_on_train_set, performance_on_validation_set, performance_of_zeros_vector])\n",
      "end"
     ],
     "language": "python",
     "metadata": {},
     "outputs": [
      {
       "output_type": "stream",
       "stream": "stdout",
       "text": [
        "["
       ]
      },
      {
       "output_type": "stream",
       "stream": "stdout",
       "text": [
        "0.0\n",
        " 0.11218744112130116\n",
        " 0.19172844096167127\n",
        " 11.76630983977659]\n",
        "[0.001\n",
        " 0.13828766421019464\n",
        " 0.09098460854060875\n",
        " 11.76630983977659]\n",
        "[0.01\n",
        " 0.14417113958273875\n",
        " 0.08453759582065744\n",
        " 11.76630983977659]\n",
        "[0.1\n",
        " 0.1479678856400933\n",
        " 0.08330500966312969\n",
        " 11.76630983977659]\n",
        "["
       ]
      },
      {
       "output_type": "stream",
       "stream": "stdout",
       "text": [
        "1.0\n",
        " 0.15016469747772135\n",
        " 0.0853239162345858\n",
        " 11.76630983977659]\n",
        "[10.0\n",
        " 0.15142140649696467\n",
        " 0.09021257999350213\n",
        " 11.76630983977659]\n",
        "[100.0\n",
        " 0.15274271759715702\n",
        " 0.09355827163966382\n",
        " 11.76630983977659]\n",
        "[1000.0\n",
        " 0.1633946334022421\n",
        " 0.11311861688255363\n",
        " 11.76630983977659]\n"
       ]
      }
     ],
     "prompt_number": 88
    },
    {
     "cell_type": "heading",
     "level": 4,
     "metadata": {},
     "source": [
      "Question 2"
     ]
    },
    {
     "cell_type": "code",
     "collapsed": false,
     "input": [
      "# Create training set of size n = 1000000\n",
      "train_set_1_million = summarizer(1000000)"
     ],
     "language": "python",
     "metadata": {},
     "outputs": []
    },
    {
     "cell_type": "code",
     "collapsed": false,
     "input": [
      "FtF, Fty, y = summarizer(1000000)\n",
      "lambdas = [0.0 1e-3 1e-2 1e-1 1e0 1e1 1e2 1e3];\n",
      "for k = 1 : size(lambdas, 2)\n",
      "    lambda = lambdas[1, k]\n",
      "    w_lambda = compute_w_opt(FtF, Fty, lambda);\n",
      "    performance_on_train_set = evaluate(w_lambda, FtF, Fty, y);\n",
      "    performance_on_validation_set = evaluate(w_lambda, validation[1], validation[2], validation[3]);\n",
      "    performance_of_zeros_vector = evaluate(zeros(size(w_lambda)), validation[1], validation[2], validation[3]);\n",
      "    println([lambda, performance_on_train_set, performance_on_validation_set, performance_of_zeros_vector])\n",
      "end"
     ],
     "language": "python",
     "metadata": {},
     "outputs": [
      {
       "output_type": "stream",
       "stream": "stdout",
       "text": [
        "["
       ]
      },
      {
       "output_type": "stream",
       "stream": "stdout",
       "text": [
        "0.0\n",
        " 0.14573821531844977\n",
        " 0.09356742011844688\n",
        " 11.76630983977659]\n"
       ]
      },
      {
       "output_type": "stream",
       "stream": "stdout",
       "text": [
        "[0.001\n",
        " 0.14574052478964347\n",
        " 0.09389792731548995\n",
        " 11.76630983977659]\n",
        "[0.01\n",
        " 0.14574294655849132\n",
        " 0.09407436944043752\n",
        " 11.76630983977659]\n",
        "[0.1\n",
        " 0.14574791966231446\n",
        " 0.09454610458733158\n",
        " 11.76630983977659]\n",
        "[1.0\n",
        " 0.14575581866917292\n",
        " 0.09479286417222427\n",
        " 11.76630983977659]\n",
        "[10.0\n",
        " 0.1457645939986063\n",
        " 0.09495913979412195\n",
        " 11.76630983977659]\n",
        "[100.0\n",
        " 0.14577737233341392\n",
        " 0.09516271956908327\n",
        " 11.76630983977659]\n",
        "[1000.0\n",
        " 0.14580768797656055\n",
        " 0.09500478461698379\n",
        " 11.76630983977659]\n"
       ]
      }
     ],
     "prompt_number": 85
    },
    {
     "cell_type": "code",
     "collapsed": false,
     "input": [
      "size(FtF)"
     ],
     "language": "python",
     "metadata": {},
     "outputs": [
      {
       "metadata": {},
       "output_type": "pyout",
       "prompt_number": 44,
       "text": [
        "(250,250)"
       ]
      }
     ],
     "prompt_number": 44
    },
    {
     "cell_type": "code",
     "collapsed": false,
     "input": [
      "Base.LinAlg.BLAS.syr!('U', 1.0, fi, zeros(d, d))"
     ],
     "language": "python",
     "metadata": {},
     "outputs": [
      {
       "metadata": {},
       "output_type": "pyout",
       "prompt_number": 141,
       "text": [
        "250x250 Array{Float64,2}:\n",
        " 0.0  0.0  0.0  0.0       0.0  0.0          \u2026  0.0  0.0        0.0        0.0\n",
        " 0.0  0.0  0.0  0.0       0.0  0.0             0.0  0.0        0.0        0.0\n",
        " 0.0  0.0  0.0  0.0       0.0  0.0             0.0  0.0        0.0        0.0\n",
        " 0.0  0.0  0.0  0.268473  0.0  0.00757393      0.0  0.424363   0.437829   0.0\n",
        " 0.0  0.0  0.0  0.0       0.0  0.0             0.0  0.0        0.0        0.0\n",
        " 0.0  0.0  0.0  0.0       0.0  0.000213669  \u2026  0.0  0.0119718  0.0123516  0.0\n",
        " 0.0  0.0  0.0  0.0       0.0  0.0             0.0  0.0        0.0        0.0\n",
        " 0.0  0.0  0.0  0.0       0.0  0.0             0.0  0.901427   0.93003    0.0\n",
        " 0.0  0.0  0.0  0.0       0.0  0.0             0.0  0.0        0.0        0.0\n",
        " 0.0  0.0  0.0  0.0       0.0  0.0             0.0  0.0        0.0        0.0\n",
        " 0.0  0.0  0.0  0.0       0.0  0.0          \u2026  0.0  0.953858   0.984125   0.0\n",
        " 0.0  0.0  0.0  0.0       0.0  0.0             0.0  0.0        0.0        0.0\n",
        " 0.0  0.0  0.0  0.0       0.0  0.0             0.0  0.0        0.0        0.0\n",
        " \u22ee                             \u22ee            \u22f1                                \n",
        " 0.0  0.0  0.0  0.0       0.0  0.0             0.0  0.02274    0.0234615  0.0\n",
        " 0.0  0.0  0.0  0.0       0.0  0.0             0.0  0.26035    0.268611   0.0\n",
        " 0.0  0.0  0.0  0.0       0.0  0.0          \u2026  0.0  0.877265   0.905102   0.0\n",
        " 0.0  0.0  0.0  0.0       0.0  0.0             0.0  0.0        0.0        0.0\n",
        " 0.0  0.0  0.0  0.0       0.0  0.0             0.0  1.21941    1.2581     0.0\n",
        " 0.0  0.0  0.0  0.0       0.0  0.0             0.0  0.0        0.0        0.0\n",
        " 0.0  0.0  0.0  0.0       0.0  0.0             0.0  0.398603   0.411252   0.0\n",
        " 0.0  0.0  0.0  0.0       0.0  0.0          \u2026  0.0  0.199877   0.206219   0.0\n",
        " 0.0  0.0  0.0  0.0       0.0  0.0             0.0  0.0        0.0        0.0\n",
        " 0.0  0.0  0.0  0.0       0.0  0.0             0.0  0.670771   0.692055   0.0\n",
        " 0.0  0.0  0.0  0.0       0.0  0.0             0.0  0.0        0.714015   0.0\n",
        " 0.0  0.0  0.0  0.0       0.0  0.0             0.0  0.0        0.0        0.0"
       ]
      }
     ],
     "prompt_number": 141
    },
    {
     "cell_type": "code",
     "collapsed": false,
     "input": [
      "diagm(fi .* fi)"
     ],
     "language": "python",
     "metadata": {},
     "outputs": [
      {
       "metadata": {},
       "output_type": "pyout",
       "prompt_number": 146,
       "text": [
        "250x250 Array{Float64,2}:\n",
        " 0.0  0.0  0.0  0.0       0.0  0.0          \u2026  0.0  0.0       0.0       0.0\n",
        " 0.0  0.0  0.0  0.0       0.0  0.0             0.0  0.0       0.0       0.0\n",
        " 0.0  0.0  0.0  0.0       0.0  0.0             0.0  0.0       0.0       0.0\n",
        " 0.0  0.0  0.0  0.268473  0.0  0.0             0.0  0.0       0.0       0.0\n",
        " 0.0  0.0  0.0  0.0       0.0  0.0             0.0  0.0       0.0       0.0\n",
        " 0.0  0.0  0.0  0.0       0.0  0.000213669  \u2026  0.0  0.0       0.0       0.0\n",
        " 0.0  0.0  0.0  0.0       0.0  0.0             0.0  0.0       0.0       0.0\n",
        " 0.0  0.0  0.0  0.0       0.0  0.0             0.0  0.0       0.0       0.0\n",
        " 0.0  0.0  0.0  0.0       0.0  0.0             0.0  0.0       0.0       0.0\n",
        " 0.0  0.0  0.0  0.0       0.0  0.0             0.0  0.0       0.0       0.0\n",
        " 0.0  0.0  0.0  0.0       0.0  0.0          \u2026  0.0  0.0       0.0       0.0\n",
        " 0.0  0.0  0.0  0.0       0.0  0.0             0.0  0.0       0.0       0.0\n",
        " 0.0  0.0  0.0  0.0       0.0  0.0             0.0  0.0       0.0       0.0\n",
        " \u22ee                             \u22ee            \u22f1                              \n",
        " 0.0  0.0  0.0  0.0       0.0  0.0             0.0  0.0       0.0       0.0\n",
        " 0.0  0.0  0.0  0.0       0.0  0.0             0.0  0.0       0.0       0.0\n",
        " 0.0  0.0  0.0  0.0       0.0  0.0          \u2026  0.0  0.0       0.0       0.0\n",
        " 0.0  0.0  0.0  0.0       0.0  0.0             0.0  0.0       0.0       0.0\n",
        " 0.0  0.0  0.0  0.0       0.0  0.0             0.0  0.0       0.0       0.0\n",
        " 0.0  0.0  0.0  0.0       0.0  0.0             0.0  0.0       0.0       0.0\n",
        " 0.0  0.0  0.0  0.0       0.0  0.0             0.0  0.0       0.0       0.0\n",
        " 0.0  0.0  0.0  0.0       0.0  0.0          \u2026  0.0  0.0       0.0       0.0\n",
        " 0.0  0.0  0.0  0.0       0.0  0.0             0.0  0.0       0.0       0.0\n",
        " 0.0  0.0  0.0  0.0       0.0  0.0             0.0  0.670771  0.0       0.0\n",
        " 0.0  0.0  0.0  0.0       0.0  0.0             0.0  0.0       0.714015  0.0\n",
        " 0.0  0.0  0.0  0.0       0.0  0.0             0.0  0.0       0.0       0.0"
       ]
      }
     ],
     "prompt_number": 146
    },
    {
     "cell_type": "code",
     "collapsed": false,
     "input": [
      "A = zeros(d, d)\n",
      "fi = phi(sample()[1])\n",
      "B = fi*fi'\n",
      "Base.LinAlg.BLAS.syrk!('N', 'N', 1.0, ones(d, 1), 1.0, A)"
     ],
     "language": "python",
     "metadata": {},
     "outputs": [
      {
       "ename": "LoadError",
       "evalue": "`syr!` has no method matching syr!(::Char, ::Char, ::Float64, ::Array{Float64,2}, ::Float64, ::Array{Float64,2})\nwhile loading In[60], in expression starting on line 4",
       "output_type": "pyerr",
       "traceback": [
        "`syr!` has no method matching syr!(::Char, ::Char, ::Float64, ::Array{Float64,2}, ::Float64, ::Array{Float64,2})\nwhile loading In[60], in expression starting on line 4",
        ""
       ]
      }
     ],
     "prompt_number": 60
    },
    {
     "cell_type": "code",
     "collapsed": false,
     "input": [],
     "language": "python",
     "metadata": {},
     "outputs": [
      {
       "ename": "LoadError",
       "evalue": "`syr!` has no method matching syr!(::Float64, ::Array{Float64,2}, ::Float64, ::Array{Float64,2})\nwhile loading In[76], in expression starting on line 2",
       "output_type": "pyerr",
       "traceback": [
        "`syr!` has no method matching syr!(::Float64, ::Array{Float64,2}, ::Float64, ::Array{Float64,2})\nwhile loading In[76], in expression starting on line 2",
        ""
       ]
      }
     ],
     "prompt_number": 76
    },
    {
     "cell_type": "code",
     "collapsed": false,
     "input": [
      "Base.LinAlg.BLAS.syr!()"
     ],
     "language": "python",
     "metadata": {},
     "outputs": [
      {
       "metadata": {},
       "output_type": "pyout",
       "prompt_number": 69,
       "text": [
        "250x250 Array{Float64,2}:\n",
        " 1.0  1.0  1.0  1.0  1.0  1.0  1.0  1.0  \u2026  1.0  1.0  1.0  1.0  1.0  1.0  1.0\n",
        " 1.0  1.0  1.0  1.0  1.0  1.0  1.0  1.0     1.0  1.0  1.0  1.0  1.0  1.0  1.0\n",
        " 1.0  1.0  1.0  1.0  1.0  1.0  1.0  1.0     1.0  1.0  1.0  1.0  1.0  1.0  1.0\n",
        " 1.0  1.0  1.0  1.0  1.0  1.0  1.0  1.0     1.0  1.0  1.0  1.0  1.0  1.0  1.0\n",
        " 1.0  1.0  1.0  1.0  1.0  1.0  1.0  1.0     1.0  1.0  1.0  1.0  1.0  1.0  1.0\n",
        " 1.0  1.0  1.0  1.0  1.0  1.0  1.0  1.0  \u2026  1.0  1.0  1.0  1.0  1.0  1.0  1.0\n",
        " 1.0  1.0  1.0  1.0  1.0  1.0  1.0  1.0     1.0  1.0  1.0  1.0  1.0  1.0  1.0\n",
        " 1.0  1.0  1.0  1.0  1.0  1.0  1.0  1.0     1.0  1.0  1.0  1.0  1.0  1.0  1.0\n",
        " 1.0  1.0  1.0  1.0  1.0  1.0  1.0  1.0     1.0  1.0  1.0  1.0  1.0  1.0  1.0\n",
        " 1.0  1.0  1.0  1.0  1.0  1.0  1.0  1.0     1.0  1.0  1.0  1.0  1.0  1.0  1.0\n",
        " 1.0  1.0  1.0  1.0  1.0  1.0  1.0  1.0  \u2026  1.0  1.0  1.0  1.0  1.0  1.0  1.0\n",
        " 1.0  1.0  1.0  1.0  1.0  1.0  1.0  1.0     1.0  1.0  1.0  1.0  1.0  1.0  1.0\n",
        " 1.0  1.0  1.0  1.0  1.0  1.0  1.0  1.0     1.0  1.0  1.0  1.0  1.0  1.0  1.0\n",
        " \u22ee                        \u22ee              \u22f1            \u22ee                      \n",
        " 1.0  1.0  1.0  1.0  1.0  1.0  1.0  1.0     1.0  1.0  1.0  1.0  1.0  1.0  1.0\n",
        " 1.0  1.0  1.0  1.0  1.0  1.0  1.0  1.0     1.0  1.0  1.0  1.0  1.0  1.0  1.0\n",
        " 1.0  1.0  1.0  1.0  1.0  1.0  1.0  1.0  \u2026  1.0  1.0  1.0  1.0  1.0  1.0  1.0\n",
        " 1.0  1.0  1.0  1.0  1.0  1.0  1.0  1.0     1.0  1.0  1.0  1.0  1.0  1.0  1.0\n",
        " 1.0  1.0  1.0  1.0  1.0  1.0  1.0  1.0     1.0  1.0  1.0  1.0  1.0  1.0  1.0\n",
        " 1.0  1.0  1.0  1.0  1.0  1.0  1.0  1.0     1.0  1.0  1.0  1.0  1.0  1.0  1.0\n",
        " 1.0  1.0  1.0  1.0  1.0  1.0  1.0  1.0     1.0  1.0  1.0  1.0  1.0  1.0  1.0\n",
        " 1.0  1.0  1.0  1.0  1.0  1.0  1.0  1.0  \u2026  1.0  1.0  1.0  1.0  1.0  1.0  1.0\n",
        " 1.0  1.0  1.0  1.0  1.0  1.0  1.0  1.0     1.0  1.0  1.0  1.0  1.0  1.0  1.0\n",
        " 1.0  1.0  1.0  1.0  1.0  1.0  1.0  1.0     1.0  1.0  1.0  1.0  1.0  1.0  1.0\n",
        " 1.0  1.0  1.0  1.0  1.0  1.0  1.0  1.0     1.0  1.0  1.0  1.0  1.0  1.0  1.0\n",
        " 1.0  1.0  1.0  1.0  1.0  1.0  1.0  1.0     1.0  1.0  1.0  1.0  1.0  1.0  1.0"
       ]
      }
     ],
     "prompt_number": 69
    },
    {
     "cell_type": "code",
     "collapsed": false,
     "input": [
      "v=[10.0; 10.0; 10.0]\n",
      "A=[1.0 2.0 3.0; 1.0 2.0 3.0; 1.0 2.0 3.0]\n",
      "println(A + v * v')\n",
      "Base.LinAlg.BLAS.syrk!('U','N',1.0,v,1.0,A)\n",
      "Base.LinAlg.BLAS.syrk!('L','N',1.0,v,1.0,A)\n",
      "for i = 1 : size(v, 1)\n",
      "    A[i, i] -= v[i, 1] * v[i, 1];\n",
      "end\n",
      "A"
     ],
     "language": "python",
     "metadata": {},
     "outputs": [
      {
       "output_type": "stream",
       "stream": "stdout",
       "text": [
        "["
       ]
      },
      {
       "output_type": "stream",
       "stream": "stdout",
       "text": [
        "101.0 102.0 103.0\n",
        " 101.0 102.0 103.0\n",
        " 101.0 102.0 103.0]\n"
       ]
      },
      {
       "metadata": {},
       "output_type": "pyout",
       "prompt_number": 30,
       "text": [
        "3x3 Array{Float64,2}:\n",
        " 101.0  102.0  103.0\n",
        " 101.0  102.0  103.0\n",
        " 101.0  102.0  103.0"
       ]
      }
     ],
     "prompt_number": 30
    },
    {
     "cell_type": "code",
     "collapsed": false,
     "input": [],
     "language": "python",
     "metadata": {},
     "outputs": []
    }
   ],
   "metadata": {}
  }
 ]
}