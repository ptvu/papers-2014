{
 "metadata": {
  "name": "",
  "signature": "sha256:83a90cd0b190ae286265fb46c255539454315b9f0198bb0106fd3b951422fcc0"
 },
 "nbformat": 3,
 "nbformat_minor": 0,
 "worksheets": [
  {
   "cells": [
    {
     "cell_type": "code",
     "collapsed": false,
     "input": [
      "import scipy\n",
      "from scipy import *\n",
      "from scipy.sparse import *\n",
      "from scipy.sparse.linalg import *\n",
      "\n",
      "vocab = [line.strip() for line in open('vocab.nips.txt', 'rb')]\n",
      "stop_words = [not str.isalpha(word) for word in vocab]\n",
      "\n",
      "skiprows = 3\n",
      "I = []\n",
      "J = []\n",
      "V = []\n",
      "with open('docword.nips.txt') as csvfile:\n",
      "    line_cnt = 0\n",
      "    for line in csvfile:\n",
      "        line_cnt = line_cnt + 1\n",
      "        if (line_cnt % 10000000 == 0):\n",
      "            print line_cnt\n",
      "        if (line_cnt == 1):\n",
      "            num_rows = int(line.strip())\n",
      "        if (line_cnt == 2):\n",
      "            num_cols = int(line.strip())\n",
      "        if (line_cnt > skiprows):\n",
      "            row = line.strip().split(' ')\n",
      "            r, c, v = [int(e) for e in row]\n",
      "            r = r - 1\n",
      "            c = c - 1\n",
      "            if (not stop_words[c]):\n",
      "                I.append(r)\n",
      "                J.append(c)\n",
      "                V.append(v)\n",
      "\n",
      "A = scipy.sparse.coo_matrix((V, (I, J)), dtype='float')\n",
      "rank = 11\n",
      "P, D, QT = svds(A, k = rank)\n",
      "save_D = D\n",
      "epsilon = D[0]\n",
      "P = P[:, 1:rank]\n",
      "D = D[1:rank]\n",
      "QT = QT[1:rank, :]\n",
      "\n",
      "S = scipy.sqrt(D)\n",
      "P = P.dot(diag(S))\n",
      "QT = diag(S).dot(QT)\n",
      "print P.shape, QT.shape, epsilon\n",
      "# print scipy.linalg.norm(A - P.dot(QT), ord=2)\n",
      "import cPickle as pickle\n",
      "pickle.dump( (P, QT, epsilon), open( \"lr.pickle\", \"wb\" ) )\n",
      "# pickle.dump( A, open( \"original.pickle\", \"wb\" ) )"
     ],
     "language": "python",
     "metadata": {},
     "outputs": [
      {
       "output_type": "stream",
       "stream": "stdout",
       "text": [
        "(1500, 10) (10, 12419) 415.764884226\n"
       ]
      }
     ],
     "prompt_number": 11
    },
    {
     "cell_type": "code",
     "collapsed": false,
     "input": [
      "import cPickle as pickle\n",
      "[Q, P, z] = pickle.load( open( \"lr.pickle\", \"rb\" ) )\n",
      "P = P.T\n",
      "print z"
     ],
     "language": "python",
     "metadata": {},
     "outputs": [
      {
       "output_type": "stream",
       "stream": "stdout",
       "text": [
        "415.764884226\n"
       ]
      }
     ],
     "prompt_number": 2
    },
    {
     "cell_type": "code",
     "collapsed": false,
     "input": [
      "query = 'vision'"
     ],
     "language": "python",
     "metadata": {},
     "outputs": [],
     "prompt_number": 3
    },
    {
     "cell_type": "code",
     "collapsed": false,
     "input": [
      "vocab = [line.strip() for line in open('vocab.nips.txt', 'rb')]\n",
      "feature_query_id = -1\n",
      "for i, each in enumerate(vocab):\n",
      "    if each == query:\n",
      "        feature_query_id = i\n",
      "print 'Query ID:', feature_query_id\n",
      "import numpy\n",
      "label = -numpy.ones([Q.shape[0], 1])\n",
      "skiprows = 3\n",
      "with open('docword.nips.txt') as csvfile:\n",
      "    line_cnt = 0\n",
      "    for line in csvfile:\n",
      "        line_cnt = line_cnt + 1\n",
      "        if (line_cnt > skiprows):\n",
      "            row = line.strip().split(' ')\n",
      "            r, c, v = [int(e) for e in row]\n",
      "            r = r - 1\n",
      "            c = c - 1\n",
      "            if (c == feature_query_id and v > 0):\n",
      "                label[r] = 1"
     ],
     "language": "python",
     "metadata": {},
     "outputs": [
      {
       "output_type": "stream",
       "stream": "stdout",
       "text": [
        "Query ID: 11996\n"
       ]
      }
     ],
     "prompt_number": 17
    },
    {
     "cell_type": "code",
     "collapsed": false,
     "input": [
      "import numpy\n",
      "print 'Positive documents:', len(numpy.where(label == 1)[0])\n",
      "print 'Negative documents:', len(numpy.where(label == -1)[0])"
     ],
     "language": "python",
     "metadata": {},
     "outputs": [
      {
       "output_type": "stream",
       "stream": "stdout",
       "text": [
        "Positive documents: 308\n",
        "Negative documents: 1192\n"
       ]
      }
     ],
     "prompt_number": 18
    },
    {
     "cell_type": "code",
     "collapsed": false,
     "input": [
      "lambd = 0.15\n",
      "epsilon = 10\n",
      "\n",
      "K = Q.T.dot(Q)\n",
      "y = label\n",
      "from scipy.linalg import *\n",
      "c = inv(sqrtm(K)).dot(Q.T.dot(y))\n",
      "s = numpy.sqrt(y.T.dot(y) - c.T.dot(c))\n",
      "R = P.dot(sqrtm(K))\n",
      "\n",
      "n = P.shape[0]\n",
      "k = K.shape[0]\n",
      "import cvxopt\n",
      "from cvxpy import *\n",
      "w = Variable(n)\n",
      "objective = Minimize(norm(vstack(c - R.T * w, s), 2) + epsilon * norm(w, 2) + lambd * norm(x, 1))\n",
      "p = Problem(objective)\n",
      "p.solve()\n",
      "print w.value"
     ],
     "language": "python",
     "metadata": {},
     "outputs": [
      {
       "output_type": "stream",
       "stream": "stdout",
       "text": [
        "[[  0.00000000e+00]\n",
        " [ -9.40066213e-06]\n",
        " [  2.35722715e-05]\n",
        " ..., \n",
        " [ -2.87407460e-06]\n",
        " [  7.55398403e-06]\n",
        " [  2.66740791e-06]]\n"
       ]
      }
     ],
     "prompt_number": 43
    },
    {
     "cell_type": "code",
     "collapsed": false,
     "input": [
      "weights = sorted(w.value, reverse=True)\n",
      "order = numpy.argsort(w.value)"
     ],
     "language": "python",
     "metadata": {},
     "outputs": [],
     "prompt_number": 55
    },
    {
     "cell_type": "code",
     "collapsed": false,
     "input": [],
     "language": "python",
     "metadata": {},
     "outputs": [
      {
       "metadata": {},
       "output_type": "pyout",
       "prompt_number": 56,
       "text": [
        "matrix([[0],\n",
        "        [0],\n",
        "        [0],\n",
        "        ..., \n",
        "        [0],\n",
        "        [0],\n",
        "        [0]])"
       ]
      }
     ],
     "prompt_number": 56
    },
    {
     "cell_type": "code",
     "collapsed": false,
     "input": [
      "import cvxopt\n",
      "from cvxpy import *\n",
      "n = 100\n",
      "m = 50\n",
      "A = cvxopt.normal(n,m)\n",
      "b = cvxopt.normal(n)\n",
      "gamma = 0.1\n",
      "x = Variable(m)\n",
      "objective = Minimize(norm(A*x - b, 2) + gamma*norm(x, 1))\n",
      "p = Problem(objective)\n",
      "p.solve()\n",
      "print x.value"
     ],
     "language": "python",
     "metadata": {},
     "outputs": [
      {
       "output_type": "stream",
       "stream": "stdout",
       "text": [
        "[[  1.28897138e-02]\n",
        " [ -1.50446386e-02]\n",
        " [  4.12140631e-10]\n",
        " [  1.04264193e-02]\n",
        " [  7.83409164e-02]\n",
        " [ -1.18236777e-01]\n",
        " [  4.59322049e-02]\n",
        " [  4.10810492e-02]\n",
        " [ -2.09460498e-02]\n",
        " [  8.47588374e-02]\n",
        " [ -7.48304065e-04]\n",
        " [  2.36319222e-02]\n",
        " [  6.28204697e-02]\n",
        " [  2.85067208e-02]\n",
        " [  6.67312840e-02]\n",
        " [ -5.79654829e-02]\n",
        " [ -1.95612090e-01]\n",
        " [  1.50209321e-01]\n",
        " [ -1.38449270e-01]\n",
        " [  6.67222650e-02]\n",
        " [  4.57114259e-02]\n",
        " [ -3.97470115e-02]\n",
        " [  3.11050020e-02]\n",
        " [  4.10802566e-02]\n",
        " [  8.58211151e-02]\n",
        " [ -1.31093953e-01]\n",
        " [  1.03864287e-01]\n",
        " [ -4.99160128e-10]\n",
        " [  1.01208965e-01]\n",
        " [ -1.02906650e-01]\n",
        " [  1.41302658e-01]\n",
        " [ -4.52812071e-09]\n",
        " [  5.53659753e-11]\n",
        " [  6.49728464e-02]\n",
        " [  2.05245172e-01]\n",
        " [ -3.01852416e-01]\n",
        " [ -1.24782899e-01]\n",
        " [ -4.98569896e-02]\n",
        " [  4.49599743e-10]\n",
        " [  2.34284884e-02]\n",
        " [ -5.86963573e-02]\n",
        " [  2.81916575e-09]\n",
        " [ -1.92888007e-02]\n",
        " [  7.74975058e-02]\n",
        " [ -3.23547144e-02]\n",
        " [ -4.57079131e-02]\n",
        " [  1.66464022e-02]\n",
        " [ -3.82947872e-03]\n",
        " [  8.90742021e-02]\n",
        " [  5.49923063e-02]]\n"
       ]
      }
     ],
     "prompt_number": 25
    },
    {
     "cell_type": "code",
     "collapsed": false,
     "input": [
      "c.T.dot(c)"
     ],
     "language": "python",
     "metadata": {},
     "outputs": [
      {
       "metadata": {},
       "output_type": "pyout",
       "prompt_number": 71,
       "text": [
        "array([[  1.99242472e+09]])"
       ]
      }
     ],
     "prompt_number": 71
    },
    {
     "cell_type": "code",
     "collapsed": false,
     "input": [
      "y.T.dot(y)"
     ],
     "language": "python",
     "metadata": {},
     "outputs": [
      {
       "metadata": {},
       "output_type": "pyout",
       "prompt_number": 72,
       "text": [
        "array([[ 1500.]])"
       ]
      }
     ],
     "prompt_number": 72
    },
    {
     "cell_type": "code",
     "collapsed": false,
     "input": [
      "scipy.linalg.inv"
     ],
     "language": "python",
     "metadata": {},
     "outputs": [
      {
       "metadata": {},
       "output_type": "pyout",
       "prompt_number": 74,
       "text": [
        "array([[  98.80160384],\n",
        "       [ -44.92157043],\n",
        "       [ 159.12572617],\n",
        "       [ -64.37613015],\n",
        "       [ 153.46851765],\n",
        "       [ -54.59620797],\n",
        "       [  98.05644567],\n",
        "       [-154.39433942],\n",
        "       [ -24.21378864],\n",
        "       [ 997.65292818]])"
       ]
      }
     ],
     "prompt_number": 74
    },
    {
     "cell_type": "code",
     "collapsed": false,
     "input": [],
     "language": "python",
     "metadata": {},
     "outputs": []
    }
   ],
   "metadata": {}
  }
 ]
}