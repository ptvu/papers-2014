{
 "metadata": {
  "name": ""
 },
 "nbformat": 3,
 "nbformat_minor": 0,
 "worksheets": [
  {
   "cells": [
    {
     "cell_type": "code",
     "collapsed": false,
     "input": [
      "import os\n",
      "import datetime\n",
      "import calendar\n",
      "path = './data'\n",
      "records = []\n",
      "for each in sorted(os.listdir(path)):\n",
      "    if not each.startswith('.'):\n",
      "        print 'Year:', each\n",
      "        for filename in os.listdir(os.path.join(path, each)):\n",
      "            inputfile = os.path.join(path, each, filename)\n",
      "            content = []\n",
      "            for line in open(inputfile, 'rb'):\n",
      "                content.append(line.strip());\n",
      "            content = ' '.join(content)\n",
      "            \n",
      "            year = each.split('_')[0]\n",
      "            dateTime = '%s-01-01' % year\n",
      "            dateTime = datetime.datetime.strptime(dateTime, \"%Y-%m-%d\")\n",
      "            unixTime = calendar.timegm(dateTime.utctimetuple())\n",
      "\n",
      "            doc = {}\n",
      "            doc['content'] = content\n",
      "            doc['source'] = 'wustl'\n",
      "            doc['title'] = filename\n",
      "            doc['time'] = unixTime\n",
      "            records.append(doc)\n",
      "print 'Total:', len(records)            "
     ],
     "language": "python",
     "metadata": {},
     "outputs": [
      {
       "output_type": "stream",
       "stream": "stdout",
       "text": [
        "Year: 2000_txt\n",
        "Year: 2001_txt\n",
        "Year: 2002_txt\n",
        "Year: 2003_txt\n",
        "Year:"
       ]
      },
      {
       "output_type": "stream",
       "stream": "stdout",
       "text": [
        " 2004_txt\n",
        "Year: 2005_txt\n",
        "Year:"
       ]
      },
      {
       "output_type": "stream",
       "stream": "stdout",
       "text": [
        " 2006_txt\n",
        "Year:"
       ]
      },
      {
       "output_type": "stream",
       "stream": "stdout",
       "text": [
        " 2007_txt\n",
        "Year:"
       ]
      },
      {
       "output_type": "stream",
       "stream": "stdout",
       "text": [
        " 2008_txt\n",
        "Year: 2009_txt\n",
        "Year:"
       ]
      },
      {
       "output_type": "stream",
       "stream": "stdout",
       "text": [
        " 2010_txt\n",
        "Year:"
       ]
      },
      {
       "output_type": "stream",
       "stream": "stdout",
       "text": [
        " 2011_txt\n",
        "Year:"
       ]
      },
      {
       "output_type": "stream",
       "stream": "stdout",
       "text": [
        " 2012_txt\n",
        "Year:"
       ]
      },
      {
       "output_type": "stream",
       "stream": "stdout",
       "text": [
        " 2013_txt\n",
        "Year:"
       ]
      },
      {
       "output_type": "stream",
       "stream": "stdout",
       "text": [
        " 2014_txt\n",
        "Total: 6123\n"
       ]
      }
     ],
     "prompt_number": 15
    },
    {
     "cell_type": "heading",
     "level": 1,
     "metadata": {},
     "source": [
      "With Writers:"
     ]
    },
    {
     "cell_type": "code",
     "collapsed": false,
     "input": [
      "import os\n",
      "import datetime\n",
      "import calendar\n",
      "from StatNewsWriter import DatabaseController, StatNewsWriterInterface\n",
      "dbc = DatabaseController('./output/machine_learning_papers.db')\n",
      "db = StatNewsWriterInterface(dbc)\n",
      "path = './data'\n",
      "records = []\n",
      "for each in sorted(os.listdir(path)):\n",
      "    if not each.startswith('.'):\n",
      "        print 'Year:', each\n",
      "        for filename in os.listdir(os.path.join(path, each)):\n",
      "            inputfile = os.path.join(path, each, filename)\n",
      "            content = []\n",
      "            for line in open(inputfile, 'rb'):\n",
      "                content.append(line.strip());\n",
      "            content = ' '.join(content)\n",
      "\n",
      "            year = each.split('_')[0]\n",
      "            dateTime = '%s-01-01' % year\n",
      "            dateTime = datetime.datetime.strptime(dateTime, \"%Y-%m-%d\")\n",
      "            unixTime = calendar.timegm(dateTime.utctimetuple())\n",
      "\n",
      "            doc = {}\n",
      "            doc['content'] = content\n",
      "            doc['source'] = 'wustl'\n",
      "            doc['title'] = filename\n",
      "            doc['time'] = unixTime\n",
      "            db.writeDataHandler(data=[doc])\n",
      "            records.append(doc)\n",
      "print 'Total:', len(records)"
     ],
     "language": "python",
     "metadata": {},
     "outputs": []
    }
   ],
   "metadata": {}
  }
 ]
}