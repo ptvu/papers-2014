{
 "metadata": {
  "name": "",
  "signature": "sha256:1cd6a8c306361ca06306199ddffe307d5c8f7d7d7ecdf73b025bd208ec509b95"
 },
 "nbformat": 3,
 "nbformat_minor": 0,
 "worksheets": [
  {
   "cells": [
    {
     "cell_type": "heading",
     "level": 1,
     "metadata": {},
     "source": [
      "Helper: save all labels"
     ]
    },
    {
     "cell_type": "code",
     "collapsed": false,
     "input": [
      "import numpy\n",
      "import scipy\n",
      "from scipy import *\n",
      "from scipy.sparse import *\n",
      "from scipy.sparse.linalg import *\n",
      "\n",
      "vocab = [line.strip() for line in open('vocab.nips.txt', 'rb')]\n",
      "stop_words = [not str.isalpha(word) for word in vocab]\n",
      "\n",
      "skiprows = 3\n",
      "I = []\n",
      "J = []\n",
      "V = []\n",
      "with open('docword.nips.txt') as csvfile:\n",
      "    line_cnt = 0\n",
      "    for line in csvfile:\n",
      "        line_cnt = line_cnt + 1\n",
      "        if (line_cnt % 10000000 == 0):\n",
      "            print line_cnt\n",
      "        if (line_cnt == 1):\n",
      "            num_rows = int(line.strip())\n",
      "        if (line_cnt == 2):\n",
      "            num_cols = int(line.strip())\n",
      "        if (line_cnt > skiprows):\n",
      "            row = line.strip().split(' ')\n",
      "            r, c, v = [int(e) for e in row]\n",
      "            r = r - 1\n",
      "            c = c - 1\n",
      "            if (not stop_words[c]):\n",
      "                I.append(r)\n",
      "                J.append(c)\n",
      "                V.append(v)\n",
      "\n",
      "A = scipy.sparse.coo_matrix((V, (I, J)), dtype='float')\n",
      "full_matrix = A.tocsr()\n",
      "import os\n",
      "if not os.path.exists('./labels/'):\n",
      "    os.makedirs('./labels/')\n",
      "import scipy.sparse\n",
      "import cPickle as pickle\n",
      "for feature_query_id in range(len(vocab)):\n",
      "    if (feature_query_id % 10000 == 0):\n",
      "        print feature_query_id\n",
      "    if stop_words[feature_query_id]:\n",
      "        continue\n",
      "    label = -numpy.zeros([full_matrix.shape[0], 1])\n",
      "    label[ find(full_matrix[:, feature_query_id] != 0)[0] ] = 1\n",
      "    coo = scipy.sparse.coo_matrix(label)\n",
      "    filename = 'label_%d.pickle' % feature_query_id\n",
      "    pickle.dump(coo, open( './labels/' + filename, \"wb\" ) )"
     ],
     "language": "python",
     "metadata": {},
     "outputs": [
      {
       "output_type": "stream",
       "stream": "stdout",
       "text": [
        "0\n",
        "10000"
       ]
      },
      {
       "output_type": "stream",
       "stream": "stdout",
       "text": [
        "\n"
       ]
      }
     ],
     "prompt_number": 1
    },
    {
     "cell_type": "heading",
     "level": 1,
     "metadata": {},
     "source": [
      "Compute RKKQ"
     ]
    },
    {
     "cell_type": "code",
     "collapsed": false,
     "input": [
      "import cPickle as pickle\n",
      "(P, QT, epsilon) = pickle.load(open( \"lr.pickle\", \"rb\" ))\n",
      "Q = P\n",
      "P = QT.T\n",
      "from scipy.linalg import *\n",
      "K = Q.T.dot(Q)\n",
      "R = P.dot(sqrtm(K))\n",
      "K_sqrt_inv = inv(sqrtm(K))\n",
      "print P.shape, R.shape, K.shape, Q.shape\n",
      "import cPickle as pickle\n",
      "pickle.dump( (R, K, K_sqrt_inv, Q), open( \"rkkq.pickle\", \"wb\" ) )"
     ],
     "language": "python",
     "metadata": {},
     "outputs": [
      {
       "output_type": "stream",
       "stream": "stdout",
       "text": [
        "(12419, 10) (12419, 10) (10, 10) (1500, 10)\n"
       ]
      }
     ],
     "prompt_number": 5
    },
    {
     "cell_type": "heading",
     "level": 1,
     "metadata": {},
     "source": [
      "Learning"
     ]
    },
    {
     "cell_type": "code",
     "collapsed": false,
     "input": [
      "import cvxopt\n",
      "from cvxpy import *\n",
      "import numpy\n",
      "import scipy\n",
      "    \n",
      "def find_topic_imaging(R, K, K_sqrt_inv, Q, y, lambd = 0.15, epsilon = 10, NUM_WORDS = 10):\n",
      "    lambd = 0.15\n",
      "    epsilon = 10\n",
      "\n",
      "    c = K_sqrt_inv.dot(Q.T.dot(y))\n",
      "    s = numpy.sqrt(y.T.dot(y) - c.T.dot(c))\n",
      "\n",
      "    n = R.shape[0]\n",
      "    k = K.shape[0]\n",
      "    w = Variable(n)\n",
      "    objective = Minimize(norm(vstack(c - R.T * w, s), 2) + epsilon * norm(w, 2) + lambd * norm(w, 1))\n",
      "    p = Problem(objective)\n",
      "\n",
      "    import time\n",
      "    start = time.time()\n",
      "    p.solve()\n",
      "    total_time = time.time() - start\n",
      "    weights = sorted(w.value, reverse=True)\n",
      "    order = sorted(range(len(weights)), reverse=True, key=lambda k: w.value[k])\n",
      "\n",
      "    topic_imaging = [(vocab[order[i]], float(w.value[order[i]])) for i in range(NUM_WORDS)]\n",
      "    return {'total_time': total_time,\n",
      "            'topic_imaging' : topic_imaging, \n",
      "            'num_pos_documents' : len(numpy.where(y == 1)[0]), \n",
      "            'num_neg_documents' : len(numpy.where(y == 0)[0])}\n",
      "\n",
      "def make_query(R, K, K_sqrt_inv, Q, query):\n",
      "    feature_query_id = -1\n",
      "    for i, each in enumerate(vocab):\n",
      "        if each == query:\n",
      "            feature_query_id = i\n",
      "    filename = 'label_%d.pickle' % feature_query_id\n",
      "    label = pickle.load(open( './labels/' + filename, \"rb\" ))\n",
      "    label = label.toarray()\n",
      "    return find_topic_imaging(R, K, K_sqrt_inv, Q, label)"
     ],
     "language": "python",
     "metadata": {},
     "outputs": [],
     "prompt_number": 1
    },
    {
     "cell_type": "code",
     "collapsed": false,
     "input": [
      "import cPickle as pickle\n",
      "(R, K, K_sqrt_inv, Q) = pickle.load(open( \"rkkq.pickle\", \"rb\" ) )\n",
      "\n",
      "vocab = [line.strip() for line in open('vocab.nips.txt', 'rb')]\n",
      "stop_words = [not str.isalpha(word) for word in vocab]"
     ],
     "language": "python",
     "metadata": {},
     "outputs": [],
     "prompt_number": 2
    },
    {
     "cell_type": "code",
     "collapsed": false,
     "input": [
      "full_graph = []\n",
      "for feature_query_id in range(10):\n",
      "    query = vocab[feature_query_id]\n",
      "    cur = {}\n",
      "    cur['query'] = query\n",
      "    cur['feature_query_id'] = feature_query_id\n",
      "    if not stop_words[feature_query_id]:\n",
      "        filename = 'label_%d.pickle' % feature_query_id\n",
      "        label = pickle.load(open( './labels/' + filename, \"rb\" ))\n",
      "        label = label.toarray()\n",
      "        cur['result'] = find_topic_imaging(R, K, K_sqrt_inv, Q, label)\n",
      "    full_graph.append(cur)\n",
      "    if feature_query_id % 100 == 0:\n",
      "        print cur\n",
      "\n",
      "pickle.dump( full_graph, open( \"full_graph.pickle\", \"wb\" ) )"
     ],
     "language": "python",
     "metadata": {},
     "outputs": [
      {
       "output_type": "stream",
       "stream": "stdout",
       "text": [
        "{'query': 'a2i', 'feature_query_id': 0}\n"
       ]
      }
     ],
     "prompt_number": 3
    },
    {
     "cell_type": "code",
     "collapsed": false,
     "input": [
      "make_query(R, K, K_sqrt_inv, Q, 'learning')"
     ],
     "language": "python",
     "metadata": {},
     "outputs": [
      {
       "metadata": {},
       "output_type": "pyout",
       "prompt_number": 4,
       "text": [
        "{'num_neg_documents': 347,\n",
        " 'num_pos_documents': 1153,\n",
        " 'topic_imaging': [('learning', 0.011946294189593237),\n",
        "  ('algorithm', 0.01046572015122984),\n",
        "  ('set', 0.006629103923208459),\n",
        "  ('function', 0.006570447343373878),\n",
        "  ('data', 0.00585731793057719),\n",
        "  ('system', 0.004997285381860713),\n",
        "  ('training', 0.004477561897037005),\n",
        "  ('vector', 0.0044392738478394676),\n",
        "  ('result', 0.004408682762345073),\n",
        "  ('input', 0.00433588474443859)],\n",
        " 'total_time': 3.199381113052368}"
       ]
      }
     ],
     "prompt_number": 4
    },
    {
     "cell_type": "code",
     "collapsed": false,
     "input": [],
     "language": "python",
     "metadata": {},
     "outputs": []
    }
   ],
   "metadata": {}
  }
 ]
}