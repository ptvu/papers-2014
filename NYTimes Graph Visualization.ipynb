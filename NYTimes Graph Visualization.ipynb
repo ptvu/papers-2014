{
 "metadata": {
  "name": "",
  "signature": "sha256:2206cb41e4009e07a79690d92937086dcc4f4bf47fed2faebff770df4002c3df"
 },
 "nbformat": 3,
 "nbformat_minor": 0,
 "worksheets": [
  {
   "cells": [
    {
     "cell_type": "code",
     "collapsed": false,
     "input": [
      "# Import data from graph\n",
      "import cPickle as pickle\n",
      "full_graph = pickle.load(open('nytimes_full_graph.pickle', 'rb'))\n",
      "index_of = dict([(value['query'], index) for index, value in enumerate(full_graph)])"
     ],
     "language": "python",
     "metadata": {},
     "outputs": [],
     "prompt_number": 2
    },
    {
     "cell_type": "code",
     "collapsed": false,
     "input": [
      "seed = 'statistic'\n",
      "full_graph[index_of[seed]]"
     ],
     "language": "python",
     "metadata": {},
     "outputs": [
      {
       "metadata": {},
       "output_type": "pyout",
       "prompt_number": 7,
       "text": [
        "{'feature_query_id': 37574,\n",
        " 'query': 'statistic',\n",
        " 'result': {'num_neg_documents': 293771,\n",
        "  'num_pos_documents': 6229,\n",
        "  'topic_imaging': [('women', 0.013285021748831219),\n",
        "   ('com', 0.0070887381410119224),\n",
        "   ('percent', 0.007020883981007879),\n",
        "   ('team', 0.00523376308743813),\n",
        "   ('drug', 0.005117680008604565),\n",
        "   ('school', 0.0034456168929058737),\n",
        "   ('official', 0.0026438104224559694),\n",
        "   ('patient', 0.001401368962326459),\n",
        "   ('campaign', 2.2601677402345703e-10),\n",
        "   ('president', 1.9912320019308414e-10)],\n",
        "  'total_time': 3.095781087875366}}"
       ]
      }
     ],
     "prompt_number": 7
    },
    {
     "cell_type": "code",
     "collapsed": false,
     "input": [
      "# Do BFS and get partial nodes to draw\n",
      "from collections import deque\n",
      "import networkx as nx\n",
      "\n",
      "q = deque([full_graph[index_of[seed]]])\n",
      "n_nodes = 5000\n",
      "g = nx.Graph()\n",
      "g.add_node(seed, node_color='r')\n",
      "\n",
      "visited = {}\n",
      "while len(q) != 0 and n_nodes >= 0:\n",
      "    top = q.popleft()\n",
      "    if top['query'] in visited:\n",
      "        continue\n",
      "    visited[top['query']] = True\n",
      "    n_nodes -= 1\n",
      "    for neighbor, weight in top['result']['topic_imaging']:\n",
      "        if neighbor == top['query']:\n",
      "            continue\n",
      "        g.add_edge(top['query'], neighbor)\n",
      "        q.append(full_graph[index_of[neighbor]])\n",
      "print(\"Done\")\n",
      "print len(g.nodes()), len(g.edges())\n",
      "\n",
      "print(\"Rendering...\")\n",
      "nx.write_dot(g,\"graph.dot\")\n",
      "print(\"Done\")\n",
      "from subprocess import check_output\n",
      "out = check_output([\"sfdp -Tpng -Nstyle=filled -Nfillcolor=white -Ecolor=#00000020 -Gratio=fill -Goutputorder=edgesfirst -Goverlap=prism -size=50 graph.dot -o NYTimes_%s.png\" % seed], shell=True)\n",
      "print out"
     ],
     "language": "python",
     "metadata": {},
     "outputs": [
      {
       "output_type": "stream",
       "stream": "stdout",
       "text": [
        "Done\n",
        "85 620\n",
        "Rendering...\n",
        "Done\n"
       ]
      },
      {
       "output_type": "stream",
       "stream": "stdout",
       "text": [
        "\n"
       ]
      }
     ],
     "prompt_number": 8
    },
    {
     "cell_type": "code",
     "collapsed": false,
     "input": [
      "# Command: sfdp -Tpng -Nstyle=filled -Nfillcolor=white -Ecolor=#00000020 -Gratio=fill -Goutputorder=edgesfirst -Goverlap=prism -size=50 nips_graph.dot -o nips_graph.png "
     ],
     "language": "python",
     "metadata": {},
     "outputs": [],
     "prompt_number": 53
    },
    {
     "cell_type": "heading",
     "level": 1,
     "metadata": {},
     "source": [
      "Clustering"
     ]
    },
    {
     "cell_type": "code",
     "collapsed": false,
     "input": [
      "seed = 'convex'\n",
      "from collections import deque\n",
      "import networkx as nx\n",
      "\n",
      "q = deque([full_graph[index_of[seed]]])\n",
      "g = nx.Graph()\n",
      "g.add_node(seed, node_color='r')\n",
      "\n",
      "visited = {}\n",
      "visited[seed] = True\n",
      "while len(q) != 0 and n_nodes >= 0:\n",
      "    top = q.popleft()\n",
      "    for neighbor, weight in top['result']['topic_imaging']:\n",
      "        if neighbor == top['query']:\n",
      "            continue\n",
      "        if neighbor in visited:\n",
      "            continue\n",
      "        visited[neighbor] = True\n",
      "        g.add_edge(top['query'], neighbor)\n",
      "        q.append(full_graph[index_of[neighbor]])\n",
      "print len(g.nodes()), len(g.edges()), g.nodes()\n",
      "\n",
      "print(\"Rendering...\")\n",
      "nx.write_dot(g,\"nips_cluster.dot\")\n",
      "print(\"Done\")\n",
      "from subprocess import check_output\n",
      "out = check_output([\"sfdp -Tpng -Nstyle=filled -Nfillcolor=white -Ecolor=#00000020 -Gratio=fill -Goutputorder=edgesfirst -Goverlap=prism -size=50 nips_cluster.dot -o nips_cluster.png\"], shell=True)\n",
      "print out"
     ],
     "language": "python",
     "metadata": {},
     "outputs": [
      {
       "output_type": "stream",
       "stream": "stdout",
       "text": [
        "37 36 ['layer', 'set', 'features', 'point', 'image', 'neuron', 'feature', 'result', 'learning', 'convex', 'images', 'recognition', 'information', 'network', 'pattern', 'system', 'cell', 'field', 'unit', 'input', 'method', 'function', 'direction', 'object', 'visual', 'output', 'data', 'model', 'training', 'algorithm', 'neural', 'signal', 'motion', 'vector', 'representation', 'problem', 'classifier']\n",
        "Rendering...\n",
        "Done\n"
       ]
      },
      {
       "output_type": "stream",
       "stream": "stdout",
       "text": [
        "\n"
       ]
      }
     ],
     "prompt_number": 88
    },
    {
     "cell_type": "code",
     "collapsed": false,
     "input": [],
     "language": "python",
     "metadata": {},
     "outputs": []
    }
   ],
   "metadata": {}
  }
 ]
}