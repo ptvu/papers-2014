{
 "metadata": {
  "name": "",
  "signature": "sha256:a5f4e70ccfd29f4a35c277151947aee0b69f1e16bbe9ab636c38c9d296e78866"
 },
 "nbformat": 3,
 "nbformat_minor": 0,
 "worksheets": [
  {
   "cells": [
    {
     "cell_type": "code",
     "collapsed": false,
     "input": [
      "# Import data from graph\n",
      "import cPickle as pickle\n",
      "full_graph = pickle.load(open('nytimes_full_graph.pickle', 'rb'))\n",
      "index_of = dict([(value['query'], index) for index, value in enumerate(full_graph)])"
     ],
     "language": "python",
     "metadata": {},
     "outputs": [],
     "prompt_number": 2
    },
    {
     "cell_type": "code",
     "collapsed": false,
     "input": [
      "seed = 'statistic'\n",
      "full_graph[index_of[seed]]"
     ],
     "language": "python",
     "metadata": {},
     "outputs": [
      {
       "metadata": {},
       "output_type": "pyout",
       "prompt_number": 4,
       "text": [
        "{'feature_query_id': 37574,\n",
        " 'query': 'statistic',\n",
        " 'result': {'num_neg_documents': 293771,\n",
        "  'num_pos_documents': 6229,\n",
        "  'topic_imaging': [('women', 0.013285021748831219),\n",
        "   ('com', 0.0070887381410119224),\n",
        "   ('percent', 0.007020883981007879),\n",
        "   ('team', 0.00523376308743813),\n",
        "   ('drug', 0.005117680008604565),\n",
        "   ('school', 0.0034456168929058737),\n",
        "   ('official', 0.0026438104224559694),\n",
        "   ('patient', 0.001401368962326459),\n",
        "   ('campaign', 2.2601677402345703e-10),\n",
        "   ('president', 1.9912320019308414e-10)],\n",
        "  'total_time': 3.095781087875366}}"
       ]
      }
     ],
     "prompt_number": 4
    },
    {
     "cell_type": "code",
     "collapsed": false,
     "input": [
      "seed_another = 'research'\n",
      "full_graph[index_of[seed_another]]"
     ],
     "language": "python",
     "metadata": {},
     "outputs": [
      {
       "metadata": {},
       "output_type": "pyout",
       "prompt_number": 5,
       "text": [
        "{'feature_query_id': 32899,\n",
        " 'query': 'research',\n",
        " 'result': {'num_neg_documents': 272974,\n",
        "  'num_pos_documents': 27026,\n",
        "  'topic_imaging': [('patient', 0.02207463888484917),\n",
        "   ('drug', 0.02112276783637004),\n",
        "   ('com', 0.017528586647549773),\n",
        "   ('cell', 0.017365096751351353),\n",
        "   ('web', 0.015966660343088298),\n",
        "   ('computer', 0.015465608749958223),\n",
        "   ('doctor', 0.015286100446678373),\n",
        "   ('percent', 0.015227329268745921),\n",
        "   ('information', 0.014953571492040366),\n",
        "   ('site', 0.013414705494753173)],\n",
        "  'total_time': 11.569014072418213}}"
       ]
      }
     ],
     "prompt_number": 5
    },
    {
     "cell_type": "code",
     "collapsed": false,
     "input": [
      "# Install GraphViz: http://www.graphviz.org/Download_macos.php\n",
      "# Also pip install pygraphviz "
     ],
     "language": "python",
     "metadata": {},
     "outputs": [],
     "prompt_number": 14
    },
    {
     "cell_type": "code",
     "collapsed": false,
     "input": [
      "# Do BFS and get partial nodes to draw\n",
      "from collections import deque\n",
      "import networkx as nx\n",
      "\n",
      "q = deque([full_graph[index_of[seed]]])\n",
      "n_nodes = 5000\n",
      "g = nx.Graph()\n",
      "g.add_node(seed, node_color='r')\n",
      "\n",
      "visited = {}\n",
      "while len(q) != 0 and n_nodes >= 0:\n",
      "    top = q.popleft()\n",
      "    if top['query'] in visited:\n",
      "        continue\n",
      "    visited[top['query']] = True\n",
      "    n_nodes -= 1\n",
      "    for neighbor, weight in top['result']['topic_imaging']:\n",
      "        if neighbor == top['query']:\n",
      "            continue\n",
      "        g.add_edge(top['query'], neighbor)\n",
      "        q.append(full_graph[index_of[neighbor]])\n",
      "print(\"Done\")\n",
      "print len(g.nodes()), len(g.edges())\n",
      "\n",
      "print(\"Rendering...\")\n",
      "nx.write_dot(g,\"graph.dot\")\n",
      "print(\"Done\")\n",
      "from subprocess import check_output\n",
      "out = check_output([\"sfdp -Tpng -Nstyle=filled -Nfillcolor=white -Ecolor=#00000020 -Gratio=fill -Goutputorder=edgesfirst -Goverlap=prism -size=50 graph.dot -o NYTimes_%s.png\" % seed], shell=True)\n",
      "print out"
     ],
     "language": "python",
     "metadata": {},
     "outputs": [
      {
       "output_type": "stream",
       "stream": "stdout",
       "text": [
        "Done\n",
        "85 609\n",
        "Rendering...\n",
        "Done\n"
       ]
      },
      {
       "output_type": "stream",
       "stream": "stdout",
       "text": [
        "\n"
       ]
      }
     ],
     "prompt_number": 28
    },
    {
     "cell_type": "code",
     "collapsed": false,
     "input": [
      "# Command: sfdp -Tpng -Nstyle=filled -Nfillcolor=white -Ecolor=#00000020 -Gratio=fill -Goutputorder=edgesfirst -Goverlap=prism -size=50 nips_graph.dot -o nips_graph.png "
     ],
     "language": "python",
     "metadata": {},
     "outputs": [],
     "prompt_number": 6
    },
    {
     "cell_type": "heading",
     "level": 1,
     "metadata": {},
     "source": [
      "Clustering"
     ]
    },
    {
     "cell_type": "code",
     "collapsed": false,
     "input": [
      "seed = 'statistic'\n",
      "from collections import deque\n",
      "import networkx as nx\n",
      "\n",
      "q = deque([full_graph[index_of[seed]]])\n",
      "g = nx.Graph()\n",
      "g.add_node(seed, node_color='r')\n",
      "\n",
      "n_nodes = 25\n",
      "visited = {}\n",
      "visited[seed] = True\n",
      "while len(q) != 0 and n_nodes >= 0:\n",
      "    top = q.popleft()\n",
      "    for neighbor, weight in top['result']['topic_imaging']:\n",
      "        if abs(weight) < 1e-8:\n",
      "            continue\n",
      "        if neighbor == top['query']:\n",
      "            continue\n",
      "        g.add_edge(top['query'], neighbor)\n",
      "        if not neighbor in visited:\n",
      "            n_nodes -= 1\n",
      "            visited[neighbor] = True\n",
      "            q.append(full_graph[index_of[neighbor]])\n",
      "print len(g.nodes()), len(g.edges()), g.nodes()\n",
      "\n",
      "print(\"Rendering...\")\n",
      "nx.write_dot(g,\"nips_cluster.dot\")\n",
      "print(\"Done\")\n",
      "from subprocess import check_output\n",
      "out = check_output([\"sfdp -Tpng -Nstyle=filled -Nfillcolor=white -Ecolor=#00000020 -Gratio=fill -Goutputorder=edgesfirst -Goverlap=prism -size=50 nips_cluster.dot -o NYTimes_sparse_%s.png\" % seed], shell=True)\n",
      "print out"
     ],
     "language": "python",
     "metadata": {},
     "outputs": [
      {
       "output_type": "stream",
       "stream": "stdout",
       "text": [
        "28 35 ['www', 'right', 'family', 'show', 'site', 'high', 'computer', 'statistic', 'need', 'home', 'children', 'film', 'web', 'government', 'percent', 'system', 'book', 'patient', 'information', 'million', 'women', 'school', 'look', 'official', 'drug', 'american', 'team', 'com']\n",
        "Rendering...\n",
        "Done\n"
       ]
      },
      {
       "output_type": "stream",
       "stream": "stdout",
       "text": [
        "\n"
       ]
      }
     ],
     "prompt_number": 60
    },
    {
     "cell_type": "code",
     "collapsed": false,
     "input": [],
     "language": "python",
     "metadata": {},
     "outputs": []
    }
   ],
   "metadata": {}
  }
 ]
}