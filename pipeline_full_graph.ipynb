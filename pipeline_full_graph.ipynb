{
 "metadata": {
  "name": "",
  "signature": "sha256:f8747f3abd8ab1ce0ccf725f80e3759967595d90cb89a5c588c6d974d9af930f"
 },
 "nbformat": 3,
 "nbformat_minor": 0,
 "worksheets": [
  {
   "cells": [
    {
     "cell_type": "code",
     "collapsed": false,
     "input": [
      "import scipy\n",
      "from scipy import *\n",
      "from scipy.sparse import *\n",
      "from scipy.sparse.linalg import *\n",
      "\n",
      "vocab = [line.strip() for line in open('vocab.nips.txt', 'rb')]\n",
      "stop_words = [not str.isalpha(word) for word in vocab]\n",
      "\n",
      "skiprows = 3\n",
      "I = []\n",
      "J = []\n",
      "V = []\n",
      "with open('docword.nips.txt') as csvfile:\n",
      "    line_cnt = 0\n",
      "    for line in csvfile:\n",
      "        line_cnt = line_cnt + 1\n",
      "        if (line_cnt % 10000000 == 0):\n",
      "            print line_cnt\n",
      "        if (line_cnt == 1):\n",
      "            num_rows = int(line.strip())\n",
      "        if (line_cnt == 2):\n",
      "            num_cols = int(line.strip())\n",
      "        if (line_cnt > skiprows):\n",
      "            row = line.strip().split(' ')\n",
      "            r, c, v = [int(e) for e in row]\n",
      "            r = r - 1\n",
      "            c = c - 1\n",
      "            if (not stop_words[c]):\n",
      "                I.append(r)\n",
      "                J.append(c)\n",
      "                V.append(v)\n",
      "\n",
      "A = scipy.sparse.coo_matrix((V, (I, J)), dtype='float')\n",
      "    \n",
      "rank = 11\n",
      "P, D, QT = svds(A, k = rank)\n",
      "save_D = D\n",
      "epsilon = D[0]\n",
      "P = P[:, 1:rank]\n",
      "D = D[1:rank]\n",
      "QT = QT[1:rank, :]\n",
      "\n",
      "S = scipy.sqrt(D)\n",
      "P = P.dot(diag(S))\n",
      "QT = diag(S).dot(QT)\n",
      "print P.shape, QT.shape, epsilon\n",
      "# print scipy.linalg.norm(A - P.dot(QT), ord=2)\n",
      "import pickle\n",
      "pickle.dump( (P, QT, epsilon), open( \"lr.pickle\", \"wb\" ) )\n",
      "# pickle.dump( A, open( \"original.pickle\", \"wb\" ) )"
     ],
     "language": "python",
     "metadata": {},
     "outputs": [
      {
       "output_type": "stream",
       "stream": "stdout",
       "text": [
        "(1500, 10) (10, 12419) 415.764884226\n"
       ]
      }
     ],
     "prompt_number": 31
    },
    {
     "cell_type": "code",
     "collapsed": false,
     "input": [
      "Q = P\n",
      "P = QT.T\n",
      "Q.shape, P.shape"
     ],
     "language": "python",
     "metadata": {},
     "outputs": [
      {
       "metadata": {},
       "output_type": "pyout",
       "prompt_number": 32,
       "text": [
        "((1500, 10), (12419, 10))"
       ]
      }
     ],
     "prompt_number": 32
    },
    {
     "cell_type": "code",
     "collapsed": false,
     "input": [
      "from scipy.linalg import *\n",
      "import cvxopt\n",
      "from cvxpy import *\n",
      "    \n",
      "def find_topic_imaging(P, Q, y, lambd = 0.15, epsilon = 10, NUM_WORDS = 10):\n",
      "    lambd = 0.15\n",
      "    epsilon = 10\n",
      "\n",
      "    K = Q.T.dot(Q)\n",
      "\n",
      "    c = inv(sqrtm(K)).dot(Q.T.dot(y))\n",
      "    s = numpy.sqrt(y.T.dot(y) - c.T.dot(c))\n",
      "    R = P.dot(sqrtm(K))\n",
      "\n",
      "    n = P.shape[0]\n",
      "    k = K.shape[0]\n",
      "    w = Variable(n)\n",
      "    objective = Minimize(norm(vstack(c - R.T * w, s), 2) + epsilon * norm(w, 2) + lambd * norm(w, 1))\n",
      "    p = Problem(objective)\n",
      "\n",
      "    import time\n",
      "    start = time.time()\n",
      "    p.solve()\n",
      "    total_time = time.time() - start\n",
      "    weights = sorted(w.value, reverse=True)\n",
      "    order = sorted(range(len(weights)), reverse=True, key=lambda k: w.value[k])\n",
      "\n",
      "    topic_imaging = [(vocab[order[i]], float(w.value[order[i]])) for i in range(NUM_WORDS)]\n",
      "    return {'total_time': total_time,\n",
      "            'topic_imaging' : topic_imaging, \n",
      "            'num_pos_documents' : len(numpy.where(y == 1)[0]), \n",
      "            'num_neg_documents' : len(numpy.where(y == -1)[0])}\n",
      "\n",
      "def make_query(P, Q, query):\n",
      "    feature_query_id = -1\n",
      "    for i, each in enumerate(vocab):\n",
      "        if each == query:\n",
      "            feature_query_id = i\n",
      "    import numpy\n",
      "    label = -numpy.ones([Q.shape[0], 1])\n",
      "    label[ find(full_matrix[:, feature_query_id] != 0)[0] ] = 1\n",
      "    return find_topic_imaging(P, Q, label)"
     ],
     "language": "python",
     "metadata": {},
     "outputs": [],
     "prompt_number": 33
    },
    {
     "cell_type": "code",
     "collapsed": false,
     "input": [
      "make_query(P, Q, query = 'optimization')"
     ],
     "language": "python",
     "metadata": {},
     "outputs": [
      {
       "metadata": {},
       "output_type": "pyout",
       "prompt_number": 34,
       "text": [
        "{'num_neg_documents': 1132,\n",
        " 'num_pos_documents': 368,\n",
        " 'topic_imaging': [('algorithm', 0.0045210827185206744),\n",
        "  ('neural', 2.996884966947586e-10),\n",
        "  ('variables', 1.3103861794896997e-10),\n",
        "  ('recurrent', 1.2513559722292192e-10),\n",
        "  ('weight', 1.073543566728056e-10),\n",
        "  ('likelihood', 9.307045394294854e-11),\n",
        "  ('distribution', 9.249993023595098e-11),\n",
        "  ('parameter', 8.873124972840624e-11),\n",
        "  ('bound', 8.799657127578652e-11),\n",
        "  ('problem', 7.894393225600618e-11)],\n",
        " 'total_time': 3.8147618770599365}"
       ]
      }
     ],
     "prompt_number": 34
    },
    {
     "cell_type": "code",
     "collapsed": false,
     "input": [
      "import numpy\n",
      "full_graph = []\n",
      "for feature_query_id in range(len(vocab)):\n",
      "    query = vocab[feature_query_id]\n",
      "    cur = {}\n",
      "    cur['query'] = query\n",
      "    cur['feature_query_id'] = feature_query_id\n",
      "\n",
      "    if not stop_words[feature_query_id]:\n",
      "        label = -numpy.ones([Q.shape[0], 1])\n",
      "        label[ find(full_matrix[:, feature_query_id] != 0)[0] ] = 1\n",
      "        cur['result'] = find_topic_imaging(P, Q, label)\n",
      "    # print cur\n",
      "    full_graph.append(cur)\n",
      "import pickle\n",
      "pickle.dump( full_graph, open( \"full_graph.pickle\", \"wb\" ) )"
     ],
     "language": "python",
     "metadata": {},
     "outputs": [
      {
       "output_type": "stream",
       "stream": "stdout",
       "text": [
        "{'query': 'a2i', 'feature_query_id': 0}\n",
        "{'query': 'aaa', 'feature_query_id': 1, 'result': {'total_time': 3.745548963546753, 'num_neg_documents': 1486, 'num_pos_documents': 14, 'topic_imaging': [('generalization', 1.512070334044635e-10), ('hidden', 1.2528157934720016e-10), ('student', 1.0557162740132897e-10), ('teacher', 7.691016586357368e-11), ('validation', 5.917042921573854e-11), ('recurrent', 5.6951077940506685e-11), ('error', 5.246949538205543e-11), ('decay', 4.436983658172569e-11), ('pruning', 4.3923362466121623e-11), ('weigend', 4.1314195860606596e-11)]}}"
       ]
      },
      {
       "output_type": "stream",
       "stream": "stdout",
       "text": [
        "\n",
        "{'query': 'aaai', 'feature_query_id': 2, 'result': {'total_time': 3.443828821182251, 'num_neg_documents': 1447, 'num_pos_documents': 53, 'topic_imaging': [('generalization', 3.034951783571015e-11), ('controller', 1.9388936021850638e-11), ('validation', 1.9198503320110716e-11), ('student', 1.6666586029529853e-11), ('plant', 1.4176260965673428e-11), ('forward', 1.2992724467278503e-11), ('teacher', 1.017399894167663e-11), ('weigend', 8.531975116021144e-12), ('obd', 8.399293148423086e-12), ('tdnn', 7.80051065584135e-12)]}}"
       ]
      },
      {
       "output_type": "stream",
       "stream": "stdout",
       "text": [
        "\n",
        "{'query': 'aapo', 'feature_query_id': 3, 'result': {'total_time': 3.470767021179199, 'num_neg_documents': 1492, 'num_pos_documents': 8, 'topic_imaging': [('recurrent', 1.304231778088222e-10), ('student', 1.2686915644325776e-10), ('controller', 1.1329899454337765e-10), ('plant', 9.590916255809589e-11), ('teacher', 9.297577463082772e-11), ('weigend', 6.55582449151056e-11), ('obd', 6.335972134488931e-11), ('pruning', 5.385461996442129e-11), ('forward', 5.302863577830115e-11), ('regularizer', 4.979788113501856e-11)]}}"
       ]
      },
      {
       "output_type": "stream",
       "stream": "stdout",
       "text": [
        "\n",
        "{'query': 'aat', 'feature_query_id': 4, 'result': {'total_time': 3.4654319286346436, 'num_neg_documents': 1495, 'num_pos_documents': 5, 'topic_imaging': [('student', 6.457191596789071e-10), ('controller', 5.484050155178808e-10), ('recurrent', 5.075769825543971e-10), ('teacher', 4.662347403922384e-10), ('plant', 4.416794368801082e-10), ('weigend', 3.040786446948099e-10), ('obd', 2.9827946226383633e-10), ('forward', 2.885658869525135e-10), ('pruning', 2.7749590938494676e-10), ('biases', 2.229911340370447e-10)]}}"
       ]
      },
      {
       "output_type": "stream",
       "stream": "stdout",
       "text": [
        "\n",
        "{'query': 'aazhang', 'feature_query_id': 5, 'result': {'total_time': 3.394986867904663, 'num_neg_documents': 1498, 'num_pos_documents': 2, 'topic_imaging': [('student', 5.4571955050924466e-11), ('generalization', 5.0475392910890566e-11), ('teacher', 3.963315595349704e-11), ('recurrent', 3.693373386606215e-11), ('plant', 2.7872483182311895e-11), ('validation', 2.623764791041668e-11), ('controller', 2.5568746430018173e-11), ('weigend', 2.3658879907276513e-11), ('obd', 2.2560844312912345e-11), ('pruning', 2.2534459811799397e-11)]}}"
       ]
      },
      {
       "output_type": "stream",
       "stream": "stdout",
       "text": [
        "\n",
        "{'query': 'abandonment', 'feature_query_id': 6, 'result': {'total_time': 3.426232099533081, 'num_neg_documents': 1498, 'num_pos_documents': 2, 'topic_imaging': [('generalization', 5.7154540291784234e-11), ('student', 5.235773030310974e-11), ('teacher', 3.819416597882953e-11), ('recurrent', 3.2463240642021725e-11), ('plant', 2.6970561390634305e-11), ('controller', 2.6161271571597908e-11), ('validation', 2.606187465404514e-11), ('weigend', 2.2464913279099594e-11), ('obd', 2.14021161038309e-11), ('forward', 2.119233993273053e-11)]}}"
       ]
      },
      {
       "output_type": "stream",
       "stream": "stdout",
       "text": [
        "\n",
        "{'query': 'abbott', 'feature_query_id': 7, 'result': {'total_time': 3.412428855895996, 'num_neg_documents': 1474, 'num_pos_documents': 26, 'topic_imaging': [('student', 3.265087878786809e-10), ('generalization', 2.922555511240471e-10), ('teacher', 2.3671680966643677e-10), ('recurrent', 2.0239528046285078e-10), ('validation', 1.5194655212494538e-10), ('decay', 1.4293163611106224e-10), ('pruning', 1.3804742670170101e-10), ('obd', 1.226177659534171e-10), ('weigend', 1.2241505816537094e-10), ('plant', 1.0899838632459743e-10)]}}"
       ]
      },
      {
       "output_type": "stream",
       "stream": "stdout",
       "text": [
        "\n",
        "{'query': 'abbreviated', 'feature_query_id': 8, 'result': {'total_time': 3.1748430728912354, 'num_neg_documents': 1488, 'num_pos_documents': 12, 'topic_imaging': [('hidden', 5.947411384128314e-11), ('generalization', 3.0142645122812643e-11), ('student', 1.8560777641889245e-11), ('teacher', 1.3648086862356442e-11), ('recurrent', 1.2937210600671154e-11), ('weight', 1.2006770672912582e-11), ('validation', 1.070916906090191e-11), ('decay', 8.59258982975283e-12), ('pruning', 7.996133089715362e-12), ('weigend', 7.797387962262514e-12)]}}"
       ]
      },
      {
       "output_type": "stream",
       "stream": "stdout",
       "text": [
        "\n",
        "{'query': 'abcde', 'feature_query_id': 9, 'result': {'total_time': 3.494565963745117, 'num_neg_documents': 1498, 'num_pos_documents': 2, 'topic_imaging': [('generalization', 4.649090564415479e-11), ('student', 3.833573620355426e-11), ('hidden', 3.751037984459904e-11), ('teacher', 2.8322735755675163e-11), ('recurrent', 2.641158214462932e-11), ('validation', 2.0634811543821472e-11), ('plant', 1.7204565404036026e-11), ('weigend', 1.611935916740586e-11), ('pruning', 1.5641490677649148e-11), ('forward', 1.5584193876394385e-11)]}}"
       ]
      },
      {
       "output_type": "stream",
       "stream": "stdout",
       "text": [
        "\n",
        "{'query': 'abe', 'feature_query_id': 10, 'result': {'total_time': 4.072735071182251, 'num_neg_documents': 1493, 'num_pos_documents': 7, 'topic_imaging': [('student', 9.852036527218807e-11), ('controller', 8.208407035994972e-11), ('recurrent', 7.645559690757113e-11), ('teacher', 7.182368216209103e-11), ('plant', 6.238928352728342e-11), ('forward', 4.5472407515159464e-11), ('weigend', 4.3224007049916524e-11), ('obd', 4.1989080266176576e-11), ('pruning', 3.949442045739767e-11), ('decay', 3.225660837821906e-11)]}}"
       ]
      },
      {
       "output_type": "stream",
       "stream": "stdout",
       "text": [
        "\n",
        "{'query': 'abeles', 'feature_query_id': 11, 'result': {'total_time': 3.541274070739746, 'num_neg_documents': 1481, 'num_pos_documents': 19, 'topic_imaging': [('student', 2.3276608059891534e-10), ('teacher', 1.6159875847816714e-10), ('recurrent', 1.563050090030311e-10), ('generalization', 1.2993479546118314e-10), ('pruning', 1.1031398232745958e-10), ('validation', 1.0325706815319376e-10), ('obd', 1.0298805361253867e-10), ('weigend', 1.0223812794022653e-10), ('decay', 9.499441376246987e-11), ('plant', 8.462236547040352e-11)]}}"
       ]
      },
      {
       "output_type": "stream",
       "stream": "stdout",
       "text": [
        "\n",
        "{'query': 'abi', 'feature_query_id': 12, 'result': {'total_time': 3.549288034439087, 'num_neg_documents': 1499, 'num_pos_documents': 1, 'topic_imaging': [('student', 1.1459773524988124e-10), ('generalization', 9.119610698316393e-11), ('teacher', 8.303084368022069e-11), ('recurrent', 7.776083205033819e-11), ('plant', 5.793534110680593e-11), ('validation', 5.110289643686781e-11), ('weigend', 5.022284459502844e-11), ('controller', 4.97432866967949e-11), ('obd', 4.821329263537163e-11), ('pruning', 4.812273783809811e-11)]}}"
       ]
      },
      {
       "output_type": "stream",
       "stream": "stdout",
       "text": [
        "\n",
        "{'query': 'abilistic', 'feature_query_id': 13, 'result': {'total_time': 3.946769952774048, 'num_neg_documents': 1494, 'num_pos_documents': 6, 'topic_imaging': [('student', 2.28640767704916e-10), ('generalization', 2.202653440147578e-10), ('teacher', 1.5602603621762837e-10), ('validation', 1.372266812353772e-10), ('plant', 1.1343212215839287e-10), ('pruning', 1.009173852917144e-10), ('controller', 9.95949962124658e-11), ('obd', 9.820623289591396e-11), ('weigend', 9.80298996106009e-11), ('recurrent', 9.493524352003034e-11)]}}"
       ]
      },
      {
       "output_type": "stream",
       "stream": "stdout",
       "text": [
        "\n",
        "{'query': 'abilities', 'feature_query_id': 14, 'result': {'total_time': 3.6619579792022705, 'num_neg_documents': 1410, 'num_pos_documents': 90, 'topic_imaging': [('recurrent', 3.971516668455899e-10), ('controller', 2.86859147242962e-10), ('plant', 1.8616414296465558e-10), ('forward', 1.762324562986653e-10), ('student', 1.0149757090858932e-10), ('teacher', 1.009412417144544e-10), ('weigend', 8.845453470449158e-11), ('ary', 8.278194061305232e-11), ('biases', 8.158009441276357e-11), ('obd', 8.039512830315514e-11)]}}"
       ]
      },
      {
       "output_type": "stream",
       "stream": "stdout",
       "text": [
        "\n",
        "{'query': 'ability', 'feature_query_id': 15, 'result': {'total_time': 3.6492671966552734, 'num_neg_documents': 1086, 'num_pos_documents': 414, 'topic_imaging': [('training', 0.004665214274615259), ('unit', 0.002527174728298642), ('error', 0.0023687184016320784), ('network', 0.0012361017490778118), ('learning', 0.00040362701486001425), ('generalization', 1.4576731993651247e-10), ('task', 1.2033416882087343e-10), ('object', 1.0782007630080888e-10), ('hidden', 8.210853435882284e-11), ('trained', 7.037891211474178e-11)]}}"
       ]
      },
      {
       "output_type": "stream",
       "stream": "stdout",
       "text": [
        "\n",
        "{'query': 'abl', 'feature_query_id': 16, 'result': {'total_time': 4.590541839599609, 'num_neg_documents': 1499, 'num_pos_documents': 1, 'topic_imaging': [('generalization', 4.6325912185930416e-11), ('hidden', 4.3173793853375875e-11), ('student', 3.0201500273343355e-11), ('teacher', 2.225043710774338e-11), ('recurrent', 1.7851543706626167e-11), ('validation', 1.7600057123523634e-11), ('error', 1.285806893822983e-11), ('weigend', 1.1749316275986108e-11), ('pruning', 1.1599981817021944e-11), ('plant', 1.1409916006552989e-11)]}}"
       ]
      },
      {
       "output_type": "stream",
       "stream": "stdout",
       "text": [
        "\n",
        "{'query': 'able', 'feature_query_id': 17, 'result': {'total_time': 0.8263030052185059, 'num_neg_documents': 898, 'num_pos_documents': 602, 'topic_imaging': [('system', 0.0046384923230469175), ('learning', 0.004513960047024365), ('unit', 0.0026614519131889424), ('network', 0.0003620691880074573), ('training', 1.6845569457506148e-10), ('output', 1.569099293845093e-10), ('word', 1.526946184321423e-10), ('recognition', 1.5075693626855579e-10), ('task', 1.474103203745123e-10), ('control', 1.4389226913253402e-10)]}}"
       ]
      },
      {
       "output_type": "stream",
       "stream": "stdout",
       "text": [
        "\n",
        "{'query': 'ables', 'feature_query_id': 18, 'result': {'total_time': 4.659483909606934, 'num_neg_documents': 1464, 'num_pos_documents': 36, 'topic_imaging': [('hidden', 1.036614073592874e-10), ('recurrent', 4.784492822222374e-11), ('student', 2.7097434518317515e-11), ('teacher', 2.1739223575462497e-11), ('weigend', 1.8378785157475545e-11), ('biases', 1.7215488268512187e-11), ('plant', 1.5578222855972085e-11), ('pruning', 1.542767533327016e-11), ('obd', 1.515725857863533e-11), ('forward', 1.4049746856948745e-11)]}}"
       ]
      },
      {
       "output_type": "stream",
       "stream": "stdout",
       "text": [
        "\n",
        "{'query': 'ablex', 'feature_query_id': 19, 'result': {'total_time': 4.30506706237793, 'num_neg_documents': 1492, 'num_pos_documents': 8, 'topic_imaging': [('hidden', 7.056673525914839e-11), ('generalization', 4.0010886712587334e-11), ('student', 3.029260725331945e-11), ('teacher', 2.327263286210735e-11), ('recurrent', 2.307854912069545e-11), ('weigend', 1.3292031957052059e-11), ('biases', 1.3035063368294955e-11), ('plant', 1.233741856541592e-11), ('validation', 1.2311462603834792e-11), ('obd', 1.1862953181298041e-11)]}}"
       ]
      },
      {
       "output_type": "stream",
       "stream": "stdout",
       "text": [
        "\n",
        "{'query': 'ably', 'feature_query_id': 20, 'result': {'total_time': 4.135051965713501, 'num_neg_documents': 1490, 'num_pos_documents': 10, 'topic_imaging': [('controller', 1.1742611442349e-09), ('student', 1.052103307150001e-09), ('recurrent', 9.513275961890597e-10), ('plant', 8.89039021413065e-10), ('teacher', 7.518024075616294e-10), ('weigend', 5.371245836165301e-10), ('forward', 5.243775268035665e-10), ('obd', 5.20807131323015e-10), ('regularizer', 4.097744801849504e-10), ('glucose', 3.850405179350247e-10)]}}"
       ]
      },
      {
       "output_type": "stream",
       "stream": "stdout",
       "text": [
        "\n",
        "{'query': 'abnormal', 'feature_query_id': 21, 'result': {'total_time': 4.864019870758057, 'num_neg_documents': 1486, 'num_pos_documents': 14, 'topic_imaging': [('student', 3.4048261620419673e-10), ('teacher', 2.3599585995108124e-10), ('recurrent', 2.1711925642360233e-10), ('generalization', 1.952113688903596e-10), ('plant', 1.8065446374590912e-10), ('validation', 1.739221616872788e-10), ('pruning', 1.533795002516997e-10), ('weigend', 1.525475686559607e-10), ('obd', 1.5120889968358155e-10), ('controller', 1.4225831638708586e-10)]}}"
       ]
      },
      {
       "output_type": "stream",
       "stream": "stdout",
       "text": [
        "\n",
        "{'query': 'abort', 'feature_query_id': 22, 'result': {'total_time': 4.505841016769409, 'num_neg_documents': 1493, 'num_pos_documents': 7, 'topic_imaging': [('student', 1.4650366002123036e-09), ('recurrent', 1.336468591530932e-09), ('controller', 1.0898328222252105e-09), ('teacher', 1.0749822175391572e-09), ('plant', 9.731119604476065e-10), ('weigend', 7.052562014219485e-10), ('obd', 6.765751129202192e-10), ('pruning', 5.880848392014936e-10), ('forward', 5.341898040277562e-10), ('biases', 5.313848427249356e-10)]}}"
       ]
      },
      {
       "output_type": "stream",
       "stream": "stdout",
       "text": [
        "\n",
        "{'query': 'abound', 'feature_query_id': 23, 'result': {'total_time': 3.7562241554260254, 'num_neg_documents': 1488, 'num_pos_documents': 12, 'topic_imaging': [('student', 8.399451846092914e-10), ('recurrent', 8.075011910022574e-10), ('teacher', 6.289327187009317e-10), ('weigend', 4.3435288756577445e-10), ('plant', 4.228928477030297e-10), ('obd', 4.021051700433055e-10), ('pruning', 3.9066651456742703e-10), ('biases', 3.718364950625247e-10), ('regularizer', 3.1250123435232826e-10), ('hidden', 3.0966885305645715e-10)]}}"
       ]
      },
      {
       "output_type": "stream",
       "stream": "stdout",
       "text": [
        "\n",
        "{'query': 'abramowicz', 'feature_query_id': 24, 'result': {'total_time': 3.6629178524017334, 'num_neg_documents': 1496, 'num_pos_documents': 4, 'topic_imaging': [('generalization', 3.7982447135393057e-11), ('hidden', 3.1703979774944474e-11), ('student', 3.014184062666312e-11), ('teacher', 2.1907046280569314e-11), ('recurrent', 1.9713002048446075e-11), ('validation', 1.658866517374458e-11), ('weigend', 1.279450571315435e-11), ('pruning', 1.2505471493377436e-11), ('plant', 1.22363624937147e-11), ('obd', 1.2001286902385273e-11)]}}"
       ]
      },
      {
       "output_type": "stream",
       "stream": "stdout",
       "text": [
        "\n",
        "{'query': 'abrash', 'feature_query_id': 25, 'result': {'total_time': 3.4744839668273926, 'num_neg_documents': 1494, 'num_pos_documents': 6, 'topic_imaging': [('generalization', 3.972557834783852e-11), ('error', 3.1437338016724214e-11), ('student', 2.422158762628048e-11), ('hidden', 2.1496653111939693e-11), ('validation', 1.8198505529569273e-11), ('teacher', 1.6976210534256392e-11), ('controller', 1.4438678975985374e-11), ('forward', 1.3906114369802062e-11), ('plant', 1.20254295297882e-11), ('tdnn', 1.0003568933857396e-11)]}}"
       ]
      },
      {
       "output_type": "stream",
       "stream": "stdout",
       "text": [
        "\n",
        "{'query': 'abrupt', 'feature_query_id': 26, 'result': {'total_time': 3.576539993286133, 'num_neg_documents': 1484, 'num_pos_documents': 16, 'topic_imaging': [('hidden', 4.194308314097407e-11), ('generalization', 2.450335859461117e-11), ('student', 1.7929968700931436e-11), ('recurrent', 1.4520220662651088e-11), ('teacher', 1.4171160245641411e-11), ('forward', 1.0949689973714942e-11), ('controller', 8.422309930380136e-12), ('plant', 8.33579892130899e-12), ('validation', 7.684706747829308e-12), ('weigend', 7.439869133989022e-12)]}}"
       ]
      },
      {
       "output_type": "stream",
       "stream": "stdout",
       "text": [
        "\n",
        "{'query': 'abruptly', 'feature_query_id': 27, 'result': {'total_time': 3.6891980171203613, 'num_neg_documents': 1491, 'num_pos_documents': 9, 'topic_imaging': [('student', 4.5202440997984746e-11), ('recurrent', 3.4922669553199184e-11), ('teacher', 3.348484999891896e-11), ('controller', 3.244156135742943e-11), ('generalization', 3.083089288007786e-11), ('plant', 2.8066870086755897e-11), ('forward', 2.1789720162973357e-11), ('weigend', 2.029898277428742e-11), ('obd', 1.9521333192636365e-11), ('pruning', 1.7958504617878467e-11)]}}"
       ]
      },
      {
       "output_type": "stream",
       "stream": "stdout",
       "text": [
        "\n",
        "{'query': 'abscissa', 'feature_query_id': 28, 'result': {'total_time': 3.6534900665283203, 'num_neg_documents': 1484, 'num_pos_documents': 16, 'topic_imaging': [('student', 1.0969251435263497e-10), ('generalization', 9.322565440077952e-11), ('teacher', 7.575704041262697e-11), ('recurrent', 5.591034030803904e-11), ('validation', 5.1232217196018373e-11), ('plant', 4.88878290287234e-11), ('weigend', 4.6814532327595676e-11), ('obd', 4.6783101041642675e-11), ('pruning', 4.568462995407271e-11), ('decay', 3.8307865006554376e-11)]}}"
       ]
      },
      {
       "output_type": "stream",
       "stream": "stdout",
       "text": [
        "\n",
        "{'query': 'absence', 'feature_query_id': 29, 'result': {'total_time': 3.4479129314422607, 'num_neg_documents': 1323, 'num_pos_documents': 177, 'topic_imaging': [('recurrent', 8.797172149674023e-11), ('teacher', 3.140832991202363e-11), ('plant', 3.054534026154178e-11), ('student', 2.890918406001636e-11), ('controller', 2.708374200965203e-11), ('biases', 1.777048903150073e-11), ('dfa', 1.767226238222959e-11), ('glucose', 1.7455694083306606e-11), ('weigend', 1.7445238438173067e-11), ('obd', 1.5662223032114626e-11)]}}"
       ]
      },
      {
       "output_type": "stream",
       "stream": "stdout",
       "text": [
        "\n",
        "{'query': 'absent', 'feature_query_id': 30, 'result': {'total_time': 3.40982985496521, 'num_neg_documents': 1464, 'num_pos_documents': 36, 'topic_imaging': [('generalization', 8.996502108842461e-11), ('error', 5.47049952591624e-11), ('student', 5.2785729238114753e-11), ('hidden', 4.898263771699997e-11), ('teacher', 3.74960955463798e-11), ('validation', 3.241339334621184e-11), ('decay', 2.2977809939242867e-11), ('pruning', 2.0355752156295168e-11), ('recurrent', 1.8187206925857654e-11), ('weigend', 1.8063461741539387e-11)]}}"
       ]
      },
      {
       "output_type": "stream",
       "stream": "stdout",
       "text": [
        "\n",
        "{'query': 'absolute', 'feature_query_id': 31, 'result': {'total_time': 2.422495126724243, 'num_neg_documents': 1296, 'num_pos_documents': 204, 'topic_imaging': [('unit', 1.8580285515307207e-10), ('hidden', 8.973980308561049e-11), ('weight', 5.0790511721291986e-11), ('output', 3.364290550601578e-11), ('recurrent', 1.125010482600067e-11), ('net', 1.0887502617347845e-11), ('student', 9.83439159496846e-12), ('cascade', 8.267014677880941e-12), ('phoneme', 8.230158043691261e-12), ('teacher', 6.88070846964675e-12)]}}"
       ]
      },
      {
       "output_type": "stream",
       "stream": "stdout",
       "text": [
        "\n",
        "{'query': 'absolutely', 'feature_query_id': 32, 'result': {'total_time': 3.396456003189087, 'num_neg_documents': 1478, 'num_pos_documents': 22, 'topic_imaging': [('student', 1.4128406033028546e-10), ('teacher', 9.752022801309137e-11), ('generalization', 9.368798864837046e-11), ('recurrent', 8.613389524559119e-11), ('plant', 8.138691953870704e-11), ('controller', 8.099460409953542e-11), ('validation', 7.315483753712444e-11), ('obd', 6.248488332640817e-11), ('weigend', 6.212492133179958e-11), ('pruning', 6.165819621756602e-11)]}}"
       ]
      },
      {
       "output_type": "stream",
       "stream": "stdout",
       "text": [
        "\n",
        "{'query': 'absorb', 'feature_query_id': 33, 'result': {'total_time': 3.4897639751434326, 'num_neg_documents': 1491, 'num_pos_documents': 9, 'topic_imaging': [('student', 7.131221375979295e-11), ('recurrent', 5.5785072221149006e-11), ('teacher', 5.1478134904132445e-11), ('generalization', 4.617282442275065e-11), ('plant', 3.8910113969562305e-11), ('controller', 3.381633467835001e-11), ('weigend', 3.294749481033587e-11), ('obd', 3.149612574166929e-11), ('pruning', 3.086906812133572e-11), ('validation', 2.8963821123583677e-11)]}}"
       ]
      },
      {
       "output_type": "stream",
       "stream": "stdout",
       "text": [
        "\n",
        "{'query': 'absorbed', 'feature_query_id': 34, 'result': {'total_time': 3.495278835296631, 'num_neg_documents': 1485, 'num_pos_documents': 15, 'topic_imaging': [('controller', 5.6159613830958e-10), ('recurrent', 5.255033003291016e-10), ('student', 5.101415390516021e-10), ('plant', 4.2599845805916627e-10), ('teacher', 3.6697695525768826e-10), ('weigend', 2.657253244106338e-10), ('obd', 2.6130391369822553e-10), ('forward', 2.511856983068891e-10), ('pruning', 2.1512433552329266e-10), ('regularizer', 2.0925234611041967e-10)]}}"
       ]
      },
      {
       "output_type": "stream",
       "stream": "stdout",
       "text": [
        "\n",
        "{'query': 'absorbing', 'feature_query_id': 35, 'result': {'total_time': 3.130241870880127, 'num_neg_documents': 1480, 'num_pos_documents': 20, 'topic_imaging': [('hidden', 4.484593675137767e-11), ('student', 1.3453270126313695e-11), ('recurrent', 1.2949301751805337e-11), ('teacher', 1.2137174149759643e-11), ('generalization', 1.1947959126338362e-11), ('controller', 1.0353516855516092e-11), ('forward', 9.067824335257533e-12), ('biases', 6.678908608485212e-12), ('plant', 6.663780889912838e-12), ('weigend', 5.75109087551424e-12)]}}"
       ]
      },
      {
       "output_type": "stream",
       "stream": "stdout",
       "text": [
        "\n",
        "{'query': 'absorption', 'feature_query_id': 36, 'result': {'total_time': 3.520577907562256, 'num_neg_documents': 1491, 'num_pos_documents': 9, 'topic_imaging': [('student', 2.817183536078996e-10), ('recurrent', 2.5906486954501563e-10), ('controller', 2.4696186996359175e-10), ('teacher', 2.1055005658651936e-10), ('plant', 2.0459916946426965e-10), ('weigend', 1.4151100718737208e-10), ('obd', 1.37082504395852e-10), ('forward', 1.216362032726961e-10), ('pruning', 1.2010735133949376e-10), ('biases', 1.1189432743884284e-10)]}}"
       ]
      },
      {
       "output_type": "stream",
       "stream": "stdout",
       "text": [
        "\n",
        "{'query': 'abstr', 'feature_query_id': 37, 'result': {'total_time': 3.4002559185028076, 'num_neg_documents': 1478, 'num_pos_documents': 22, 'topic_imaging': [('student', 7.125141703939312e-10), ('teacher', 5.139123349721451e-10), ('recurrent', 4.676467394333888e-10), ('generalization', 3.112512706527527e-10), ('weigend', 3.095377217130854e-10), ('obd', 3.0561851633537497e-10), ('pruning', 2.91107852437735e-10), ('plant', 2.8312571654287653e-10), ('decay', 2.6010722600934144e-10), ('biases', 2.570967961520339e-10)]}}"
       ]
      },
      {
       "output_type": "stream",
       "stream": "stdout",
       "text": [
        "\n",
        "{'query': 'abstract', 'feature_query_id': 38, 'result': {'total_time': 3.4499988555908203, 'num_neg_documents': 45, 'num_pos_documents': 1455, 'topic_imaging': [('algorithm', 0.013381076228874031), ('system', 0.011839009035767184), ('function', 0.009175072284330447), ('cell', 0.008999798447990025), ('input', 0.008422055200522135), ('image', 0.008048926488729043), ('data', 0.007719806646285852), ('vector', 0.0070509053044027275), ('set', 0.006921517084410141), ('problem', 0.006587039013063861)]}}"
       ]
      },
      {
       "output_type": "stream",
       "stream": "stdout",
       "text": [
        "\n",
        "{'query': 'abstracted', 'feature_query_id': 39, 'result': {'total_time': 2.8799850940704346, 'num_neg_documents': 1488, 'num_pos_documents': 12, 'topic_imaging': [('hidden', 4.364195353892118e-11), ('generalization', 3.737230350813821e-11), ('student', 1.819227184663398e-11), ('teacher', 1.3887457725320914e-11), ('validation', 1.0280490393466158e-11), ('error', 7.229969721422726e-12), ('weigend', 6.457329850096082e-12), ('biases', 6.439579547545755e-12), ('predisposition', 6.41651447115636e-12), ('recurrent', 6.1500859730092434e-12)]}}"
       ]
      },
      {
       "output_type": "stream",
       "stream": "stdout",
       "text": [
        "\n",
        "{'query': 'abstraction', 'feature_query_id': 40, 'result': {'total_time': 3.3763749599456787, 'num_neg_documents': 1464, 'num_pos_documents': 36, 'topic_imaging': [('controller', 5.78750167246667e-11), ('student', 4.6327777067259205e-11), ('plant', 3.7222802869050567e-11), ('teacher', 3.4061075429534565e-11), ('recurrent', 3.097674418509519e-11), ('forward', 2.2372533590282242e-11), ('obd', 2.1698031162108082e-11), ('weigend', 2.071241918064374e-11), ('pruning', 1.856600515423375e-11), ('regularizer', 1.5855829188227666e-11)]}}"
       ]
      },
      {
       "output_type": "stream",
       "stream": "stdout",
       "text": [
        "\n",
        "{'query': 'abu', 'feature_query_id': 41, 'result': {'total_time': 2.765305995941162, 'num_neg_documents': 1475, 'num_pos_documents': 25, 'topic_imaging': [('error', 1.2843848445862003e-10), ('generalization', 9.831449507762373e-11), ('student', 4.4065765477845904e-11), ('validation', 3.728515671627302e-11), ('teacher', 3.004875554362796e-11), ('training', 2.7752288336950207e-11), ('decay', 1.739241082901666e-11), ('pruning', 1.7140242919923365e-11), ('obd', 1.479558664463789e-11), ('weigend', 1.4463165909112775e-11)]}}"
       ]
      },
      {
       "output_type": "stream",
       "stream": "stdout",
       "text": [
        "\n",
        "{'query': 'abundances', 'feature_query_id': 42, 'result': {'total_time': 3.512075901031494, 'num_neg_documents': 1499, 'num_pos_documents': 1, 'topic_imaging': [('student', 1.1908780164189545e-10), ('teacher', 8.596451058230364e-11), ('generalization', 8.586005836995696e-11), ('recurrent', 8.251460507071948e-11), ('plant', 6.365724602932194e-11), ('controller', 5.905162642363803e-11), ('weigend', 5.3169177666205455e-11), ('validation', 5.314519931865313e-11), ('obd', 5.118218979811625e-11), ('pruning', 5.0785196654466715e-11)]}}"
       ]
      },
      {
       "output_type": "stream",
       "stream": "stdout",
       "text": [
        "\n",
        "{'query': 'aca', 'feature_query_id': 43, 'result': {'total_time': 3.441375970840454, 'num_neg_documents': 1489, 'num_pos_documents': 11, 'topic_imaging': [('student', 7.998089554092592e-10), ('controller', 6.338680841151149e-10), ('teacher', 5.688035692210569e-10), ('recurrent', 5.417493956169723e-10), ('plant', 5.260806326415233e-10), ('obd', 3.6777106333042754e-10), ('weigend', 3.6543959737420583e-10), ('pruning', 3.5023279384437143e-10), ('validation', 3.320847731993901e-10), ('generalization', 3.063611286881169e-10)]}}"
       ]
      },
      {
       "output_type": "stream",
       "stream": "stdout",
       "text": [
        "\n",
        "{'query': 'acad', 'feature_query_id': 44, 'result': {'total_time': 3.2577929496765137, 'num_neg_documents': 1392, 'num_pos_documents': 108, 'topic_imaging': [('neuron', 4.926822122617546e-10), ('synaptic', 1.2871814916714312e-10), ('firing', 1.0351910921497239e-10), ('spike', 7.729399235731271e-11), ('synapses', 6.800636056640768e-11), ('synapse', 4.684013111463664e-11), ('membrane', 4.344917935494575e-11), ('excitatory', 4.338630136867897e-11), ('recurrent', 3.647364354341099e-11), ('spiking', 3.2185639295576904e-11)]}}"
       ]
      },
      {
       "output_type": "stream",
       "stream": "stdout",
       "text": [
        "\n",
        "{'query': 'academic', 'feature_query_id': 45, 'result': {'total_time': 3.1772258281707764, 'num_neg_documents': 1300, 'num_pos_documents': 200, 'topic_imaging': [('controller', 5.16312942510125e-11), ('forward', 2.703728423759569e-11), ('plant', 2.0185327942928022e-11), ('control', 1.858373064690136e-11), ('recurrent', 1.5692617451544737e-11), ('ary', 8.247163412711906e-12), ('pole', 7.339675227881597e-12), ('gamma', 6.968761790321402e-12), ('inverse', 6.319963788698152e-12), ('kawato', 5.538000460607398e-12)]}}"
       ]
      },
      {
       "output_type": "stream",
       "stream": "stdout",
       "text": [
        "\n",
        "{'query': 'academy', 'feature_query_id': 46, 'result': {'total_time': 3.539499044418335, 'num_neg_documents': 1445, 'num_pos_documents': 55, 'topic_imaging': [('hidden', 9.047387203771699e-11), ('unit', 7.741442426359102e-11), ('recurrent', 2.7159167724654122e-11), ('student', 2.5505073376937313e-11), ('generalization', 2.2680704329821065e-11), ('teacher', 2.113316352917391e-11), ('biases', 1.467802755043828e-11), ('decay', 1.2787253233270934e-11), ('weigend', 1.27500846094292e-11), ('pruning', 1.1251297258600984e-11)]}}"
       ]
      },
      {
       "output_type": "stream",
       "stream": "stdout",
       "text": [
        "\n",
        "{'query': 'acc', 'feature_query_id': 47, 'result': {'total_time': 4.42431902885437, 'num_neg_documents': 1498, 'num_pos_documents': 2, 'topic_imaging': [('generalization', 4.618545622922852e-11), ('hidden', 4.334192456529295e-11), ('student', 3.4460238341963236e-11), ('teacher', 2.5166583099981586e-11), ('recurrent', 2.2013709387147868e-11), ('validation', 1.9311837567351162e-11), ('weigend', 1.448044977901765e-11), ('pruning', 1.4149554918419205e-11), ('plant', 1.3921374164147804e-11), ('obd', 1.3504493621022706e-11)]}}"
       ]
      },
      {
       "output_type": "stream",
       "stream": "stdout",
       "text": [
        "\n"
       ]
      },
      {
       "ename": "KeyboardInterrupt",
       "evalue": "",
       "output_type": "pyerr",
       "traceback": [
        "\u001b[0;31m---------------------------------------------------------------------------\u001b[0m\n\u001b[0;31mKeyboardInterrupt\u001b[0m                         Traceback (most recent call last)",
        "\u001b[0;32m<ipython-input-37-180149016477>\u001b[0m in \u001b[0;36m<module>\u001b[0;34m()\u001b[0m\n\u001b[1;32m     10\u001b[0m         \u001b[0mlabel\u001b[0m \u001b[0;34m=\u001b[0m \u001b[0;34m-\u001b[0m\u001b[0mnumpy\u001b[0m\u001b[0;34m.\u001b[0m\u001b[0mones\u001b[0m\u001b[0;34m(\u001b[0m\u001b[0;34m[\u001b[0m\u001b[0mQ\u001b[0m\u001b[0;34m.\u001b[0m\u001b[0mshape\u001b[0m\u001b[0;34m[\u001b[0m\u001b[0;36m0\u001b[0m\u001b[0;34m]\u001b[0m\u001b[0;34m,\u001b[0m \u001b[0;36m1\u001b[0m\u001b[0;34m]\u001b[0m\u001b[0;34m)\u001b[0m\u001b[0;34m\u001b[0m\u001b[0m\n\u001b[1;32m     11\u001b[0m         \u001b[0mlabel\u001b[0m\u001b[0;34m[\u001b[0m \u001b[0mfind\u001b[0m\u001b[0;34m(\u001b[0m\u001b[0mfull_matrix\u001b[0m\u001b[0;34m[\u001b[0m\u001b[0;34m:\u001b[0m\u001b[0;34m,\u001b[0m \u001b[0mfeature_query_id\u001b[0m\u001b[0;34m]\u001b[0m \u001b[0;34m!=\u001b[0m \u001b[0;36m0\u001b[0m\u001b[0;34m)\u001b[0m\u001b[0;34m[\u001b[0m\u001b[0;36m0\u001b[0m\u001b[0;34m]\u001b[0m \u001b[0;34m]\u001b[0m \u001b[0;34m=\u001b[0m \u001b[0;36m1\u001b[0m\u001b[0;34m\u001b[0m\u001b[0m\n\u001b[0;32m---> 12\u001b[0;31m         \u001b[0mcur\u001b[0m\u001b[0;34m[\u001b[0m\u001b[0;34m'result'\u001b[0m\u001b[0;34m]\u001b[0m \u001b[0;34m=\u001b[0m \u001b[0mfind_topic_imaging\u001b[0m\u001b[0;34m(\u001b[0m\u001b[0mP\u001b[0m\u001b[0;34m,\u001b[0m \u001b[0mQ\u001b[0m\u001b[0;34m,\u001b[0m \u001b[0mlabel\u001b[0m\u001b[0;34m)\u001b[0m\u001b[0;34m\u001b[0m\u001b[0m\n\u001b[0m\u001b[1;32m     13\u001b[0m     \u001b[0;32mprint\u001b[0m \u001b[0mcur\u001b[0m\u001b[0;34m\u001b[0m\u001b[0m\n\u001b[1;32m     14\u001b[0m     \u001b[0mfull_graph\u001b[0m\u001b[0;34m.\u001b[0m\u001b[0mappend\u001b[0m\u001b[0;34m(\u001b[0m\u001b[0mcur\u001b[0m\u001b[0;34m)\u001b[0m\u001b[0;34m\u001b[0m\u001b[0m\n",
        "\u001b[0;32m<ipython-input-33-4d29d156c852>\u001b[0m in \u001b[0;36mfind_topic_imaging\u001b[0;34m(P, Q, y, lambd, epsilon, NUM_WORDS)\u001b[0m\n\u001b[1;32m     24\u001b[0m     \u001b[0mtotal_time\u001b[0m \u001b[0;34m=\u001b[0m \u001b[0mtime\u001b[0m\u001b[0;34m.\u001b[0m\u001b[0mtime\u001b[0m\u001b[0;34m(\u001b[0m\u001b[0;34m)\u001b[0m \u001b[0;34m-\u001b[0m \u001b[0mstart\u001b[0m\u001b[0;34m\u001b[0m\u001b[0m\n\u001b[1;32m     25\u001b[0m     \u001b[0mweights\u001b[0m \u001b[0;34m=\u001b[0m \u001b[0msorted\u001b[0m\u001b[0;34m(\u001b[0m\u001b[0mw\u001b[0m\u001b[0;34m.\u001b[0m\u001b[0mvalue\u001b[0m\u001b[0;34m,\u001b[0m \u001b[0mreverse\u001b[0m\u001b[0;34m=\u001b[0m\u001b[0mTrue\u001b[0m\u001b[0;34m)\u001b[0m\u001b[0;34m\u001b[0m\u001b[0m\n\u001b[0;32m---> 26\u001b[0;31m     \u001b[0morder\u001b[0m \u001b[0;34m=\u001b[0m \u001b[0msorted\u001b[0m\u001b[0;34m(\u001b[0m\u001b[0mrange\u001b[0m\u001b[0;34m(\u001b[0m\u001b[0mlen\u001b[0m\u001b[0;34m(\u001b[0m\u001b[0mweights\u001b[0m\u001b[0;34m)\u001b[0m\u001b[0;34m)\u001b[0m\u001b[0;34m,\u001b[0m \u001b[0mreverse\u001b[0m\u001b[0;34m=\u001b[0m\u001b[0mTrue\u001b[0m\u001b[0;34m,\u001b[0m \u001b[0mkey\u001b[0m\u001b[0;34m=\u001b[0m\u001b[0;32mlambda\u001b[0m \u001b[0mk\u001b[0m\u001b[0;34m:\u001b[0m \u001b[0mw\u001b[0m\u001b[0;34m.\u001b[0m\u001b[0mvalue\u001b[0m\u001b[0;34m[\u001b[0m\u001b[0mk\u001b[0m\u001b[0;34m]\u001b[0m\u001b[0;34m)\u001b[0m\u001b[0;34m\u001b[0m\u001b[0m\n\u001b[0m\u001b[1;32m     27\u001b[0m \u001b[0;34m\u001b[0m\u001b[0m\n\u001b[1;32m     28\u001b[0m     \u001b[0mtopic_imaging\u001b[0m \u001b[0;34m=\u001b[0m \u001b[0;34m[\u001b[0m\u001b[0;34m(\u001b[0m\u001b[0mvocab\u001b[0m\u001b[0;34m[\u001b[0m\u001b[0morder\u001b[0m\u001b[0;34m[\u001b[0m\u001b[0mi\u001b[0m\u001b[0;34m]\u001b[0m\u001b[0;34m]\u001b[0m\u001b[0;34m,\u001b[0m \u001b[0mfloat\u001b[0m\u001b[0;34m(\u001b[0m\u001b[0mw\u001b[0m\u001b[0;34m.\u001b[0m\u001b[0mvalue\u001b[0m\u001b[0;34m[\u001b[0m\u001b[0morder\u001b[0m\u001b[0;34m[\u001b[0m\u001b[0mi\u001b[0m\u001b[0;34m]\u001b[0m\u001b[0;34m]\u001b[0m\u001b[0;34m)\u001b[0m\u001b[0;34m)\u001b[0m \u001b[0;32mfor\u001b[0m \u001b[0mi\u001b[0m \u001b[0;32min\u001b[0m \u001b[0mrange\u001b[0m\u001b[0;34m(\u001b[0m\u001b[0mNUM_WORDS\u001b[0m\u001b[0;34m)\u001b[0m\u001b[0;34m]\u001b[0m\u001b[0;34m\u001b[0m\u001b[0m\n",
        "\u001b[0;32m<ipython-input-33-4d29d156c852>\u001b[0m in \u001b[0;36m<lambda>\u001b[0;34m(k)\u001b[0m\n\u001b[1;32m     24\u001b[0m     \u001b[0mtotal_time\u001b[0m \u001b[0;34m=\u001b[0m \u001b[0mtime\u001b[0m\u001b[0;34m.\u001b[0m\u001b[0mtime\u001b[0m\u001b[0;34m(\u001b[0m\u001b[0;34m)\u001b[0m \u001b[0;34m-\u001b[0m \u001b[0mstart\u001b[0m\u001b[0;34m\u001b[0m\u001b[0m\n\u001b[1;32m     25\u001b[0m     \u001b[0mweights\u001b[0m \u001b[0;34m=\u001b[0m \u001b[0msorted\u001b[0m\u001b[0;34m(\u001b[0m\u001b[0mw\u001b[0m\u001b[0;34m.\u001b[0m\u001b[0mvalue\u001b[0m\u001b[0;34m,\u001b[0m \u001b[0mreverse\u001b[0m\u001b[0;34m=\u001b[0m\u001b[0mTrue\u001b[0m\u001b[0;34m)\u001b[0m\u001b[0;34m\u001b[0m\u001b[0m\n\u001b[0;32m---> 26\u001b[0;31m     \u001b[0morder\u001b[0m \u001b[0;34m=\u001b[0m \u001b[0msorted\u001b[0m\u001b[0;34m(\u001b[0m\u001b[0mrange\u001b[0m\u001b[0;34m(\u001b[0m\u001b[0mlen\u001b[0m\u001b[0;34m(\u001b[0m\u001b[0mweights\u001b[0m\u001b[0;34m)\u001b[0m\u001b[0;34m)\u001b[0m\u001b[0;34m,\u001b[0m \u001b[0mreverse\u001b[0m\u001b[0;34m=\u001b[0m\u001b[0mTrue\u001b[0m\u001b[0;34m,\u001b[0m \u001b[0mkey\u001b[0m\u001b[0;34m=\u001b[0m\u001b[0;32mlambda\u001b[0m \u001b[0mk\u001b[0m\u001b[0;34m:\u001b[0m \u001b[0mw\u001b[0m\u001b[0;34m.\u001b[0m\u001b[0mvalue\u001b[0m\u001b[0;34m[\u001b[0m\u001b[0mk\u001b[0m\u001b[0;34m]\u001b[0m\u001b[0;34m)\u001b[0m\u001b[0;34m\u001b[0m\u001b[0m\n\u001b[0m\u001b[1;32m     27\u001b[0m \u001b[0;34m\u001b[0m\u001b[0m\n\u001b[1;32m     28\u001b[0m     \u001b[0mtopic_imaging\u001b[0m \u001b[0;34m=\u001b[0m \u001b[0;34m[\u001b[0m\u001b[0;34m(\u001b[0m\u001b[0mvocab\u001b[0m\u001b[0;34m[\u001b[0m\u001b[0morder\u001b[0m\u001b[0;34m[\u001b[0m\u001b[0mi\u001b[0m\u001b[0;34m]\u001b[0m\u001b[0;34m]\u001b[0m\u001b[0;34m,\u001b[0m \u001b[0mfloat\u001b[0m\u001b[0;34m(\u001b[0m\u001b[0mw\u001b[0m\u001b[0;34m.\u001b[0m\u001b[0mvalue\u001b[0m\u001b[0;34m[\u001b[0m\u001b[0morder\u001b[0m\u001b[0;34m[\u001b[0m\u001b[0mi\u001b[0m\u001b[0;34m]\u001b[0m\u001b[0;34m]\u001b[0m\u001b[0;34m)\u001b[0m\u001b[0;34m)\u001b[0m \u001b[0;32mfor\u001b[0m \u001b[0mi\u001b[0m \u001b[0;32min\u001b[0m \u001b[0mrange\u001b[0m\u001b[0;34m(\u001b[0m\u001b[0mNUM_WORDS\u001b[0m\u001b[0;34m)\u001b[0m\u001b[0;34m]\u001b[0m\u001b[0;34m\u001b[0m\u001b[0m\n",
        "\u001b[0;32m/Users/thekid/anaconda/lib/python2.7/site-packages/numpy/matrixlib/defmatrix.pyc\u001b[0m in \u001b[0;36m__getitem__\u001b[0;34m(self, index)\u001b[0m\n\u001b[1;32m    314\u001b[0m \u001b[0;34m\u001b[0m\u001b[0m\n\u001b[1;32m    315\u001b[0m         \u001b[0;32mtry\u001b[0m\u001b[0;34m:\u001b[0m\u001b[0;34m\u001b[0m\u001b[0m\n\u001b[0;32m--> 316\u001b[0;31m             \u001b[0mout\u001b[0m \u001b[0;34m=\u001b[0m \u001b[0mN\u001b[0m\u001b[0;34m.\u001b[0m\u001b[0mndarray\u001b[0m\u001b[0;34m.\u001b[0m\u001b[0m__getitem__\u001b[0m\u001b[0;34m(\u001b[0m\u001b[0mself\u001b[0m\u001b[0;34m,\u001b[0m \u001b[0mindex\u001b[0m\u001b[0;34m)\u001b[0m\u001b[0;34m\u001b[0m\u001b[0m\n\u001b[0m\u001b[1;32m    317\u001b[0m         \u001b[0;32mfinally\u001b[0m\u001b[0;34m:\u001b[0m\u001b[0;34m\u001b[0m\u001b[0m\n\u001b[1;32m    318\u001b[0m             \u001b[0mself\u001b[0m\u001b[0;34m.\u001b[0m\u001b[0m_getitem\u001b[0m \u001b[0;34m=\u001b[0m \u001b[0mFalse\u001b[0m\u001b[0;34m\u001b[0m\u001b[0m\n",
        "\u001b[0;32m/Users/thekid/anaconda/lib/python2.7/site-packages/numpy/matrixlib/defmatrix.pyc\u001b[0m in \u001b[0;36m__array_finalize__\u001b[0;34m(self, obj)\u001b[0m\n\u001b[1;32m    289\u001b[0m \u001b[0;34m\u001b[0m\u001b[0m\n\u001b[1;32m    290\u001b[0m     \u001b[0;32mdef\u001b[0m \u001b[0m__array_finalize__\u001b[0m\u001b[0;34m(\u001b[0m\u001b[0mself\u001b[0m\u001b[0;34m,\u001b[0m \u001b[0mobj\u001b[0m\u001b[0;34m)\u001b[0m\u001b[0;34m:\u001b[0m\u001b[0;34m\u001b[0m\u001b[0m\n\u001b[0;32m--> 291\u001b[0;31m         \u001b[0mself\u001b[0m\u001b[0;34m.\u001b[0m\u001b[0m_getitem\u001b[0m \u001b[0;34m=\u001b[0m \u001b[0mFalse\u001b[0m\u001b[0;34m\u001b[0m\u001b[0m\n\u001b[0m\u001b[1;32m    292\u001b[0m         \u001b[0;32mif\u001b[0m \u001b[0;34m(\u001b[0m\u001b[0misinstance\u001b[0m\u001b[0;34m(\u001b[0m\u001b[0mobj\u001b[0m\u001b[0;34m,\u001b[0m \u001b[0mmatrix\u001b[0m\u001b[0;34m)\u001b[0m \u001b[0;32mand\u001b[0m \u001b[0mobj\u001b[0m\u001b[0;34m.\u001b[0m\u001b[0m_getitem\u001b[0m\u001b[0;34m)\u001b[0m\u001b[0;34m:\u001b[0m \u001b[0;32mreturn\u001b[0m\u001b[0;34m\u001b[0m\u001b[0m\n\u001b[1;32m    293\u001b[0m         \u001b[0mndim\u001b[0m \u001b[0;34m=\u001b[0m \u001b[0mself\u001b[0m\u001b[0;34m.\u001b[0m\u001b[0mndim\u001b[0m\u001b[0;34m\u001b[0m\u001b[0m\n",
        "\u001b[0;31mKeyboardInterrupt\u001b[0m: "
       ]
      }
     ],
     "prompt_number": 37
    },
    {
     "cell_type": "code",
     "collapsed": false,
     "input": [],
     "language": "python",
     "metadata": {},
     "outputs": []
    }
   ],
   "metadata": {}
  }
 ]
}