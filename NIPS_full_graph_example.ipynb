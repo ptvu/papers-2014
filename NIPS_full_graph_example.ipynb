{
 "metadata": {
  "name": "",
  "signature": "sha256:80eb254550b7cfb5d330c3ceca452d93a9339649db80fc6dd02daeffd45d9572"
 },
 "nbformat": 3,
 "nbformat_minor": 0,
 "worksheets": [
  {
   "cells": [
    {
     "cell_type": "code",
     "collapsed": false,
     "input": [
      "import cPickle as pickle\n",
      "full_graph = pickle.load(open('nips_full_graph.pickle', 'rb'))\n",
      "vocab = [each['query'] for each in full_graph]"
     ],
     "language": "python",
     "metadata": {},
     "outputs": [],
     "prompt_number": 8
    },
    {
     "cell_type": "code",
     "collapsed": false,
     "input": [
      "print len(full_graph)\n",
      "print full_graph[1000]"
     ],
     "language": "python",
     "metadata": {},
     "outputs": [
      {
       "output_type": "stream",
       "stream": "stdout",
       "text": [
        "12419\n",
        "{'query': 'bell', 'feature_query_id': 1000, 'result': {'total_time': 2.6244959831237793, 'topic_imaging': [('recurrent', 1.1904224747654644e-09), ('controller', 1.0596727908254923e-09), ('plant', 7.146219908992619e-10), ('hmm', 5.740115681592497e-10), ('forward', 5.158287390246646e-10), ('student', 3.7933831977819665e-10), ('gamma', 3.26413032246235e-10), ('weigend', 3.2015550804846475e-10), ('teacher', 3.01323914671274e-10), ('obd', 2.888752979550465e-10)], 'num_neg_documents': 1333, 'num_pos_documents': 167}}\n"
       ]
      }
     ],
     "prompt_number": 6
    },
    {
     "cell_type": "code",
     "collapsed": false,
     "input": [
      "query = 'optimization'\n",
      "k = vocab.index(query)\n",
      "full_graph[k]"
     ],
     "language": "python",
     "metadata": {},
     "outputs": [
      {
       "metadata": {},
       "output_type": "pyout",
       "prompt_number": 15,
       "text": [
        "{'feature_query_id': 7774,\n",
        " 'query': 'optimization',\n",
        " 'result': {'num_neg_documents': 1132,\n",
        "  'num_pos_documents': 368,\n",
        "  'topic_imaging': [('algorithm', 0.004521082688926809),\n",
        "   ('neural', 2.996887846862948e-10),\n",
        "   ('variables', 1.310385574752369e-10),\n",
        "   ('recurrent', 1.2513556506540508e-10),\n",
        "   ('weight', 1.0735435000914544e-10),\n",
        "   ('likelihood', 9.307038083394837e-11),\n",
        "   ('distribution', 9.249985348922745e-11),\n",
        "   ('parameter', 8.873120200518728e-11),\n",
        "   ('bound', 8.799654975855498e-11),\n",
        "   ('problem', 7.894394816506225e-11)],\n",
        "  'total_time': 2.5883610248565674}}"
       ]
      }
     ],
     "prompt_number": 15
    },
    {
     "cell_type": "code",
     "collapsed": false,
     "input": [],
     "language": "python",
     "metadata": {},
     "outputs": []
    }
   ],
   "metadata": {}
  }
 ]
}