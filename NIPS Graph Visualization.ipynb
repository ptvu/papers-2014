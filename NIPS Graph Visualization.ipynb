{
 "metadata": {
  "name": "",
  "signature": "sha256:c9f69bf43b8f720419792ebfb010931b1f3ed46861dc2618b2d1296e12e3d908"
 },
 "nbformat": 3,
 "nbformat_minor": 0,
 "worksheets": [
  {
   "cells": [
    {
     "cell_type": "code",
     "collapsed": false,
     "input": [
      "# Import data from graph\n",
      "import cPickle as pickle\n",
      "full_graph = pickle.load(open('nips_full_graph_v3.pickle', 'rb'))\n",
      "index_of = dict([(value['query'], index) for index, value in enumerate(full_graph)])"
     ],
     "language": "python",
     "metadata": {},
     "outputs": [],
     "prompt_number": 1
    },
    {
     "cell_type": "code",
     "collapsed": false,
     "input": [
      "l = []\n",
      "for each in full_graph:\n",
      "    if 'result' in each:\n",
      "        l.append(each['result']['total_time'])\n",
      "import numpy\n",
      "print numpy.mean(l)\n",
      "print numpy.std(l)"
     ],
     "language": "python",
     "metadata": {},
     "outputs": [
      {
       "output_type": "stream",
       "stream": "stdout",
       "text": [
        "1.4552137516\n",
        "0.840676101194\n"
       ]
      }
     ],
     "prompt_number": 2
    },
    {
     "cell_type": "code",
     "collapsed": false,
     "input": [
      "seed = 'text'\n",
      "full_graph[index_of[seed]]"
     ],
     "language": "python",
     "metadata": {},
     "outputs": [
      {
       "metadata": {},
       "output_type": "pyout",
       "prompt_number": 46,
       "text": [
        "{'feature_query_id': 11190,\n",
        " 'query': 'text',\n",
        " 'result': {'num_neg_documents': 1307,\n",
        "  'num_pos_documents': 193,\n",
        "  'topic_imaging': [('system', 0.0033924658802024187),\n",
        "   ('cell', 0.0032697079065748414),\n",
        "   ('set', 0.002646243878206731),\n",
        "   ('data', 0.002534977315954435),\n",
        "   ('training', 0.001984679334919202),\n",
        "   ('input', 0.001512627928934791),\n",
        "   ('algorithm', 0.0013511708736749762),\n",
        "   ('image', 0.0013212066084563794),\n",
        "   ('recognition', 0.0012642352160021448),\n",
        "   ('model', 0.0009034698942138871)],\n",
        "  'total_time': 1.3236279487609863}}"
       ]
      }
     ],
     "prompt_number": 46
    },
    {
     "cell_type": "code",
     "collapsed": false,
     "input": [
      "# Do BFS and get partial nodes to draw\n",
      "from collections import deque\n",
      "import networkx as nx\n",
      "\n",
      "q = deque([full_graph[index_of[seed]]])\n",
      "n_nodes = 12\n",
      "g = nx.Graph()\n",
      "g.add_node(seed, node_color='r')\n",
      "\n",
      "visited = {}\n",
      "while len(q) != 0 and n_nodes >= 0:\n",
      "    top = q.popleft()\n",
      "    if top['query'] in visited:\n",
      "        continue\n",
      "    visited[top['query']] = True\n",
      "    n_nodes -= 1\n",
      "    for neighbor, weight in top['result']['topic_imaging'][:4]:\n",
      "        if neighbor == top['query']:\n",
      "            continue\n",
      "        g.add_edge(top['query'], neighbor)\n",
      "        q.append(full_graph[index_of[neighbor]])\n",
      "print(\"Done\")\n",
      "print len(g.nodes()), len(g.edges())\n",
      "\n",
      "print(\"Rendering...\")\n",
      "nx.write_dot(g,\"nips_graph.dot\")\n",
      "print(\"Done\")\n",
      "from subprocess import check_output\n",
      "out = check_output([\"sfdp -Tpng -Nstyle=filled -Nfillcolor=white -Ecolor=#00000020 -Gratio=fill -Goutputorder=edgesfirst -Goverlap=prism -Nfontsize=50 nips_graph.dot -o nips_graph_%s.png\" % seed], shell=True)\n",
      "print out"
     ],
     "language": "python",
     "metadata": {},
     "outputs": [
      {
       "output_type": "stream",
       "stream": "stdout",
       "text": [
        "Done\n",
        "15 31\n",
        "Rendering...\n",
        "Done\n"
       ]
      },
      {
       "output_type": "stream",
       "stream": "stdout",
       "text": [
        "\n"
       ]
      }
     ],
     "prompt_number": 49
    },
    {
     "cell_type": "code",
     "collapsed": false,
     "input": [
      "# Command: sfdp -Tpng -Nstyle=filled -Nfillcolor=white -Ecolor=#00000020 -Gratio=fill -Goutputorder=edgesfirst -Goverlap=prism -size=50 nips_graph.dot -o nips_graph.png "
     ],
     "language": "python",
     "metadata": {},
     "outputs": [],
     "prompt_number": 53
    },
    {
     "cell_type": "heading",
     "level": 1,
     "metadata": {},
     "source": [
      "Clustering"
     ]
    },
    {
     "cell_type": "code",
     "collapsed": false,
     "input": [
      "seed = 'text'\n",
      "from collections import deque\n",
      "import networkx as nx\n",
      "\n",
      "q = deque([full_graph[index_of[seed]]])\n",
      "g = nx.Graph()\n",
      "g.add_node(seed, node_color='r')\n",
      "\n",
      "n_nodes = 15\n",
      "visited = {}\n",
      "visited[seed] = True\n",
      "while len(q) != 0 and n_nodes >= 0:\n",
      "    top = q.popleft()\n",
      "    for neighbor, weight in top['result']['topic_imaging']:\n",
      "        if abs(weight) < 1e-8:\n",
      "            continue\n",
      "        if neighbor == top['query']:\n",
      "            continue\n",
      "        g.add_edge(top['query'], neighbor)\n",
      "        if not neighbor in visited:\n",
      "            n_nodes -= 1\n",
      "            visited[neighbor] = True\n",
      "            q.append(full_graph[index_of[neighbor]])\n",
      "print len(g.nodes()), len(g.edges()), g.nodes()\n",
      "\n",
      "print(\"Rendering...\")\n",
      "nx.write_dot(g,\"nips_cluster.dot\")\n",
      "print(\"Done\")\n",
      "from subprocess import check_output\n",
      "out = check_output([\"sfdp -Tpng -Nstyle=filled -Nfillcolor=white -Ecolor=#00000020 -Gratio=fill -Goutputorder=edgesfirst -Goverlap=prism -Nfontsize=50 nips_cluster.dot -o nips_sparse_%s.png\" % seed], shell=True)\n",
      "print out"
     ],
     "language": "python",
     "metadata": {},
     "outputs": [
      {
       "output_type": "stream",
       "stream": "stdout",
       "text": [
        "20 27 ['information', 'training', 'set', 'algorithm', 'neural', 'text', 'image', 'neuron', 'direction', 'system', 'object', 'cell', 'field', 'visual', 'vector', 'input', 'model', 'data', 'motion', 'recognition']\n",
        "Rendering...\n",
        "Done\n"
       ]
      },
      {
       "output_type": "stream",
       "stream": "stdout",
       "text": [
        "\n"
       ]
      }
     ],
     "prompt_number": 53
    },
    {
     "cell_type": "code",
     "collapsed": false,
     "input": [],
     "language": "python",
     "metadata": {},
     "outputs": []
    }
   ],
   "metadata": {}
  }
 ]
}