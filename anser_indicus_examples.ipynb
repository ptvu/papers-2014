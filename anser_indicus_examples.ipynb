{
 "metadata": {
  "name": "",
  "signature": "sha256:3bedbe685e44377a4c889b4a1b382323d58692c16d1a08fb6c08fd0eec993c60"
 },
 "nbformat": 3,
 "nbformat_minor": 0,
 "worksheets": [
  {
   "cells": [
    {
     "cell_type": "code",
     "collapsed": false,
     "input": [
      "import anser_indicus"
     ],
     "language": "python",
     "metadata": {},
     "outputs": [
      {
       "output_type": "stream",
       "stream": "stdout",
       "text": [
        "===== Using AnserIndicus Version 1.1.12 =====\n"
       ]
      }
     ],
     "prompt_number": 1
    },
    {
     "cell_type": "code",
     "collapsed": false,
     "input": [
      "from anser_indicus.data.queryable_database import QueryableDatabase\n",
      "qdb = QueryableDatabase(\"aljazeera\")\n",
      "from anser_indicus.data.queryable_database import Selection, KeywordSelection\n",
      "s = Selection()\n",
      "s += KeywordSelection(\"iraq\")\n",
      "s -= KeywordSelection(\"iran\")\n",
      "s += KeywordSelection([\"obama\", \"romney\"])\n",
      "qdb.select(s)\n"
     ],
     "language": "python",
     "metadata": {},
     "outputs": [],
     "prompt_number": 2
    },
    {
     "cell_type": "code",
     "collapsed": false,
     "input": [
      "from anser_indicus.preprocessing.sparse_matrix import SparseMatrix\n",
      "sm = SparseMatrix()\n",
      "sm.attach_database(\"aljazeera\")\n",
      "sm.load_from_iterator(qdb.iterate_selection())\n",
      "print sm.mat.shape"
     ],
     "language": "python",
     "metadata": {},
     "outputs": [
      {
       "output_type": "stream",
       "stream": "stdout",
       "text": [
        "attaching database aljazeera\n",
        "(670, 5981)"
       ]
      },
      {
       "output_type": "stream",
       "stream": "stdout",
       "text": [
        "\n"
       ]
      }
     ],
     "prompt_number": 3
    },
    {
     "cell_type": "code",
     "collapsed": false,
     "input": [
      "s1 = Selection()\n",
      "s1 += KeywordSelection(\"iraq\")\n",
      "s1 -= KeywordSelection(\"iran\")\n",
      "s2 = Selection()\n",
      "s2 += KeywordSelection(\"iran\")\n",
      "s2 -= KeywordSelection(\"iraq\")\n",
      "qdb.select(s1, classlabel=1)\n",
      "qdb.select(s2, classlabel=-1, dontclear=True)\n",
      "sm = SparseMatrix()\n",
      "sm.attach_database(\"aljazeera\")\n",
      "sm.load_from_iterator(qdb.iterate_selection())\n",
      "y = sm.load_classification_vector(qdb.iterate_selection_classes())"
     ],
     "language": "python",
     "metadata": {},
     "outputs": [
      {
       "output_type": "stream",
       "stream": "stdout",
       "text": [
        "attaching database aljazeera\n"
       ]
      }
     ],
     "prompt_number": 6
    },
    {
     "cell_type": "code",
     "collapsed": false,
     "input": [
      "print y.shape"
     ],
     "language": "python",
     "metadata": {},
     "outputs": [
      {
       "output_type": "stream",
       "stream": "stdout",
       "text": [
        "(557, 1)\n"
       ]
      }
     ],
     "prompt_number": 7
    },
    {
     "cell_type": "code",
     "collapsed": false,
     "input": [
      "print y[0]"
     ],
     "language": "python",
     "metadata": {},
     "outputs": [
      {
       "output_type": "stream",
       "stream": "stdout",
       "text": [
        "[ 1.]\n"
       ]
      }
     ],
     "prompt_number": 8
    },
    {
     "cell_type": "code",
     "collapsed": false,
     "input": [
      "print y[-1]"
     ],
     "language": "python",
     "metadata": {},
     "outputs": [
      {
       "output_type": "stream",
       "stream": "stdout",
       "text": [
        "[-1.]\n"
       ]
      }
     ],
     "prompt_number": 9
    },
    {
     "cell_type": "code",
     "collapsed": false,
     "input": [
      "from anser_indicus.analytics.sparse_low_rank import run_spca\n",
      "topics = run_spca(sm.mat, center=\"row\", n_topics=2, card_terms=8, card_docs=16)"
     ],
     "language": "python",
     "metadata": {},
     "outputs": [
      {
       "output_type": "stream",
       "stream": "stdout",
       "text": [
        "COMPUTING TOPIC 0\n",
        "COMPUTING TOPIC"
       ]
      },
      {
       "output_type": "stream",
       "stream": "stdout",
       "text": [
        " 1\n"
       ]
      }
     ],
     "prompt_number": 12
    },
    {
     "cell_type": "code",
     "collapsed": false,
     "input": [
      "print topics"
     ],
     "language": "python",
     "metadata": {},
     "outputs": [
      {
       "output_type": "stream",
       "stream": "stdout",
       "text": [
        "[((array([252, 253, 258, 269, 313, 321, 360, 371, 390, 402, 435, 475, 479,\n",
        "       499, 547, 548], dtype=int32), array([  5.29938999e+257,   4.78600057e+257,   7.79900565e+257,\n",
        "         9.39171454e+257,   5.05998024e+257,   8.22489370e+257,\n",
        "         7.57373980e+257,   8.13755644e+257,   8.01114653e+257,\n",
        "         6.61473002e+257,   6.75706503e+257,   5.33920346e+257,\n",
        "         5.66005705e+257,   1.27335339e+258,   4.91764523e+257,\n",
        "         1.54976277e+258])), (array([ 637,  685, 2795, 2946, 3015, 3185, 2170], dtype=int32), array([  1.84282708e+259,   1.83179546e+259,   3.98957760e+259,\n",
        "         1.24795132e+259,   3.16710402e+259,   2.29661585e+259,\n",
        "         1.59161483e+259]))), ((array([503, 208, 190, 106, 518, 480, 397, 324, 219, 213, 202, 200, 194,\n",
        "        68,  27,  16], dtype=int32), array([  3.24839578e+272,   4.51334240e+272,   5.21676072e+272,\n",
        "         4.10341107e+272,   2.67666862e+272,   1.27092878e+273,\n",
        "         3.25514455e+272,   2.27582685e+272,   1.78164188e+273,\n",
        "         3.11733080e+272,   3.26235673e+273,   3.57112575e+272,\n",
        "         3.06254453e+272,   2.85453726e+272,   2.85453726e+272,\n",
        "         3.47556174e+272])), (array([  68,   76,  361,  969, 1592, 1816, 2679, 2812], dtype=int32), array([  4.08536183e+274,   2.55134285e+274,   3.31161689e+274,\n",
        "         2.31989248e+274,   2.25187208e+274,   2.43715398e+274,\n",
        "         2.51922570e+274,   6.36352813e+274])))]\n"
       ]
      }
     ],
     "prompt_number": 13
    },
    {
     "cell_type": "code",
     "collapsed": false,
     "input": [
      "topic1 = topics[0]\n",
      "topic1[0][0]\n",
      "print topic1[0][0]"
     ],
     "language": "python",
     "metadata": {},
     "outputs": [
      {
       "output_type": "stream",
       "stream": "stdout",
       "text": [
        "[252 253 258 269 313 321 360 371 390 402 435 475 479 499 547 548]\n"
       ]
      }
     ],
     "prompt_number": 14
    },
    {
     "cell_type": "code",
     "collapsed": false,
     "input": [
      "print topic1[1][0]"
     ],
     "language": "python",
     "metadata": {},
     "outputs": [
      {
       "output_type": "stream",
       "stream": "stdout",
       "text": [
        "[ 637  685 2795 2946 3015 3185 2170]\n"
       ]
      }
     ],
     "prompt_number": 15
    },
    {
     "cell_type": "code",
     "collapsed": false,
     "input": [
      "print sm.lookup_terms(topic1[1][0])"
     ],
     "language": "python",
     "metadata": {},
     "outputs": [
      {
       "output_type": "stream",
       "stream": "stdout",
       "text": [
        "[u'iranian', u'programme', u'iran', u'ahmadinejad', u'nuclear', u'tehran', u'sanctions']\n"
       ]
      }
     ],
     "prompt_number": 16
    },
    {
     "cell_type": "code",
     "collapsed": false,
     "input": [
      "sm.lookup_docs(topic1[0][0])"
     ],
     "language": "python",
     "metadata": {},
     "outputs": [
      {
       "metadata": {},
       "output_type": "pyout",
       "prompt_number": 19,
       "text": [
        "[{u'content': u'Iran will not retreat \"an iota\" from its nuclear programme and the world is being misled by claims that it is seeking nuclear weapons, Iranian President Mahmoud Ahmadinejad has said. Ahmadinejad was speaking on Wednesday in response to a report from the International Atomic Energy Agency (IAEA), the UN nuclear watchdog, which alleged that Iran was close to developing a nuclear warhead.',\n",
        "  u'time': 1320796800},\n",
        " {u'content': u'The UN nuclear watchdog has expressed concern about Iran\\'s nuclear activities in a new report detailing what it calls \"credible\" information that Tehran may have worked on developing nuclear weapons. In the report, published on Tuesday, the International Atomic Energy Agency (IAEA) said: \"The agency has serious concerns regarding possible military dimensions to Iran\\'s nuclear programme.',\n",
        "  u'time': 1320796800},\n",
        " {u'content': u'China and Russia share the US\\' objective of ensuring Iran does not make weapons via its nuclear programme and Washington will consult with them on how to achieve that, US President Barack Obama said at the conclusion of a summit of Pacific rim nations in Hawaii. At a press conference after the Asia-Pacific Economic Cooperation (APEC) summit on Sunday, Obama said Russia and China shared Washington\\u2019s goal of making sure Iran doesn\\u2019t build nuclear weapons. But both countries have said they oppose new sanctions. \"We will be consulting with them carefully over the next several weeks to look at what other options we have available to us,\" Obama said. Defending his efforts to contain Iran\\'s nuclear ambitions, he said economic sanctions against Tehran have had \"enormous bite,\\'\\' and he would consult with other nations on additional steps to ensure that Iran did not acquire an atomic weapon. The US president added that his strong preference was to resolve the Iran issue diplomatically but he was \"not taking any options off the table.\"',\n",
        "  u'time': 1321228800},\n",
        " {u'content': u'Britain has ordered the immediate closure of Iran\\'s embassy in London and closed its own embassy in Tehran after it was stormed by protesters . \"The Iranian charge [d\\'affaires] in London is being informed now that we require the immediate closure of the Iranian embassy in London and that all Iranian diplomatic staff must leave the United Kingdom within the next 48 hours,\" British Foreign Minister William Hague told parliament on Wednesday. \"We have now closed the British embassy in Tehran. We have decided to evacuate all our staff and as of the last few minutes, the last of our UK-based staff have now left Iran.\" Hague also announced that Iranian ambassadors had been summoned in countries across Europe to receive strong protests over the storming of the embassy. Al Jazeera\\'s Andrew Simmons, reporting from London, said the move amounted to a \"firm warning\" to Tehran. It marks \"a complete split in diplomatic relations, not cut off completely but [downgraded to] the lowest level,\" Simmons said. British response \\'hasty\\' Iran\\'s foreign ministry, meanwhile, said shortly after Hague\\'s announcement that the move to close the embassy was \"hasty\" and that Iran would be taking \"further appropriate action\", according to state television reports. Britain has voiced outrage over the ransacking of its diplomatic premises in Tehran on Tuesday by hardline students and Basij armed men in revenge for new British and Western sanctions over Iran\\'s nuclear programme.',\n",
        "  u'time': 1322697600},\n",
        " {u'content': u'Iran has accused the European Union of waging \"psychological warfare\" after the bloc banned imports of Iranian oil over Tehran\\'s controversial nuclear programme. The oil ban, which was approved at a meeting in Brussels on Monday, along with sanctions against Iran\\'s central bank and other measures, came as Western powers stepped up pressure on Iran to return to negotiations amid concerns that it is moving closer to building nuclear weapons.',\n",
        "  u'time': 1327363200},\n",
        " {u'content': u'Iran\\'s parliament has summoned President Mahmoud Ahmadinejad for questioning over a long list of accusations including mismanagement of the nation\\'s economy. The summons was the first of its kind for an Iranian president since 1979. It follows a petition by a group of legislators for a review of policy decisions by Ahmadinejad, who has come under increasing attacks in recent months from the same people who brought him to power. It is also part of a power struggle on the Iranian political scene ahead of March 2 parliamentary elections and the 2013 presidential vote. Mohammad Reza Bahnoar, the parliament deputy speaker, on Tuesday said lawmakers have demanded that Ahmadinejad answer a slew of questions on the economy, including purportedly bypassing a special budget for the Tehran subway and public transportation. He is also to be queried about foreign and domestic policy decisions. \"There is a requirement for the president to answer questions in an open session of the parliament,\" said Bahnoar, whose parliament speech was broadcast live on Iranian state radio. A letter containing the summons is to be sent to Ahmadinejad in next two days, according to the parliament statement. Under Iranian law, he has up to appear in parliament after one month. It is unclear what would happen if Ahmadinejad fails to appear before parliament. Ahmadinejad will also be asked why he \"hesitated for 11 days\" to act on a demand Supreme Leader Ayatollah Ali Khamenei to reinstate intelligence minister, Heidar Moslehi, who was sacked by Ahmadinejad in 2011, and to elaborate on his snap dismissal of former foreign minister, Manouchehr Mottaki, during a trip to Africa. The power struggle has pitted Ahmadinejad against Khamenei, who has final say on all state matters in Iran. Ahmadinejad and his policies have been the target of criticism by legislators, clerics as well as state-run media. Other questions that will be put to the president include those about Iran\\'s slacking economic growth, and why his administration failed to promote the Islamic dress code that calls for women to wear the traditional veil. Legislators behind the initiative allege Ahmadinejad promoted Iranian nationalism instead of Islamic values. According to the statement, Ahmadinejad is also to explain his ties to Esfandiar Rahim Mashaei, whose daughter is married to the president\\'s son. Ahmadinejad\\'s opponents content he is trying to push Mashei for president after his own term expires next year.',\n",
        "  u'time': 1328572800},\n",
        " {u'content': u'Iran has been largely cut off from global commerce after the company that handles worldwide financial transactions said it was severing ties with many Iranian banks to back European Union sanctions against Tehran. The action on Thursday by the Society for Worldwide Interbank Financial Telecommunication (SWIFT) aims to enforce EU sanctions discouraging Tehran from developing nuclear weapons. It will go a long way toward isolating Iran financially. SWIFT is a banking hub crucial to oil, financial transactions and other trades and global financial transactions are impossible to conduct without using it. Because of its reach, SWIFT\\'s decision to cut off some 30 Iranian banks and subsidiaries could hinder not only banking but also the country\\'s lucrative crude oil industry and possibly hurt Iranian households that depend on remittances from relatives living abroad. \"Disconnecting banks is an extraordinary and unprecedented step for SWIFT,\\'\\' said Lazaro Campos, chief executive of the company. \"It is a direct result of international and multilateral action to intensify financial sanctions against Iran.\\'\\' The announcements coincided with news that major money exchange houses in the United Arab Emirates, an important trading hub for Iran, have stopped handling the Iranian currency over the last several weeks.',\n",
        "  u'time': 1331942400},\n",
        " {u'content': u'Iran and Western powers have agreed to hold another round of talks on Tehran\\u2019s nuclear programme after a meeting in the Turkish city of Istanbul that was described as \"useful\" and \"constructive\". Catherine Ashton, the European Union\\'s foreign policy chief, told reporters the five permanent members of the United Nations Security Council and Germany would meet the Iranian delegation again in the Iraqi capital Baghdad on May 23. The West suspects that Iran is enriching uranium to build a nuclear bomb, but Tehran says its nuclear programme is for civilian purposes only. Ashton said the talks on Saturday, the first since the collapse of similar negotiations in early 2011, were a step towards a \"sustained process of serious dialogue\". \"We expect that subsequent meetings will lead to concrete steps towards a comprehensive negotiated solution, which restores international confidence in the exclusively peaceful nature of the Iranian nuclear programme,\" she said. Ashton said that the next round of talks would be preceded by a preparatory meeting of deputies. Earlier, a diplomat close to the negotiations had described Saturday\\'s talks as \"completely different\" from previous meetings, with no pre-conditions set by the Iranian delegation. The diplomat said Saeed Jalili, the leader of the Iranian delegation, steered clear of the preconditions he had set at the last meeting in early 2011. \"He seems to have come with an objective to get into a process which is a serious process, which is about what we want to talk about,\" said the envoy, who spoke on condition of anonymity. \"I would say it has been a useful morning\\'s work.\" Another diplomat, who also requested anonymity, described the atmosphere as \"positive\".',\n",
        "  u'time': 1334361600},\n",
        " {u'content': u\"Iran and six world powers have started talks aimed at defusing the long-running escalating crisis over Tehran's nuclear programme, an official said. The P5+1 powers - the US, Russia, China, Britain, France and Germany - hope to persuade Iran in Wednesday's negotiations to suspend some of the most worrying parts of its activities but Tehran wants to see sanctions eased in return. Iran is represented by Saeed Jalili, the lead negotiator, while the delegation from the six world powers is led by Catherine Ashton, the European Union foreign-policy head. The talks come a day after the head of the UN nuclear watchdog visited Iran and said he expected to sign a deal with Tehran on investigating suspected weapons activities connected to the country's nuclear programme.\",\n",
        "  u'time': 1337731200},\n",
        " {u'content': u'Iran\\'s supreme leader has accused the West of lying about his country\\'s nuclear plans in order to cover up their own problems and warned Israel that any attack on his country would be answered with a \"thunderous blow\". In an address on Sunday to mark the 23rd anniversary of the death of his predecessor Ruhollah Khomeini, Ayatollah Ali Khamenei gave no indication he was ready to compromise on Iran\\u2019s nuclear programme in talks with world powers. \"What Americans and westerners do is idiotic. They magnify the nuclear issue to cover up their own problems,\" Khamenei said, referring to the economic gloom in the US and Europe. \"They are deceitfully using the term nuclear weapons.\" During his address, Khamenei said that sanctions were not hampering Iran and were \"deepening Iran\\'s hatred towards the West\". Israeli talk of military strikes showed it felt vulnerable after the fall of former Egyptian President Hosni Mubarak, a US and western ally, last year, Khamenei said. \"If they take any miscalculated action, they will receive a thunderous blow.\"',\n",
        "  u'time': 1338768000},\n",
        " {u'content': u'Mitt Romney, the presumptive US Republican presidential nominee, has held high-level talks in Israel about how to handle fears over Iran\\'s nuclear ambitions, on a visit aimed at burnishing his foreign policy credentials. \"Like you, we are very concerned about the development of nuclear capabilities on the part of Iran and feel it is unacceptable for Iran to become a nuclear-armed nation,\" Romney said after meeting President Shimon Peres on Sunday. \"The threat it would pose to Israel, the region and the world is incomparable and unacceptable.\" Romney would support Israel if it were to decide it had to use military force to stop Iran from developing a nuclear weapon, a senior aide said ahead of the planned meetings in Jerusalem. \"If Israel has to take action on its own, in order to stop Iran from developing that capability, the governor would respect that decision,\" Dan Senor, Romney\\'s senior national security aide, told reporters travelling with the candidate.',\n",
        "  u'time': 1343520000},\n",
        " {u'content': u'Barack Obama, the US president, has addressed the UN general assembly in New York, where he said that he wants to resolve the dispute over Iran\\'s nuclear programme through diplomacy but that the time to do so is \"not unlimited\". Obama said in his speech to world leaders on Tuesday that Iran has repeatedly failed to demonstrate that its nuclear programme is peaceful and has failed to meet its obligations to the United Nations. He also said the Iranian government has been propping up the dictatorship in Syria and supporting terrorist groups abroad. \"The United States will do what we must to prevent Iran from obtaining a nuclear weapon,\\'\\' the president said. This is Obama\\'s final international address before the November elections. He also insisted there has been \"progress\" since the Arab Spring but said the recent turmoil in the Muslim world showed the hard task of achieving true democracy. \"The events of the last two weeks speak to the need for all of us to address honestly the tensions between the West and an Arab World moving to democracy,\" Obama said. Syria \\'calamity\\' Opening the meeting on Tuesday, UN Secretary-General Ban Ki-moon described the fighting in Syria as \"a regional calamity with global ramifications\". \"It is the duty of our generation to put an end to impunity for international crimes in Syria and elsewhere. \"',\n",
        "  u'time': 1348617600},\n",
        " {u'content': u'Binyamin Netanyahu, the Israeli prime minister, said the only way to prevent Iran from acquiring nuclear weapons was by setting \"a clear red line\" to stop its atomic programme. \"At this late hour, there is only one way to peacefully prevent Iran from getting atomic bombs and that\\'s by placing a clear red line on Iran\\'s nuclear weapons programme,\" Netanyahu said in a speech at the UN General Assembly on Thursday. \"Red lines don\\'t lead to war; red lines prevent war.\" \\'World\\'s future at stake\\' Mark Regev, spokesperson for the Israeli prime minister\\'s office, told Al Jazeera: \"Do we just let the clock tick itself out? No, we establish a clear red line. That\\'s the way to maintain the peace, and make war further distant.\" He added: \"Obviously in the framework for today with an extremely radical regime in Tehran ... It\\'s not about Israel, as our Arab neighbours share our concerns.\" During his speech, Netanyahu alleged Iran was already 70 per cent of the way through the process of enriching enough uranium to fuel a bomb, and must be prevented from reaching the 90 per cent level.',\n",
        "  u'time': 1348790400},\n",
        " {u'content': u'Binyamin Netanyahu, Israel\\'s prime minister, has won pledges from Francois Hollande, the French president, to keep Iran from developing nuclear weapons. Netanyahu visited Paris on Wednesday and praised France for the pressure it has put on Iran and called for \"even tougher sanctions\" than the ones currently in place. But the prime minister had no sympathy for any possible Israeli military strike against Tehran. Netanyahu has previously warned that his government would strike Iranian nuclear facilities as sanctions have not stopped Tehran\\'s quest for developing an atomic bomb. Iran insists its nuclear programme is intended for generating power and is not meant for military use. Hollande said he wanted \"concrete acts and gestures\" from Iran to show it was not pursuing nuclear arms, adding that he would back \"other sanctions\" if Tehran failed to do so. Netenyahu said: \"The sanctions are taking a bite out of Iran\\'s economy ... unfortunately they have not stopped the Iranian [nuclear] programme.\"',\n",
        "  u'time': 1351641600},\n",
        " {u'content': u'John Kerry, the newly-appointed US secretary of state, has described recent developments in Iran\\'s nuclear programme as disturbing and concerning for the United States. Speaking at his first press conference since being confirmed as secretary of state on Friday, Kerry said Tehran must address the concerns of the international community at talks in Kazakhstan at the end of of this month. \"The international community is ready to respond if Iran comes prepared to talk, real substance and to address concerns that could not be more clear about their nuclear programme. If they don\\'t then they will choose to leave themselves more isolated\", he said. Kerry\\'s comments come amid growing frustration with UN sanctions in the Islamic Republic. A new Gallup poll has shown that the Iranian people are increasingly baring the economic brunt of the US-backed Western sanctions against their nation.',\n",
        "  u'time': 1360368000},\n",
        " {u'content': u'Hundreds of thousands of people have marched through the Iranian capital and other cities chanting \"Death to America\" as Iran marked the 34th anniversary of the Islamic revolution that toppled the US-backed Shah. In Tehran, crowds waving Iranian flags and portraits of revolutionary leader Ayatollah Ruhollah Khomeini walked towards the landmark Azadi [Freedom] Square, in a government-sponsored rally on Sunday. Marchers also chanted \"Death to Israel\" as they headed for the square, some waving posters of supreme leader Ayatollah Ali Khamenei. President Mahmoud Ahmadinejad told the crowds in the square that Iran was now a \"nuclear state\" and added that Western countries were hampering genuine reform in the country. \"Iran has become nuclear, and so Iran\\'s enemies are unhappy,\" he told cheering crowds. Iran also held similar rallies nationwide, especially in large provincial capitals such as Mashhad, Isfahan, Shiraz and Kerman. At the Tehran rally, foreign media were being closely monitored and allowed to cover the event from officially designated areas only. The rally marks February 11 when the army declared solidarity with the people, turning its back on Shah Mohammad Reza Pahlavi. Ten days beforehand, Khomeini returned in triumph from exile in France to lead the revolutionaries to power. Tehran is currently under a series of international sanctions aimed at curbing its controversial nuclear programme of uranium enrichment. World powers and Iran\\'s arch regional foe Israel suspect that Tehran is trying to develop atomic weapons under the cover of its civilian programme, a charge repeatedly and vehemently denied by the Islamic republic. The sanctions have led to a severe economic crisis, hindering Iran\\'s banking system and limiting its oil exports, the country\\'s main foreign revenue earner. According to a recent survey by the US polling firm Gallup, Iran\\'s nuclear programme is supported by a large majority of its population.',\n",
        "  u'time': 1360454400}]"
       ]
      }
     ],
     "prompt_number": 19
    },
    {
     "cell_type": "code",
     "collapsed": false,
     "input": [],
     "language": "python",
     "metadata": {},
     "outputs": []
    }
   ],
   "metadata": {}
  }
 ]
}