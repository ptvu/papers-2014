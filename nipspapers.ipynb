{
 "metadata": {
  "name": ""
 },
 "nbformat": 3,
 "nbformat_minor": 0,
 "worksheets": [
  {
   "cells": [
    {
     "cell_type": "code",
     "collapsed": false,
     "input": [
      "from bs4 import BeautifulSoup\n",
      "import urllib2, os\n",
      "from bs4 import BeautifulSoup as Soup"
     ],
     "language": "python",
     "metadata": {},
     "outputs": [],
     "prompt_number": 4
    },
    {
     "cell_type": "code",
     "collapsed": false,
     "input": [
      "html = urllib2.urlopen('http://papers.nips.cc/').read()\n",
      "conf_year = Soup(html)\n",
      "years = conf_year.findAll('li')[1::]\n",
      "for yr in years:\n",
      "    html = urllib2.urlopen('http://papers.nips.cc' + yr.findAll('a')[0].get('href')).read()\n",
      "    year = yr.findAll('a')[0].get('href')[-4::]\n",
      "    print(\"On year \"+year)\n",
      "    if not os.path.exists(\"/Users/thekid/Desktop/nips/\" + year):\n",
      "        os.makedirs(\"/Users/thekid/Desktop/nips/\" + year)\n",
      "    page = Soup(html)\n",
      "    papers = page.findAll('li')[1::]\n",
      "    for paper in papers:\n",
      "        link = paper.findAll('a')[0].get('href')\n",
      "        name = paper.findAll('a')[0].renderContents()\n",
      "        name = name.lower().replace(' ', '-')\n",
      "        print link\n",
      "        if link.startswith('/paper/'):\n",
      "            name = link[len('/paper/') : ]\n",
      "        print(\"on pdf \" + name)\n",
      "        u = urllib2.urlopen('http://papers.nips.cc' + link + '.pdf')\n",
      "        localFile = open(\"/Users/thekid/Desktop/nips/\"+year+ \"/\"+name + \".pdf\", 'w')\n",
      "        localFile.write(u.read())\n",
      "        localFile.close()"
     ],
     "language": "python",
     "metadata": {},
     "outputs": [
      {
       "output_type": "stream",
       "stream": "stdout",
       "text": [
        "On year 2013\n",
        "/paper/5138-the-randomized-dependence-coefficient"
       ]
      },
      {
       "output_type": "stream",
       "stream": "stdout",
       "text": [
        "\n",
        "on pdf 5138-the-randomized-dependence-coefficient\n",
        "/paper/5140-documents-as-multiple-overlapping-windows-into-grids-of-counts"
       ]
      },
      {
       "output_type": "stream",
       "stream": "stdout",
       "text": [
        "\n",
        "on pdf 5140-documents-as-multiple-overlapping-windows-into-grids-of-counts\n",
        "/paper/5055-reciprocally-coupled-local-estimators-implement-bayesian-information-integration-distributively"
       ]
      },
      {
       "output_type": "stream",
       "stream": "stdout",
       "text": [
        "\n",
        "on pdf 5055-reciprocally-coupled-local-estimators-implement-bayesian-information-integration-distributively\n",
        "/paper/5078-latent-maximum-margin-clustering"
       ]
      },
      {
       "output_type": "stream",
       "stream": "stdout",
       "text": [
        "\n",
        "on pdf 5078-latent-maximum-margin-clustering\n",
        "/paper/4943-data-driven-distributionally-robust-polynomial-optimization"
       ]
      },
      {
       "output_type": "stream",
       "stream": "stdout",
       "text": [
        "\n",
        "on pdf 4943-data-driven-distributionally-robust-polynomial-optimization\n"
       ]
      }
     ],
     "prompt_number": 17
    },
    {
     "cell_type": "code",
     "collapsed": false,
     "input": [],
     "language": "python",
     "metadata": {},
     "outputs": []
    }
   ],
   "metadata": {}
  }
 ]
}